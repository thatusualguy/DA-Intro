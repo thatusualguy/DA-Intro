{
  "cells": [
    {
      "cell_type": "markdown",
      "metadata": {
        "id": "bri_pAriNFqN"
      },
      "source": [
        "**Цель работы:**\n",
        "\n",
        "Осуществить предварительную обработку данных csv-файла, выявить и устранить проблемы в этих данных."
      ]
    },
    {
      "cell_type": "markdown",
      "source": [
        "# Загрузка набора данных"
      ],
      "metadata": {
        "id": "r_e-GeJmgZ8l"
      }
    },
    {
      "cell_type": "markdown",
      "source": [
        "### Описание предметной области"
      ],
      "metadata": {
        "id": "eeq9ZAbSguQS"
      }
    },
    {
      "cell_type": "markdown",
      "source": [
        "Вариант №...\n",
        "\n",
        "Набор данных: ....\n",
        "\n",
        "Атрибуты:\n",
        "..."
      ],
      "metadata": {
        "id": "XHbH8zNIg0Ib"
      }
    },
    {
      "cell_type": "markdown",
      "source": [
        "### 1.Чтение файла (набора данных)"
      ],
      "metadata": {
        "id": "Lwin9ia7hT1i"
      }
    },
    {
      "cell_type": "code",
      "source": [
        "# импорт библиотек, чтение файла с помощью pandas"
      ],
      "metadata": {
        "id": "a5dYQO5YhOYa"
      },
      "execution_count": null,
      "outputs": []
    },
    {
      "cell_type": "markdown",
      "source": [
        "### 2. Обзор данных"
      ],
      "metadata": {
        "id": "p82p53SvhjLN"
      }
    },
    {
      "cell_type": "markdown",
      "source": [
        "2.1 Вывод первых 20 строк с помощью метода head."
      ],
      "metadata": {
        "id": "eAYzXaLrh-qh"
      }
    },
    {
      "cell_type": "code",
      "source": [
        "# применить метод head"
      ],
      "metadata": {
        "id": "7yMo3VZ_hotx"
      },
      "execution_count": null,
      "outputs": []
    },
    {
      "cell_type": "markdown",
      "source": [
        "2.2 Оценка данных с помощью метода info."
      ],
      "metadata": {
        "id": "Ze-lXxLMhpWv"
      }
    },
    {
      "cell_type": "code",
      "source": [
        "# выполнит метод info"
      ],
      "metadata": {
        "id": "bjhngmaLiGM-"
      },
      "execution_count": null,
      "outputs": []
    },
    {
      "cell_type": "markdown",
      "source": [
        "2.3 Оценка данных с помощью метода describe."
      ],
      "metadata": {
        "id": "06PDq9DAiMAY"
      }
    },
    {
      "cell_type": "code",
      "source": [
        "# оцените числовые столбцы с помощью describe"
      ],
      "metadata": {
        "id": "cTVFwzO1jQfN"
      },
      "execution_count": null,
      "outputs": []
    },
    {
      "cell_type": "markdown",
      "source": [
        "\n",
        "---\n",
        "\n",
        "**Сделать выводы. Вы должны понимать, что означает тот или иной столбец, чтобы\n",
        " ответить на вопросы на защите.**\n",
        "\n",
        "\n",
        " ---\n"
      ],
      "metadata": {
        "id": "oOZUrZGuiGqc"
      }
    },
    {
      "cell_type": "markdown",
      "source": [
        " 2.4 Оценка названий столбцов"
      ],
      "metadata": {
        "id": "JTbo0IGDiHxn"
      }
    },
    {
      "cell_type": "code",
      "source": [
        "# Вывести на экран названия столбцов с помощью df.columns. Выявить проблемы с названиями, если они есть. При необходимости переименовать столбцы. Если проблемы не обнаружены также дать пояснения."
      ],
      "metadata": {
        "id": "9NEyi2Odik3e"
      },
      "execution_count": null,
      "outputs": []
    },
    {
      "cell_type": "code",
      "source": [
        "# переименование при необходимости"
      ],
      "metadata": {
        "id": "QSJBLl4qjjP8"
      },
      "execution_count": null,
      "outputs": []
    },
    {
      "cell_type": "markdown",
      "source": [
        "### 3. Проверка пропусков"
      ],
      "metadata": {
        "id": "V0tLQcyrjnA_"
      }
    },
    {
      "cell_type": "code",
      "source": [
        "# Проверить данные на наличие пропусков и устранить их, если они есть (пропуски необходимо либо удалить, либо заменить каким-то значением)."
      ],
      "metadata": {
        "id": "xuTz-Avjj9AW"
      },
      "execution_count": null,
      "outputs": []
    },
    {
      "cell_type": "markdown",
      "source": [
        "\n",
        "---\n",
        "\n",
        "**Вы должны аргументировать на защите, почему были выполнены те или иные действия с пропусками, а также знать другие способы работы с пропусками, чтобы\n",
        " ответить на вопросы на защите.**\n",
        "\n",
        "\n",
        " ---"
      ],
      "metadata": {
        "id": "efZ7vgSVkPQH"
      }
    },
    {
      "cell_type": "markdown",
      "source": [
        "### 4. Проверка дубликатов"
      ],
      "metadata": {
        "id": "kkyrXXHikEXk"
      }
    },
    {
      "cell_type": "markdown",
      "source": [
        "#### Проверка явных дубликатов"
      ],
      "metadata": {
        "id": "ImqHvr3okIQ6"
      }
    },
    {
      "cell_type": "code",
      "source": [],
      "metadata": {
        "id": "qu1oh-e5lDZ1"
      },
      "execution_count": null,
      "outputs": []
    },
    {
      "cell_type": "code",
      "source": [
        "# удалите дубликаты, если они есть"
      ],
      "metadata": {
        "id": "ntArgvChkK26"
      },
      "execution_count": null,
      "outputs": []
    },
    {
      "cell_type": "markdown",
      "source": [
        "#### Проверка неявных дубликатов"
      ],
      "metadata": {
        "id": "VeHTMcOmkLSw"
      }
    },
    {
      "cell_type": "code",
      "source": [],
      "metadata": {
        "id": "-uOPKHlVlGo8"
      },
      "execution_count": null,
      "outputs": []
    },
    {
      "cell_type": "code",
      "source": [
        "# удалите дубликаты, если они есть"
      ],
      "metadata": {
        "id": "89tMFEQ2k_M7"
      },
      "execution_count": null,
      "outputs": []
    },
    {
      "cell_type": "markdown",
      "source": [
        "---\n",
        "\n",
        "**Вы должны аргументировать на защите, почему были выполнены те или иные действия с дубликатами, знать, что такое явные и неявные дубликаты и способы работы с ними, чтобы ответить на вопросы на защите.**\n",
        "\n",
        "\n",
        " ---"
      ],
      "metadata": {
        "id": "GMcnDpOmlKhU"
      }
    },
    {
      "cell_type": "markdown",
      "source": [
        "### 5. Провека типов данных"
      ],
      "metadata": {
        "id": "md9GhfYMlbi7"
      }
    },
    {
      "cell_type": "code",
      "source": [],
      "metadata": {
        "id": "lXTroENaluCW"
      },
      "execution_count": null,
      "outputs": []
    },
    {
      "cell_type": "code",
      "source": [
        "# Проверьте типы данных, при необходимости измените типы данных, чтобы они соответствовали действительности."
      ],
      "metadata": {
        "id": "WXhXgu29lop3"
      },
      "execution_count": null,
      "outputs": []
    },
    {
      "cell_type": "markdown",
      "source": [
        "---\n",
        "\n",
        "**Обратите внимание, что во всех вариантах необходимо сделать приведение типов. Будьте готовы на защите аргументировать проверку типов (почему выполнены те или иные преобразования).**\n",
        "\n",
        "\n",
        " ---"
      ],
      "metadata": {
        "id": "DPDBNN4dlx7W"
      }
    },
    {
      "cell_type": "markdown",
      "source": [
        "### 6. Группировка данных"
      ],
      "metadata": {
        "id": "lzr0SgqlnmHy"
      }
    },
    {
      "cell_type": "markdown",
      "source": [
        "#### Задание 1"
      ],
      "metadata": {
        "id": "QG_dbwzfmZoS"
      }
    },
    {
      "cell_type": "markdown",
      "source": [
        "*`Формулировка задания`*"
      ],
      "metadata": {
        "id": "CyCKTB4DmciW"
      }
    },
    {
      "cell_type": "code",
      "source": [
        "# выполните группировку согласно варианту"
      ],
      "metadata": {
        "id": "tp8Bl1gumYlI"
      },
      "execution_count": null,
      "outputs": []
    },
    {
      "cell_type": "markdown",
      "source": [
        "**`Сделайте вывод - интерпретацию - что можно увидеть из результата данной группировки?`**"
      ],
      "metadata": {
        "id": "jLmhNuq0mms3"
      }
    },
    {
      "cell_type": "markdown",
      "source": [
        "---\n",
        "\n",
        "**Обратите внимание, что на защите вы должны ориентироваться в синтаксисе. При необходимости нужно быть готовым изменить код по просьбе преподавателя. Например, вместо среднего значения подсчитать медиану и т.д.**\n",
        "\n",
        "\n",
        " ---"
      ],
      "metadata": {
        "id": "quMr70SmnMXS"
      }
    },
    {
      "cell_type": "markdown",
      "source": [
        "#### Задание 2"
      ],
      "metadata": {
        "id": "j0isGCzEne7a"
      }
    },
    {
      "cell_type": "markdown",
      "source": [
        "*`Формулировка задания`*"
      ],
      "metadata": {
        "id": "kE2vLBWbne7a"
      }
    },
    {
      "cell_type": "code",
      "source": [
        "# выполните группировку согласно варианту"
      ],
      "metadata": {
        "id": "ttn78Zaene7a"
      },
      "execution_count": null,
      "outputs": []
    },
    {
      "cell_type": "markdown",
      "source": [
        "**`Сделайте вывод - интерпретацию - что можно увидеть из результата данной группировки?`**"
      ],
      "metadata": {
        "id": "HCyyeAu6ne7a"
      }
    },
    {
      "cell_type": "markdown",
      "source": [
        "---\n",
        "\n",
        "**Обратите внимание, что на защите вы должны ориентироваться в синтаксисе. При необходимости нужно быть готовым изменить код по просьбе преподавателя. Например, вместо среднего значения подсчитать медиану и т.д.**\n",
        "\n",
        "\n",
        " ---"
      ],
      "metadata": {
        "id": "NKLZ0m7Nne7b"
      }
    },
    {
      "cell_type": "markdown",
      "source": [
        "#### Задание 3"
      ],
      "metadata": {
        "id": "_3fHGp64nhUJ"
      }
    },
    {
      "cell_type": "markdown",
      "source": [
        "*`Формулировка задания`*"
      ],
      "metadata": {
        "id": "_Bc4ehyKnhUJ"
      }
    },
    {
      "cell_type": "code",
      "source": [
        "# выполните сводную таблицу согласно варианту"
      ],
      "metadata": {
        "id": "siDovPvQnhUJ"
      },
      "execution_count": null,
      "outputs": []
    },
    {
      "cell_type": "markdown",
      "source": [
        "**`Сделайте вывод - интерпретацию - что можно увидеть из результата данной сводной таблицы?`**"
      ],
      "metadata": {
        "id": "1-vw8iyUnhUK"
      }
    },
    {
      "cell_type": "markdown",
      "source": [
        "---\n",
        "\n",
        "**Обратите внимание, что на защите вы должны ориентироваться в синтаксисе. При необходимости нужно быть готовым изменить код по просьбе преподавателя. Например, вместо среднего значения подсчитать медиану и т.д.**\n",
        "\n",
        "\n",
        " ---"
      ],
      "metadata": {
        "id": "wKFm0zDenhUK"
      }
    },
    {
      "cell_type": "markdown",
      "source": [
        "#### Задание 4"
      ],
      "metadata": {
        "id": "FOlw74xCniNo"
      }
    },
    {
      "cell_type": "markdown",
      "source": [
        "*`Формулировка задания`*"
      ],
      "metadata": {
        "id": "4tvYwT25niNq"
      }
    },
    {
      "cell_type": "code",
      "source": [
        "# выполните сводную таблицу согласно варианту"
      ],
      "metadata": {
        "id": "TfJ719g6niNq"
      },
      "execution_count": null,
      "outputs": []
    },
    {
      "cell_type": "markdown",
      "source": [
        "**`Сделайте вывод - интерпретацию - что можно увидеть из результата выполнения данного кода?`**"
      ],
      "metadata": {
        "id": "yqJqvk5qniNr"
      }
    },
    {
      "cell_type": "markdown",
      "source": [
        "---\n",
        "\n",
        "**Обратите внимание, что на защите вы должны ориентироваться в синтаксисе. При необходимости нужно быть готовым изменить код по просьбе преподавателя. Например, вместо среднего значения подсчитать медиану и т.д.**\n",
        "\n",
        "\n",
        " ---"
      ],
      "metadata": {
        "id": "tIkuqJKUniNs"
      }
    },
    {
      "cell_type": "markdown",
      "source": [
        "### Вывод"
      ],
      "metadata": {
        "id": "TpnXb6gip3S8"
      }
    },
    {
      "cell_type": "markdown",
      "metadata": {
        "id": "nqLa096jM1Z8"
      },
      "source": [
        "\n",
        "***`Сделать расширенный вывод. `***\n",
        "\n",
        "Вывод должен описывать результаты исследования: какой набор данных вы анализировали (предметная область), какие методы предобработки применили, какие выводы из группировок и сводных таблиц можно сделать (они могут повторять выводы выше) и т.п. Объём вывода, как правило не более 0.5-0.75 страницы А4, всё таки вывод должен быть конкретным (без теории и “воды”).\n"
      ]
    },
    {
      "cell_type": "markdown",
      "source": [
        "### Дополнительное задание"
      ],
      "metadata": {
        "id": "Sn3y7og_vjGG"
      }
    },
    {
      "cell_type": "markdown",
      "source": [
        "**`Подробная формулировка задания`**"
      ],
      "metadata": {
        "id": "rR6WgHXYvlqD"
      }
    },
    {
      "cell_type": "code",
      "source": [
        "# код выполнения задания"
      ],
      "metadata": {
        "id": "wG5TGQpevlBq"
      },
      "execution_count": null,
      "outputs": []
    },
    {
      "cell_type": "markdown",
      "source": [
        "***`Подробный вывод по заданию, описание полученных результатов`***"
      ],
      "metadata": {
        "id": "y-qpTuhTvon3"
      }
    }
  ],
  "metadata": {
    "colab": {
      "provenance": []
    },
    "kernelspec": {
      "display_name": "Python 3",
      "name": "python3"
    },
    "language_info": {
      "name": "python"
    }
  },
  "nbformat": 4,
  "nbformat_minor": 0
}