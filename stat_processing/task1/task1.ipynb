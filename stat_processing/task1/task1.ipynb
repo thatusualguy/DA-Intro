{
 "cells": [
  {
   "cell_type": "code",
   "id": "initial_id",
   "metadata": {
    "collapsed": true,
    "ExecuteTime": {
     "end_time": "2025-10-20T23:34:06.788417Z",
     "start_time": "2025-10-20T23:34:06.782273Z"
    }
   },
   "source": [
    "import matplotlib.pyplot as plt\n",
    "import numpy as np\n",
    "import pandas as pd\n",
    "import seaborn as sn\n",
    "from scipy import stats\n",
    "\n",
    "df = pd.read_csv('temp_diff.csv', delimiter='\\s*;')\n",
    "df.shape"
   ],
   "outputs": [
    {
     "name": "stderr",
     "output_type": "stream",
     "text": [
      "<>:7: SyntaxWarning: invalid escape sequence '\\s'\n",
      "<>:7: SyntaxWarning: invalid escape sequence '\\s'\n",
      "C:\\Users\\max\\AppData\\Local\\Temp\\ipykernel_23472\\2778631841.py:7: SyntaxWarning: invalid escape sequence '\\s'\n",
      "  df = pd.read_csv('temp_diff.csv', delimiter='\\s*;')\n",
      "C:\\Users\\max\\AppData\\Local\\Temp\\ipykernel_23472\\2778631841.py:7: ParserWarning: Falling back to the 'python' engine because the 'c' engine does not support regex separators (separators > 1 char and different from '\\s+' are interpreted as regex); you can avoid this warning by specifying engine='python'.\n",
      "  df = pd.read_csv('temp_diff.csv', delimiter='\\s*;')\n"
     ]
    },
    {
     "data": {
      "text/plain": [
       "(81, 3)"
      ]
     },
     "execution_count": 16,
     "metadata": {},
     "output_type": "execute_result"
    }
   ],
   "execution_count": 16
  },
  {
   "metadata": {
    "ExecuteTime": {
     "end_time": "2025-10-20T23:34:06.825961Z",
     "start_time": "2025-10-20T23:34:06.817968Z"
    }
   },
   "cell_type": "code",
   "source": [
    "\n",
    "df.norm_diff = df.norm_diff.str.replace(',', '.')\n",
    "df.norm_diff_winter = df.norm_diff_winter.str.replace(',', '.')\n",
    "df.norm_diff = df.norm_diff.astype(np.float64)\n",
    "df.norm_diff_winter = df.norm_diff_winter.astype(np.float64)\n",
    "\n",
    "df.info()"
   ],
   "id": "6f5b038bd242449f",
   "outputs": [
    {
     "name": "stdout",
     "output_type": "stream",
     "text": [
      "<class 'pandas.core.frame.DataFrame'>\n",
      "RangeIndex: 81 entries, 0 to 80\n",
      "Data columns (total 3 columns):\n",
      " #   Column            Non-Null Count  Dtype  \n",
      "---  ------            --------------  -----  \n",
      " 0   region            81 non-null     object \n",
      " 1   norm_diff         79 non-null     float64\n",
      " 2   norm_diff_winter  79 non-null     float64\n",
      "dtypes: float64(2), object(1)\n",
      "memory usage: 2.0+ KB\n"
     ]
    }
   ],
   "execution_count": 17
  },
  {
   "metadata": {
    "ExecuteTime": {
     "end_time": "2025-10-20T23:34:06.864878Z",
     "start_time": "2025-10-20T23:34:06.854175Z"
    }
   },
   "cell_type": "code",
   "source": [
    "display(df.head(5))\n",
    "df.tail(5)"
   ],
   "id": "50ef59eda7275ec8",
   "outputs": [
    {
     "data": {
      "text/plain": [
       "                 region  norm_diff  norm_diff_winter\n",
       "0  Белгородская область        3.4              -1.0\n",
       "1      Брянская область        2.6              -2.0\n",
       "2  Владимирская область        1.8              -4.8\n",
       "3   Воронежская область        2.6              -1.2\n",
       "4    Ивановская область        1.5              -4.5"
      ],
      "text/html": [
       "<div>\n",
       "<style scoped>\n",
       "    .dataframe tbody tr th:only-of-type {\n",
       "        vertical-align: middle;\n",
       "    }\n",
       "\n",
       "    .dataframe tbody tr th {\n",
       "        vertical-align: top;\n",
       "    }\n",
       "\n",
       "    .dataframe thead th {\n",
       "        text-align: right;\n",
       "    }\n",
       "</style>\n",
       "<table border=\"1\" class=\"dataframe\">\n",
       "  <thead>\n",
       "    <tr style=\"text-align: right;\">\n",
       "      <th></th>\n",
       "      <th>region</th>\n",
       "      <th>norm_diff</th>\n",
       "      <th>norm_diff_winter</th>\n",
       "    </tr>\n",
       "  </thead>\n",
       "  <tbody>\n",
       "    <tr>\n",
       "      <th>0</th>\n",
       "      <td>Белгородская область</td>\n",
       "      <td>3.4</td>\n",
       "      <td>-1.0</td>\n",
       "    </tr>\n",
       "    <tr>\n",
       "      <th>1</th>\n",
       "      <td>Брянская область</td>\n",
       "      <td>2.6</td>\n",
       "      <td>-2.0</td>\n",
       "    </tr>\n",
       "    <tr>\n",
       "      <th>2</th>\n",
       "      <td>Владимирская область</td>\n",
       "      <td>1.8</td>\n",
       "      <td>-4.8</td>\n",
       "    </tr>\n",
       "    <tr>\n",
       "      <th>3</th>\n",
       "      <td>Воронежская область</td>\n",
       "      <td>2.6</td>\n",
       "      <td>-1.2</td>\n",
       "    </tr>\n",
       "    <tr>\n",
       "      <th>4</th>\n",
       "      <td>Ивановская область</td>\n",
       "      <td>1.5</td>\n",
       "      <td>-4.5</td>\n",
       "    </tr>\n",
       "  </tbody>\n",
       "</table>\n",
       "</div>"
      ]
     },
     "metadata": {},
     "output_type": "display_data",
     "jetTransient": {
      "display_id": null
     }
    },
    {
     "data": {
      "text/plain": [
       "                          region  norm_diff  norm_diff_winter\n",
       "76              Амурская область        1.2              -0.1\n",
       "77           Магаданская область       -0.5              -4.9\n",
       "78           Сахалинская область        1.5              -2.0\n",
       "79  Еврейская автономная область        0.4              -0.2\n",
       "80    Чукотский автономный округ       -1.1               1.4"
      ],
      "text/html": [
       "<div>\n",
       "<style scoped>\n",
       "    .dataframe tbody tr th:only-of-type {\n",
       "        vertical-align: middle;\n",
       "    }\n",
       "\n",
       "    .dataframe tbody tr th {\n",
       "        vertical-align: top;\n",
       "    }\n",
       "\n",
       "    .dataframe thead th {\n",
       "        text-align: right;\n",
       "    }\n",
       "</style>\n",
       "<table border=\"1\" class=\"dataframe\">\n",
       "  <thead>\n",
       "    <tr style=\"text-align: right;\">\n",
       "      <th></th>\n",
       "      <th>region</th>\n",
       "      <th>norm_diff</th>\n",
       "      <th>norm_diff_winter</th>\n",
       "    </tr>\n",
       "  </thead>\n",
       "  <tbody>\n",
       "    <tr>\n",
       "      <th>76</th>\n",
       "      <td>Амурская область</td>\n",
       "      <td>1.2</td>\n",
       "      <td>-0.1</td>\n",
       "    </tr>\n",
       "    <tr>\n",
       "      <th>77</th>\n",
       "      <td>Магаданская область</td>\n",
       "      <td>-0.5</td>\n",
       "      <td>-4.9</td>\n",
       "    </tr>\n",
       "    <tr>\n",
       "      <th>78</th>\n",
       "      <td>Сахалинская область</td>\n",
       "      <td>1.5</td>\n",
       "      <td>-2.0</td>\n",
       "    </tr>\n",
       "    <tr>\n",
       "      <th>79</th>\n",
       "      <td>Еврейская автономная область</td>\n",
       "      <td>0.4</td>\n",
       "      <td>-0.2</td>\n",
       "    </tr>\n",
       "    <tr>\n",
       "      <th>80</th>\n",
       "      <td>Чукотский автономный округ</td>\n",
       "      <td>-1.1</td>\n",
       "      <td>1.4</td>\n",
       "    </tr>\n",
       "  </tbody>\n",
       "</table>\n",
       "</div>"
      ]
     },
     "execution_count": 18,
     "metadata": {},
     "output_type": "execute_result"
    }
   ],
   "execution_count": 18
  },
  {
   "metadata": {
    "ExecuteTime": {
     "end_time": "2025-10-20T23:34:07.031099Z",
     "start_time": "2025-10-20T23:34:07.021246Z"
    }
   },
   "cell_type": "code",
   "source": "df.describe()",
   "id": "1a16a40b025be43f",
   "outputs": [
    {
     "data": {
      "text/plain": [
       "       norm_diff  norm_diff_winter\n",
       "count  79.000000         79.000000\n",
       "mean    1.556962         -1.191139\n",
       "std     0.986276          2.075016\n",
       "min    -1.100000         -4.900000\n",
       "25%     1.000000         -2.900000\n",
       "50%     1.600000         -1.300000\n",
       "75%     2.250000          0.600000\n",
       "max     3.600000          2.300000"
      ],
      "text/html": [
       "<div>\n",
       "<style scoped>\n",
       "    .dataframe tbody tr th:only-of-type {\n",
       "        vertical-align: middle;\n",
       "    }\n",
       "\n",
       "    .dataframe tbody tr th {\n",
       "        vertical-align: top;\n",
       "    }\n",
       "\n",
       "    .dataframe thead th {\n",
       "        text-align: right;\n",
       "    }\n",
       "</style>\n",
       "<table border=\"1\" class=\"dataframe\">\n",
       "  <thead>\n",
       "    <tr style=\"text-align: right;\">\n",
       "      <th></th>\n",
       "      <th>norm_diff</th>\n",
       "      <th>norm_diff_winter</th>\n",
       "    </tr>\n",
       "  </thead>\n",
       "  <tbody>\n",
       "    <tr>\n",
       "      <th>count</th>\n",
       "      <td>79.000000</td>\n",
       "      <td>79.000000</td>\n",
       "    </tr>\n",
       "    <tr>\n",
       "      <th>mean</th>\n",
       "      <td>1.556962</td>\n",
       "      <td>-1.191139</td>\n",
       "    </tr>\n",
       "    <tr>\n",
       "      <th>std</th>\n",
       "      <td>0.986276</td>\n",
       "      <td>2.075016</td>\n",
       "    </tr>\n",
       "    <tr>\n",
       "      <th>min</th>\n",
       "      <td>-1.100000</td>\n",
       "      <td>-4.900000</td>\n",
       "    </tr>\n",
       "    <tr>\n",
       "      <th>25%</th>\n",
       "      <td>1.000000</td>\n",
       "      <td>-2.900000</td>\n",
       "    </tr>\n",
       "    <tr>\n",
       "      <th>50%</th>\n",
       "      <td>1.600000</td>\n",
       "      <td>-1.300000</td>\n",
       "    </tr>\n",
       "    <tr>\n",
       "      <th>75%</th>\n",
       "      <td>2.250000</td>\n",
       "      <td>0.600000</td>\n",
       "    </tr>\n",
       "    <tr>\n",
       "      <th>max</th>\n",
       "      <td>3.600000</td>\n",
       "      <td>2.300000</td>\n",
       "    </tr>\n",
       "  </tbody>\n",
       "</table>\n",
       "</div>"
      ]
     },
     "execution_count": 19,
     "metadata": {},
     "output_type": "execute_result"
    }
   ],
   "execution_count": 19
  },
  {
   "metadata": {
    "ExecuteTime": {
     "end_time": "2025-10-20T23:34:07.514272Z",
     "start_time": "2025-10-20T23:34:07.233720Z"
    }
   },
   "cell_type": "code",
   "source": [
    "plt.figure(figsize=(8, 4))\n",
    "ax = sn.barplot(x='region', y='norm_diff', data=df)\n",
    "ax.set_title(\"Средняя месячная температура воздуха июля\")\n",
    "ax.set_xlabel('Регион')\n",
    "ax.set_ylabel('Отклонение от нормы, С*')\n",
    "plt.gca().set_xticklabels([])\n",
    "plt.show()"
   ],
   "id": "76c48978f22b7aab",
   "outputs": [
    {
     "data": {
      "text/plain": [
       "<Figure size 800x400 with 1 Axes>"
      ],
      "image/png": "[encoded data removed]"
     },
     "metadata": {},
     "output_type": "display_data",
     "jetTransient": {
      "display_id": null
     }
    }
   ],
   "execution_count": 20
  },
  {
   "metadata": {
    "ExecuteTime": {
     "end_time": "2025-10-20T23:34:07.672673Z",
     "start_time": "2025-10-20T23:34:07.546903Z"
    }
   },
   "cell_type": "code",
   "source": [
    "plt.figure(figsize=(8, 4))\n",
    "ax = sn.histplot(\n",
    "    df.norm_diff,\n",
    "    bins=\"auto\",\n",
    "    kde=True,\n",
    ")\n",
    "ax.set_title(\"Средняя месячная температура воздуха июля\")\n",
    "ax.set_xlabel(\"Отклонение от нормы, С*\")\n",
    "ax.set_ylabel(\"Кол-во регионов\")\n",
    "plt.tight_layout()\n",
    "plt.show()\n"
   ],
   "id": "e9853b6a1c1b015b",
   "outputs": [
    {
     "data": {
      "text/plain": [
       "<Figure size 800x400 with 1 Axes>"
      ],
      "image/png": "[encoded data removed]"
     },
     "metadata": {},
     "output_type": "display_data",
     "jetTransient": {
      "display_id": null
     }
    }
   ],
   "execution_count": 21
  },
  {
   "metadata": {
    "ExecuteTime": {
     "end_time": "2025-10-20T23:34:07.709335Z",
     "start_time": "2025-10-20T23:34:07.699096Z"
    }
   },
   "cell_type": "code",
   "source": "df.describe().round(2)",
   "id": "87c37a6efcfc51e0",
   "outputs": [
    {
     "data": {
      "text/plain": [
       "       norm_diff  norm_diff_winter\n",
       "count      79.00             79.00\n",
       "mean        1.56             -1.19\n",
       "std         0.99              2.08\n",
       "min        -1.10             -4.90\n",
       "25%         1.00             -2.90\n",
       "50%         1.60             -1.30\n",
       "75%         2.25              0.60\n",
       "max         3.60              2.30"
      ],
      "text/html": [
       "<div>\n",
       "<style scoped>\n",
       "    .dataframe tbody tr th:only-of-type {\n",
       "        vertical-align: middle;\n",
       "    }\n",
       "\n",
       "    .dataframe tbody tr th {\n",
       "        vertical-align: top;\n",
       "    }\n",
       "\n",
       "    .dataframe thead th {\n",
       "        text-align: right;\n",
       "    }\n",
       "</style>\n",
       "<table border=\"1\" class=\"dataframe\">\n",
       "  <thead>\n",
       "    <tr style=\"text-align: right;\">\n",
       "      <th></th>\n",
       "      <th>norm_diff</th>\n",
       "      <th>norm_diff_winter</th>\n",
       "    </tr>\n",
       "  </thead>\n",
       "  <tbody>\n",
       "    <tr>\n",
       "      <th>count</th>\n",
       "      <td>79.00</td>\n",
       "      <td>79.00</td>\n",
       "    </tr>\n",
       "    <tr>\n",
       "      <th>mean</th>\n",
       "      <td>1.56</td>\n",
       "      <td>-1.19</td>\n",
       "    </tr>\n",
       "    <tr>\n",
       "      <th>std</th>\n",
       "      <td>0.99</td>\n",
       "      <td>2.08</td>\n",
       "    </tr>\n",
       "    <tr>\n",
       "      <th>min</th>\n",
       "      <td>-1.10</td>\n",
       "      <td>-4.90</td>\n",
       "    </tr>\n",
       "    <tr>\n",
       "      <th>25%</th>\n",
       "      <td>1.00</td>\n",
       "      <td>-2.90</td>\n",
       "    </tr>\n",
       "    <tr>\n",
       "      <th>50%</th>\n",
       "      <td>1.60</td>\n",
       "      <td>-1.30</td>\n",
       "    </tr>\n",
       "    <tr>\n",
       "      <th>75%</th>\n",
       "      <td>2.25</td>\n",
       "      <td>0.60</td>\n",
       "    </tr>\n",
       "    <tr>\n",
       "      <th>max</th>\n",
       "      <td>3.60</td>\n",
       "      <td>2.30</td>\n",
       "    </tr>\n",
       "  </tbody>\n",
       "</table>\n",
       "</div>"
      ]
     },
     "execution_count": 22,
     "metadata": {},
     "output_type": "execute_result"
    }
   ],
   "execution_count": 22
  },
  {
   "metadata": {
    "ExecuteTime": {
     "end_time": "2025-10-20T23:34:07.868677Z",
     "start_time": "2025-10-20T23:34:07.863924Z"
    }
   },
   "cell_type": "code",
   "source": [
    "print(df.norm_diff.median())\n",
    "print(df.norm_diff.var())\n",
    "print(df.norm_diff.skew())\n",
    "\n",
    "print((df.norm_diff.std() / df.norm_diff.mean()) * 100)\n",
    "\n",
    "print(df.norm_diff.mode())"
   ],
   "id": "f28d97631943d3d9",
   "outputs": [
    {
     "name": "stdout",
     "output_type": "stream",
     "text": [
      "1.6\n",
      "0.9727393703343069\n",
      "-0.15966133333159918\n",
      "63.34615027461879\n",
      "0    1.2\n",
      "1    1.6\n",
      "Name: norm_diff, dtype: float64\n"
     ]
    }
   ],
   "execution_count": 23
  },
  {
   "metadata": {
    "ExecuteTime": {
     "end_time": "2025-10-20T23:34:07.962758Z",
     "start_time": "2025-10-20T23:34:07.959043Z"
    }
   },
   "cell_type": "code",
   "source": [
    "stat, p_value = stats.shapiro(df.norm_diff)\n",
    "\n",
    "print(f\"Статистика теста: {stat:.4f}\")\n",
    "print(f\"p-value: {p_value:.4f}\")\n"
   ],
   "id": "89d6420e620782ab",
   "outputs": [
    {
     "name": "stdout",
     "output_type": "stream",
     "text": [
      "Статистика теста: nan\n",
      "p-value: nan\n"
     ]
    }
   ],
   "execution_count": 24
  },
  {
   "metadata": {
    "ExecuteTime": {
     "end_time": "2025-10-20T23:34:08.022206Z",
     "start_time": "2025-10-20T23:34:08.017507Z"
    }
   },
   "cell_type": "code",
   "source": [
    "from scipy.stats import t\n",
    "\n",
    "data = df.norm_diff\n",
    "\n",
    "mean = data.mean()\n",
    "std_error = data.sem()\n",
    "dof = len(data) - 1  # степени свободы\n",
    "\n",
    "# Критическое значение t-распределения\n",
    "t_critical = t.ppf(0.975, dof)  # для 95% доверительного интервала\n",
    "\n",
    "# Расчет интервала\n",
    "margin_of_error = t_critical * std_error\n",
    "ci_lower = mean - margin_of_error\n",
    "ci_upper = mean + margin_of_error\n",
    "\n",
    "print(f\"Доверительный интервал: ({ci_lower:.2f}, {ci_upper:.2f})\")"
   ],
   "id": "650fb15413400e22",
   "outputs": [
    {
     "name": "stdout",
     "output_type": "stream",
     "text": [
      "Доверительный интервал: (1.34, 1.78)\n"
     ]
    }
   ],
   "execution_count": 25
  },
  {
   "metadata": {
    "ExecuteTime": {
     "end_time": "2025-10-20T23:34:08.057843Z",
     "start_time": "2025-10-20T23:34:08.053733Z"
    }
   },
   "cell_type": "code",
   "source": "df.norm_diff.corr(df.norm_diff_winter)\n",
   "id": "e6947a5e2a2d38b0",
   "outputs": [
    {
     "data": {
      "text/plain": [
       "np.float64(0.2176918533119084)"
      ]
     },
     "execution_count": 26,
     "metadata": {},
     "output_type": "execute_result"
    }
   ],
   "execution_count": 26
  },
  {
   "metadata": {
    "ExecuteTime": {
     "end_time": "2025-10-20T23:34:08.190523Z",
     "start_time": "2025-10-20T23:34:08.081012Z"
    }
   },
   "cell_type": "code",
   "source": [
    "import seaborn as sns\n",
    "\n",
    "sns.scatterplot(df, x='norm_diff', y='norm_diff_winter')\n",
    "plt.xlabel(\"Отклонение от нормы летом, С\")\n",
    "plt.ylabel('Отклонение от нормы зимой, С')\n",
    "plt.title('Зависимость отклонения зимой от отклонения летом')\n",
    "plt.show()"
   ],
   "id": "5589e29fe18395a9",
   "outputs": [
    {
     "data": {
      "text/plain": [
       "<Figure size 640x480 with 1 Axes>"
      ],
      "image/png": "[encoded data removed]"
     },
     "metadata": {},
     "output_type": "display_data",
     "jetTransient": {
      "display_id": null
     }
    }
   ],
   "execution_count": 27
  },
  {
   "metadata": {
    "ExecuteTime": {
     "end_time": "2025-10-20T23:34:35.865432Z",
     "start_time": "2025-10-20T23:34:35.857830Z"
    }
   },
   "cell_type": "code",
   "source": [
    "import pandas as pd\n",
    "import numpy as np\n",
    "\n",
    "def analyze_outliers_iqr(series):\n",
    "    \"\"\"\n",
    "    Полный анализ выбросов по методу IQR\n",
    "    \"\"\"\n",
    "    Q1 = series.quantile(0.25)\n",
    "    Q3 = series.quantile(0.75)\n",
    "    IQR = Q3 - Q1\n",
    "\n",
    "    lower_bound = Q1 - 1.5 * IQR\n",
    "    upper_bound = Q3 + 1.5 * IQR\n",
    "\n",
    "    # Находим выбросы\n",
    "    outliers = series[(series < lower_bound) | (series > upper_bound)]\n",
    "\n",
    "    print(f\"Q1 (25%): {Q1:.2f}\")\n",
    "    print(f\"Q3 (75%): {Q3:.2f}\")\n",
    "    print(f\"IQR: {IQR:.2f}\")\n",
    "    print(f\"Нижняя граница: {lower_bound:.2f}\")\n",
    "    print(f\"Верхняя граница: {upper_bound:.2f}\")\n",
    "    print(f\"Выбросы: {len(outliers)}\")\n",
    "    if len(outliers) > 0:\n",
    "        print(f\"Значения выбросов: {outliers.tolist()}\")\n",
    "\n",
    "    return outliers\n",
    "\n",
    "# Применяем к вашим данным\n",
    "outliers = analyze_outliers_iqr(df.norm_diff)"
   ],
   "id": "c04930c37cf619ca",
   "outputs": [
    {
     "name": "stdout",
     "output_type": "stream",
     "text": [
      "Q1 (25%): 1.00\n",
      "Q3 (75%): 2.25\n",
      "IQR: 1.25\n",
      "Нижняя граница: -0.88\n",
      "Верхняя граница: 4.12\n",
      "Выбросы: 1\n",
      "Значения выбросов: [-1.1]\n"
     ]
    }
   ],
   "execution_count": 29
  }
 ],
 "metadata": {
  "kernelspec": {
   "display_name": "Python 3",
   "language": "python",
   "name": "python3"
  },
  "language_info": {
   "codemirror_mode": {
    "name": "ipython",
    "version": 2
   },
   "file_extension": ".py",
   "mimetype": "text/x-python",
   "name": "python",
   "nbconvert_exporter": "python",
   "pygments_lexer": "ipython2",
   "version": "2.7.6"
  }
 },
 "nbformat": 4,
 "nbformat_minor": 5
}
