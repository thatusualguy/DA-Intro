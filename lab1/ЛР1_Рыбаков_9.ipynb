{
 "cells": [
  {
   "cell_type": "markdown",
   "metadata": {
    "id": "bri_pAriNFqN"
   },
   "source": [
    "**Цель работы:**\n",
    "\n",
    "Осуществить предварительную обработку данных csv-файла, выявить и устранить проблемы в этих данных."
   ]
  },
  {
   "cell_type": "markdown",
   "source": [
    "# Загрузка набора данных"
   ],
   "metadata": {
    "id": "r_e-GeJmgZ8l"
   }
  },
  {
   "cell_type": "markdown",
   "source": [
    "### Описание предметной области"
   ],
   "metadata": {
    "id": "eeq9ZAbSguQS"
   }
  },
  {
   "cell_type": "markdown",
   "source": [
    "Вариант №9\n",
    "\n",
    "Набор данных: auto.csv\n",
    "\n",
    "Атрибуты:\n",
    "- имя\n",
    "- год\n",
    "- цена продажи\n",
    "- пройдено км\n",
    "- топливо\n",
    "- тип продавца\n",
    "- коробка передач\n",
    "- тип владельца"
   ],
   "metadata": {
    "id": "XHbH8zNIg0Ib"
   }
  },
  {
   "cell_type": "markdown",
   "source": [
    "### 1.Чтение файла (набора данных)"
   ],
   "metadata": {
    "id": "Lwin9ia7hT1i"
   }
  },
  {
   "cell_type": "code",
   "source": [
    "# импорт библиотек, чтение файла с помощью pandas\n",
    "import pandas as pd\n",
    "\n",
    "df = pd.read_csv('auto.csv')\n",
    "df.shape"
   ],
   "metadata": {
    "id": "a5dYQO5YhOYa",
    "ExecuteTime": {
     "end_time": "2025-09-15T12:50:46.245381Z",
     "start_time": "2025-09-15T12:50:46.231228Z"
    }
   },
   "outputs": [
    {
     "data": {
      "text/plain": [
       "(4344, 8)"
      ]
     },
     "execution_count": 77,
     "metadata": {},
     "output_type": "execute_result"
    }
   ],
   "execution_count": 77
  },
  {
   "cell_type": "markdown",
   "source": [
    "### 2. Обзор данных"
   ],
   "metadata": {
    "id": "p82p53SvhjLN"
   }
  },
  {
   "cell_type": "markdown",
   "source": [
    "2.1 Вывод первых 20 строк с помощью метода head."
   ],
   "metadata": {
    "id": "eAYzXaLrh-qh"
   }
  },
  {
   "cell_type": "code",
   "source": [
    "# применить метод head\n",
    "df.head(20)"
   ],
   "metadata": {
    "id": "7yMo3VZ_hotx",
    "ExecuteTime": {
     "end_time": "2025-09-15T12:50:46.276273Z",
     "start_time": "2025-09-15T12:50:46.266519Z"
    }
   },
   "outputs": [
    {
     "data": {
      "text/plain": [
       "                               Name  year  SellingPrice  kmdriven     fuel  \\\n",
       "0                     Maruti 800 AC  2007       60000.0   70000.0   Petrol   \n",
       "1          Maruti Wagon R LXI Minor  2007      135000.0   50000.0   Petrol   \n",
       "2              Hyundai Verna 1.6 SX  2012      600000.0  100000.0   Diesel   \n",
       "3            Datsun RediGO T Option  2017      250000.0   46000.0   Petrol   \n",
       "4             Honda Amaze VX i-DTEC  2014      450000.0  141000.0   Diesel   \n",
       "5              Maruti Alto LX BSIII  2007      140000.0  125000.0   Petrol   \n",
       "6         Hyundai Xcent 1.2 Kappa S  2016      550000.0   25000.0   Petrol   \n",
       "7         Tata Indigo Grand Petroll  2014      240000.0   60000.0   Petrol   \n",
       "8          Hyundai Creta 1.6 VTVT S  2015      850000.0   25000.0  Petroll   \n",
       "9          Maruti Celerio Green VXI  2017      365000.0   78000.0      CNG   \n",
       "10          Chevrolet Sail 1.2 Base  2015      260000.0   35000.0   Petrol   \n",
       "11         Tata Indigo Grand Petrol  2014      250000.0  100000.0   Petrol   \n",
       "12  Toyota Corolla Altis 1.8 VL CVT  2018     1650000.0   25000.0   Petrol   \n",
       "13                    Maruti 800 AC  2007       60000.0   70000.0   Petrol   \n",
       "14         Maruti Wagon R LXI Minor  2007      135000.0   50000.0   Petrol   \n",
       "15             Hyundai Verna 1.6 SX  2012      600000.0  100000.0   Diesel   \n",
       "16           Datsun RediGO T Option  2017      250000.0   46000.0   Petrol   \n",
       "17            Honda Amaze VX i-DTEC  2014      450000.0  141000.0   Diesel   \n",
       "18             Maruti Alto LX BSIII  2007      140000.0  125000.0   Petrol   \n",
       "19        Hyundai Xcent 1.2 Kappa S  2016      550000.0   25000.0   Petrol   \n",
       "\n",
       "   seller_Type transmission         owner  \n",
       "0   Individual       Manual   First Owner  \n",
       "1   Individual       Manual   First Owner  \n",
       "2   Individual       Manual   First Owner  \n",
       "3   Individual       Manual   First Owner  \n",
       "4   Individual       Manual  Second Owner  \n",
       "5   Individual       Manual   First Owner  \n",
       "6   Individual       Manual   First Owner  \n",
       "7   Individual       Manual  Second Owner  \n",
       "8   Individual       Manual   First Owner  \n",
       "9   Individual       Manual   First Owner  \n",
       "10  Individual       Manual   First Owner  \n",
       "11  Individual       Manual   First Owner  \n",
       "12      Dealer    Automatic   First Owner  \n",
       "13  Individual       Manual   First Owner  \n",
       "14  Individual       Manual   First Owner  \n",
       "15  Individual       Manual   First Owner  \n",
       "16  Individual       Manual   First Owner  \n",
       "17  Individual       Manual  Second Owner  \n",
       "18  Individual       Manual   First Owner  \n",
       "19  Individual       Manual   First Owner  "
      ],
      "text/html": [
       "<div>\n",
       "<style scoped>\n",
       "    .dataframe tbody tr th:only-of-type {\n",
       "        vertical-align: middle;\n",
       "    }\n",
       "\n",
       "    .dataframe tbody tr th {\n",
       "        vertical-align: top;\n",
       "    }\n",
       "\n",
       "    .dataframe thead th {\n",
       "        text-align: right;\n",
       "    }\n",
       "</style>\n",
       "<table border=\"1\" class=\"dataframe\">\n",
       "  <thead>\n",
       "    <tr style=\"text-align: right;\">\n",
       "      <th></th>\n",
       "      <th>Name</th>\n",
       "      <th>year</th>\n",
       "      <th>SellingPrice</th>\n",
       "      <th>kmdriven</th>\n",
       "      <th>fuel</th>\n",
       "      <th>seller_Type</th>\n",
       "      <th>transmission</th>\n",
       "      <th>owner</th>\n",
       "    </tr>\n",
       "  </thead>\n",
       "  <tbody>\n",
       "    <tr>\n",
       "      <th>0</th>\n",
       "      <td>Maruti 800 AC</td>\n",
       "      <td>2007</td>\n",
       "      <td>60000.0</td>\n",
       "      <td>70000.0</td>\n",
       "      <td>Petrol</td>\n",
       "      <td>Individual</td>\n",
       "      <td>Manual</td>\n",
       "      <td>First Owner</td>\n",
       "    </tr>\n",
       "    <tr>\n",
       "      <th>1</th>\n",
       "      <td>Maruti Wagon R LXI Minor</td>\n",
       "      <td>2007</td>\n",
       "      <td>135000.0</td>\n",
       "      <td>50000.0</td>\n",
       "      <td>Petrol</td>\n",
       "      <td>Individual</td>\n",
       "      <td>Manual</td>\n",
       "      <td>First Owner</td>\n",
       "    </tr>\n",
       "    <tr>\n",
       "      <th>2</th>\n",
       "      <td>Hyundai Verna 1.6 SX</td>\n",
       "      <td>2012</td>\n",
       "      <td>600000.0</td>\n",
       "      <td>100000.0</td>\n",
       "      <td>Diesel</td>\n",
       "      <td>Individual</td>\n",
       "      <td>Manual</td>\n",
       "      <td>First Owner</td>\n",
       "    </tr>\n",
       "    <tr>\n",
       "      <th>3</th>\n",
       "      <td>Datsun RediGO T Option</td>\n",
       "      <td>2017</td>\n",
       "      <td>250000.0</td>\n",
       "      <td>46000.0</td>\n",
       "      <td>Petrol</td>\n",
       "      <td>Individual</td>\n",
       "      <td>Manual</td>\n",
       "      <td>First Owner</td>\n",
       "    </tr>\n",
       "    <tr>\n",
       "      <th>4</th>\n",
       "      <td>Honda Amaze VX i-DTEC</td>\n",
       "      <td>2014</td>\n",
       "      <td>450000.0</td>\n",
       "      <td>141000.0</td>\n",
       "      <td>Diesel</td>\n",
       "      <td>Individual</td>\n",
       "      <td>Manual</td>\n",
       "      <td>Second Owner</td>\n",
       "    </tr>\n",
       "    <tr>\n",
       "      <th>5</th>\n",
       "      <td>Maruti Alto LX BSIII</td>\n",
       "      <td>2007</td>\n",
       "      <td>140000.0</td>\n",
       "      <td>125000.0</td>\n",
       "      <td>Petrol</td>\n",
       "      <td>Individual</td>\n",
       "      <td>Manual</td>\n",
       "      <td>First Owner</td>\n",
       "    </tr>\n",
       "    <tr>\n",
       "      <th>6</th>\n",
       "      <td>Hyundai Xcent 1.2 Kappa S</td>\n",
       "      <td>2016</td>\n",
       "      <td>550000.0</td>\n",
       "      <td>25000.0</td>\n",
       "      <td>Petrol</td>\n",
       "      <td>Individual</td>\n",
       "      <td>Manual</td>\n",
       "      <td>First Owner</td>\n",
       "    </tr>\n",
       "    <tr>\n",
       "      <th>7</th>\n",
       "      <td>Tata Indigo Grand Petroll</td>\n",
       "      <td>2014</td>\n",
       "      <td>240000.0</td>\n",
       "      <td>60000.0</td>\n",
       "      <td>Petrol</td>\n",
       "      <td>Individual</td>\n",
       "      <td>Manual</td>\n",
       "      <td>Second Owner</td>\n",
       "    </tr>\n",
       "    <tr>\n",
       "      <th>8</th>\n",
       "      <td>Hyundai Creta 1.6 VTVT S</td>\n",
       "      <td>2015</td>\n",
       "      <td>850000.0</td>\n",
       "      <td>25000.0</td>\n",
       "      <td>Petroll</td>\n",
       "      <td>Individual</td>\n",
       "      <td>Manual</td>\n",
       "      <td>First Owner</td>\n",
       "    </tr>\n",
       "    <tr>\n",
       "      <th>9</th>\n",
       "      <td>Maruti Celerio Green VXI</td>\n",
       "      <td>2017</td>\n",
       "      <td>365000.0</td>\n",
       "      <td>78000.0</td>\n",
       "      <td>CNG</td>\n",
       "      <td>Individual</td>\n",
       "      <td>Manual</td>\n",
       "      <td>First Owner</td>\n",
       "    </tr>\n",
       "    <tr>\n",
       "      <th>10</th>\n",
       "      <td>Chevrolet Sail 1.2 Base</td>\n",
       "      <td>2015</td>\n",
       "      <td>260000.0</td>\n",
       "      <td>35000.0</td>\n",
       "      <td>Petrol</td>\n",
       "      <td>Individual</td>\n",
       "      <td>Manual</td>\n",
       "      <td>First Owner</td>\n",
       "    </tr>\n",
       "    <tr>\n",
       "      <th>11</th>\n",
       "      <td>Tata Indigo Grand Petrol</td>\n",
       "      <td>2014</td>\n",
       "      <td>250000.0</td>\n",
       "      <td>100000.0</td>\n",
       "      <td>Petrol</td>\n",
       "      <td>Individual</td>\n",
       "      <td>Manual</td>\n",
       "      <td>First Owner</td>\n",
       "    </tr>\n",
       "    <tr>\n",
       "      <th>12</th>\n",
       "      <td>Toyota Corolla Altis 1.8 VL CVT</td>\n",
       "      <td>2018</td>\n",
       "      <td>1650000.0</td>\n",
       "      <td>25000.0</td>\n",
       "      <td>Petrol</td>\n",
       "      <td>Dealer</td>\n",
       "      <td>Automatic</td>\n",
       "      <td>First Owner</td>\n",
       "    </tr>\n",
       "    <tr>\n",
       "      <th>13</th>\n",
       "      <td>Maruti 800 AC</td>\n",
       "      <td>2007</td>\n",
       "      <td>60000.0</td>\n",
       "      <td>70000.0</td>\n",
       "      <td>Petrol</td>\n",
       "      <td>Individual</td>\n",
       "      <td>Manual</td>\n",
       "      <td>First Owner</td>\n",
       "    </tr>\n",
       "    <tr>\n",
       "      <th>14</th>\n",
       "      <td>Maruti Wagon R LXI Minor</td>\n",
       "      <td>2007</td>\n",
       "      <td>135000.0</td>\n",
       "      <td>50000.0</td>\n",
       "      <td>Petrol</td>\n",
       "      <td>Individual</td>\n",
       "      <td>Manual</td>\n",
       "      <td>First Owner</td>\n",
       "    </tr>\n",
       "    <tr>\n",
       "      <th>15</th>\n",
       "      <td>Hyundai Verna 1.6 SX</td>\n",
       "      <td>2012</td>\n",
       "      <td>600000.0</td>\n",
       "      <td>100000.0</td>\n",
       "      <td>Diesel</td>\n",
       "      <td>Individual</td>\n",
       "      <td>Manual</td>\n",
       "      <td>First Owner</td>\n",
       "    </tr>\n",
       "    <tr>\n",
       "      <th>16</th>\n",
       "      <td>Datsun RediGO T Option</td>\n",
       "      <td>2017</td>\n",
       "      <td>250000.0</td>\n",
       "      <td>46000.0</td>\n",
       "      <td>Petrol</td>\n",
       "      <td>Individual</td>\n",
       "      <td>Manual</td>\n",
       "      <td>First Owner</td>\n",
       "    </tr>\n",
       "    <tr>\n",
       "      <th>17</th>\n",
       "      <td>Honda Amaze VX i-DTEC</td>\n",
       "      <td>2014</td>\n",
       "      <td>450000.0</td>\n",
       "      <td>141000.0</td>\n",
       "      <td>Diesel</td>\n",
       "      <td>Individual</td>\n",
       "      <td>Manual</td>\n",
       "      <td>Second Owner</td>\n",
       "    </tr>\n",
       "    <tr>\n",
       "      <th>18</th>\n",
       "      <td>Maruti Alto LX BSIII</td>\n",
       "      <td>2007</td>\n",
       "      <td>140000.0</td>\n",
       "      <td>125000.0</td>\n",
       "      <td>Petrol</td>\n",
       "      <td>Individual</td>\n",
       "      <td>Manual</td>\n",
       "      <td>First Owner</td>\n",
       "    </tr>\n",
       "    <tr>\n",
       "      <th>19</th>\n",
       "      <td>Hyundai Xcent 1.2 Kappa S</td>\n",
       "      <td>2016</td>\n",
       "      <td>550000.0</td>\n",
       "      <td>25000.0</td>\n",
       "      <td>Petrol</td>\n",
       "      <td>Individual</td>\n",
       "      <td>Manual</td>\n",
       "      <td>First Owner</td>\n",
       "    </tr>\n",
       "  </tbody>\n",
       "</table>\n",
       "</div>"
      ]
     },
     "execution_count": 78,
     "metadata": {},
     "output_type": "execute_result"
    }
   ],
   "execution_count": 78
  },
  {
   "cell_type": "markdown",
   "source": [
    "2.2 Оценка данных с помощью метода info."
   ],
   "metadata": {
    "id": "Ze-lXxLMhpWv"
   }
  },
  {
   "cell_type": "code",
   "source": [
    "# выполнит метод info\n",
    "df.info()"
   ],
   "metadata": {
    "id": "bjhngmaLiGM-",
    "ExecuteTime": {
     "end_time": "2025-09-15T12:50:46.348643Z",
     "start_time": "2025-09-15T12:50:46.341717Z"
    }
   },
   "outputs": [
    {
     "name": "stdout",
     "output_type": "stream",
     "text": [
      "<class 'pandas.core.frame.DataFrame'>\n",
      "RangeIndex: 4344 entries, 0 to 4343\n",
      "Data columns (total 8 columns):\n",
      " #   Column        Non-Null Count  Dtype  \n",
      "---  ------        --------------  -----  \n",
      " 0   Name          4344 non-null   object \n",
      " 1   year          4344 non-null   int64  \n",
      " 2   SellingPrice  4342 non-null   float64\n",
      " 3   kmdriven      4343 non-null   float64\n",
      " 4   fuel          4343 non-null   object \n",
      " 5   seller_Type   4344 non-null   object \n",
      " 6   transmission  4344 non-null   object \n",
      " 7   owner         4344 non-null   object \n",
      "dtypes: float64(2), int64(1), object(5)\n",
      "memory usage: 271.6+ KB\n"
     ]
    }
   ],
   "execution_count": 79
  },
  {
   "cell_type": "markdown",
   "source": [
    "2.3 Оценка данных с помощью метода describe."
   ],
   "metadata": {
    "id": "06PDq9DAiMAY"
   }
  },
  {
   "cell_type": "code",
   "source": [
    "# оцените числовые столбцы с помощью describe\n",
    "df.describe()"
   ],
   "metadata": {
    "id": "cTVFwzO1jQfN",
    "ExecuteTime": {
     "end_time": "2025-09-15T12:50:46.433841Z",
     "start_time": "2025-09-15T12:50:46.424084Z"
    }
   },
   "outputs": [
    {
     "data": {
      "text/plain": [
       "              year  SellingPrice       kmdriven\n",
       "count  4344.000000  4.342000e+03    4343.000000\n",
       "mean   2013.092311  5.039987e+05   66193.063320\n",
       "std       4.214543  5.784465e+05   46636.648764\n",
       "min    1992.000000  2.000000e+04       1.000000\n",
       "25%    2011.000000  2.100000e+05   35000.000000\n",
       "50%    2014.000000  3.500000e+05   60000.000000\n",
       "75%    2016.000000  6.000000e+05   90000.000000\n",
       "max    2020.000000  8.900000e+06  806599.000000"
      ],
      "text/html": [
       "<div>\n",
       "<style scoped>\n",
       "    .dataframe tbody tr th:only-of-type {\n",
       "        vertical-align: middle;\n",
       "    }\n",
       "\n",
       "    .dataframe tbody tr th {\n",
       "        vertical-align: top;\n",
       "    }\n",
       "\n",
       "    .dataframe thead th {\n",
       "        text-align: right;\n",
       "    }\n",
       "</style>\n",
       "<table border=\"1\" class=\"dataframe\">\n",
       "  <thead>\n",
       "    <tr style=\"text-align: right;\">\n",
       "      <th></th>\n",
       "      <th>year</th>\n",
       "      <th>SellingPrice</th>\n",
       "      <th>kmdriven</th>\n",
       "    </tr>\n",
       "  </thead>\n",
       "  <tbody>\n",
       "    <tr>\n",
       "      <th>count</th>\n",
       "      <td>4344.000000</td>\n",
       "      <td>4.342000e+03</td>\n",
       "      <td>4343.000000</td>\n",
       "    </tr>\n",
       "    <tr>\n",
       "      <th>mean</th>\n",
       "      <td>2013.092311</td>\n",
       "      <td>5.039987e+05</td>\n",
       "      <td>66193.063320</td>\n",
       "    </tr>\n",
       "    <tr>\n",
       "      <th>std</th>\n",
       "      <td>4.214543</td>\n",
       "      <td>5.784465e+05</td>\n",
       "      <td>46636.648764</td>\n",
       "    </tr>\n",
       "    <tr>\n",
       "      <th>min</th>\n",
       "      <td>1992.000000</td>\n",
       "      <td>2.000000e+04</td>\n",
       "      <td>1.000000</td>\n",
       "    </tr>\n",
       "    <tr>\n",
       "      <th>25%</th>\n",
       "      <td>2011.000000</td>\n",
       "      <td>2.100000e+05</td>\n",
       "      <td>35000.000000</td>\n",
       "    </tr>\n",
       "    <tr>\n",
       "      <th>50%</th>\n",
       "      <td>2014.000000</td>\n",
       "      <td>3.500000e+05</td>\n",
       "      <td>60000.000000</td>\n",
       "    </tr>\n",
       "    <tr>\n",
       "      <th>75%</th>\n",
       "      <td>2016.000000</td>\n",
       "      <td>6.000000e+05</td>\n",
       "      <td>90000.000000</td>\n",
       "    </tr>\n",
       "    <tr>\n",
       "      <th>max</th>\n",
       "      <td>2020.000000</td>\n",
       "      <td>8.900000e+06</td>\n",
       "      <td>806599.000000</td>\n",
       "    </tr>\n",
       "  </tbody>\n",
       "</table>\n",
       "</div>"
      ]
     },
     "execution_count": 80,
     "metadata": {},
     "output_type": "execute_result"
    }
   ],
   "execution_count": 80
  },
  {
   "cell_type": "markdown",
   "source": [
    "\n",
    "---\n",
    "**Все столбцы с числовыми данными имеют корректный тип данных.\n",
    "Средний год выставляемой на продажу машины - 2013, в основном 2009-2017.\n",
    "Цена машин от 20_000 до 8_900_000 с большим разнообразием.\n",
    "Пробег также отличается между машинами, но большая часть лотов с пробегом меньше 100к.**\n",
    "\n",
    "---\n"
   ],
   "metadata": {
    "id": "oOZUrZGuiGqc"
   }
  },
  {
   "cell_type": "markdown",
   "source": [
    " 2.4 Оценка названий столбцов"
   ],
   "metadata": {
    "id": "JTbo0IGDiHxn"
   }
  },
  {
   "cell_type": "code",
   "source": [
    "# Вывести на экран названия столбцов с помощью df.columns. Выявить проблемы с названиями, если они есть. При необходимости переименовать столбцы. Если проблемы не обнаружены также дать пояснения.\n",
    "df.columns.tolist()"
   ],
   "metadata": {
    "id": "9NEyi2Odik3e",
    "ExecuteTime": {
     "end_time": "2025-09-15T12:50:46.522777Z",
     "start_time": "2025-09-15T12:50:46.519221Z"
    }
   },
   "outputs": [
    {
     "data": {
      "text/plain": [
       "['Name',\n",
       " 'year',\n",
       " 'SellingPrice',\n",
       " 'kmdriven',\n",
       " 'fuel',\n",
       " 'seller_Type',\n",
       " 'transmission',\n",
       " 'owner']"
      ]
     },
     "execution_count": 81,
     "metadata": {},
     "output_type": "execute_result"
    }
   ],
   "execution_count": 81
  },
  {
   "cell_type": "code",
   "source": [
    "# переименование при необходимости\n",
    "df.columns = df.columns.str.lower()\n",
    "df = df.rename(columns={\n",
    "    'sellingprice': 'price',\n",
    "    'kmdriven': 'km_driven', \n",
    "})\n",
    "\n",
    "df.columns.tolist()"
   ],
   "metadata": {
    "id": "QSJBLl4qjjP8",
    "ExecuteTime": {
     "end_time": "2025-09-15T12:50:46.620719Z",
     "start_time": "2025-09-15T12:50:46.615453Z"
    }
   },
   "outputs": [
    {
     "data": {
      "text/plain": [
       "['name',\n",
       " 'year',\n",
       " 'price',\n",
       " 'km_driven',\n",
       " 'fuel',\n",
       " 'seller_type',\n",
       " 'transmission',\n",
       " 'owner']"
      ]
     },
     "execution_count": 82,
     "metadata": {},
     "output_type": "execute_result"
    }
   ],
   "execution_count": 82
  },
  {
   "cell_type": "markdown",
   "source": [
    "### 3. Проверка пропусков"
   ],
   "metadata": {
    "id": "V0tLQcyrjnA_"
   }
  },
  {
   "cell_type": "code",
   "source": [
    "# Проверить данные на наличие пропусков и устранить их, если они есть (пропуски необходимо либо удалить, либо заменить каким-то значением).\n",
    "print(\"Пропущено ДО\")\n",
    "missing_values = df.isnull().sum()\n",
    "print(missing_values)\n",
    "\n",
    "for name in ['price', 'km_driven']:\n",
    "    df[name] = df[name].fillna(df[name].mean())\n",
    "\n",
    "most_popular= df['fuel'].value_counts().idxmax()\n",
    "df['fuel'] = df['fuel'].fillna(most_popular)\n",
    "\n",
    "print(\"Пропущено ПОСЛЕ\")\n",
    "missing_values = df.isnull().sum()\n",
    "print(missing_values)"
   ],
   "metadata": {
    "id": "xuTz-Avjj9AW",
    "ExecuteTime": {
     "end_time": "2025-09-15T12:50:46.660354Z",
     "start_time": "2025-09-15T12:50:46.650012Z"
    }
   },
   "outputs": [
    {
     "name": "stdout",
     "output_type": "stream",
     "text": [
      "Пропущено ДО\n",
      "name            0\n",
      "year            0\n",
      "price           2\n",
      "km_driven       1\n",
      "fuel            1\n",
      "seller_type     0\n",
      "transmission    0\n",
      "owner           0\n",
      "dtype: int64\n",
      "Пропущено ПОСЛЕ\n",
      "name            0\n",
      "year            0\n",
      "price           0\n",
      "km_driven       0\n",
      "fuel            0\n",
      "seller_type     0\n",
      "transmission    0\n",
      "owner           0\n",
      "dtype: int64\n"
     ]
    }
   ],
   "execution_count": 83
  },
  {
   "cell_type": "markdown",
   "source": [
    "---\n",
    "\n",
    "**Пропущенные в числовых колонках значения заменены на среднее по столбцу. Малое количество таких строк позволяет выполнить данное действие без изменения общего результата.\n",
    "Пропущенное значение типа топлива заменено на самое распространенное - diesel.**\n",
    "\n",
    " ---"
   ],
   "metadata": {
    "id": "efZ7vgSVkPQH"
   }
  },
  {
   "cell_type": "markdown",
   "source": [
    "### 4. Проверка дубликатов"
   ],
   "metadata": {
    "id": "kkyrXXHikEXk"
   }
  },
  {
   "cell_type": "markdown",
   "source": [
    "#### Проверка явных дубликатов"
   ],
   "metadata": {
    "id": "ImqHvr3okIQ6"
   }
  },
  {
   "cell_type": "code",
   "source": [
    "duplicates = df.duplicated().sum()\n",
    "print(f\"Явных дубликатов {duplicates}\")\n",
    "\n",
    "df[df.duplicated()].head()\n"
   ],
   "metadata": {
    "id": "qu1oh-e5lDZ1",
    "ExecuteTime": {
     "end_time": "2025-09-15T12:50:46.700898Z",
     "start_time": "2025-09-15T12:50:46.687236Z"
    }
   },
   "outputs": [
    {
     "name": "stdout",
     "output_type": "stream",
     "text": [
      "Явных дубликатов 763\n"
     ]
    },
    {
     "data": {
      "text/plain": [
       "                        name  year     price  km_driven    fuel seller_type  \\\n",
       "13             Maruti 800 AC  2007   60000.0    70000.0  Petrol  Individual   \n",
       "14  Maruti Wagon R LXI Minor  2007  135000.0    50000.0  Petrol  Individual   \n",
       "15      Hyundai Verna 1.6 SX  2012  600000.0   100000.0  Diesel  Individual   \n",
       "16    Datsun RediGO T Option  2017  250000.0    46000.0  Petrol  Individual   \n",
       "17     Honda Amaze VX i-DTEC  2014  450000.0   141000.0  Diesel  Individual   \n",
       "\n",
       "   transmission         owner  \n",
       "13       Manual   First Owner  \n",
       "14       Manual   First Owner  \n",
       "15       Manual   First Owner  \n",
       "16       Manual   First Owner  \n",
       "17       Manual  Second Owner  "
      ],
      "text/html": [
       "<div>\n",
       "<style scoped>\n",
       "    .dataframe tbody tr th:only-of-type {\n",
       "        vertical-align: middle;\n",
       "    }\n",
       "\n",
       "    .dataframe tbody tr th {\n",
       "        vertical-align: top;\n",
       "    }\n",
       "\n",
       "    .dataframe thead th {\n",
       "        text-align: right;\n",
       "    }\n",
       "</style>\n",
       "<table border=\"1\" class=\"dataframe\">\n",
       "  <thead>\n",
       "    <tr style=\"text-align: right;\">\n",
       "      <th></th>\n",
       "      <th>name</th>\n",
       "      <th>year</th>\n",
       "      <th>price</th>\n",
       "      <th>km_driven</th>\n",
       "      <th>fuel</th>\n",
       "      <th>seller_type</th>\n",
       "      <th>transmission</th>\n",
       "      <th>owner</th>\n",
       "    </tr>\n",
       "  </thead>\n",
       "  <tbody>\n",
       "    <tr>\n",
       "      <th>13</th>\n",
       "      <td>Maruti 800 AC</td>\n",
       "      <td>2007</td>\n",
       "      <td>60000.0</td>\n",
       "      <td>70000.0</td>\n",
       "      <td>Petrol</td>\n",
       "      <td>Individual</td>\n",
       "      <td>Manual</td>\n",
       "      <td>First Owner</td>\n",
       "    </tr>\n",
       "    <tr>\n",
       "      <th>14</th>\n",
       "      <td>Maruti Wagon R LXI Minor</td>\n",
       "      <td>2007</td>\n",
       "      <td>135000.0</td>\n",
       "      <td>50000.0</td>\n",
       "      <td>Petrol</td>\n",
       "      <td>Individual</td>\n",
       "      <td>Manual</td>\n",
       "      <td>First Owner</td>\n",
       "    </tr>\n",
       "    <tr>\n",
       "      <th>15</th>\n",
       "      <td>Hyundai Verna 1.6 SX</td>\n",
       "      <td>2012</td>\n",
       "      <td>600000.0</td>\n",
       "      <td>100000.0</td>\n",
       "      <td>Diesel</td>\n",
       "      <td>Individual</td>\n",
       "      <td>Manual</td>\n",
       "      <td>First Owner</td>\n",
       "    </tr>\n",
       "    <tr>\n",
       "      <th>16</th>\n",
       "      <td>Datsun RediGO T Option</td>\n",
       "      <td>2017</td>\n",
       "      <td>250000.0</td>\n",
       "      <td>46000.0</td>\n",
       "      <td>Petrol</td>\n",
       "      <td>Individual</td>\n",
       "      <td>Manual</td>\n",
       "      <td>First Owner</td>\n",
       "    </tr>\n",
       "    <tr>\n",
       "      <th>17</th>\n",
       "      <td>Honda Amaze VX i-DTEC</td>\n",
       "      <td>2014</td>\n",
       "      <td>450000.0</td>\n",
       "      <td>141000.0</td>\n",
       "      <td>Diesel</td>\n",
       "      <td>Individual</td>\n",
       "      <td>Manual</td>\n",
       "      <td>Second Owner</td>\n",
       "    </tr>\n",
       "  </tbody>\n",
       "</table>\n",
       "</div>"
      ]
     },
     "execution_count": 84,
     "metadata": {},
     "output_type": "execute_result"
    }
   ],
   "execution_count": 84
  },
  {
   "cell_type": "code",
   "source": [
    "# удалите дубликаты, если они есть\n",
    "df_before = df.shape[0]\n",
    "df = df.drop_duplicates()\n",
    "df_after = df.shape[0]\n",
    "print(f\"Удалено {df_before - df_after}, осталось {df_after}\")"
   ],
   "metadata": {
    "id": "ntArgvChkK26",
    "ExecuteTime": {
     "end_time": "2025-09-15T12:50:46.770854Z",
     "start_time": "2025-09-15T12:50:46.764429Z"
    }
   },
   "outputs": [
    {
     "name": "stdout",
     "output_type": "stream",
     "text": [
      "Удалено 763, осталось 3581\n"
     ]
    }
   ],
   "execution_count": 85
  },
  {
   "cell_type": "markdown",
   "source": [
    "#### Проверка неявных дубликатов"
   ],
   "metadata": {
    "id": "VeHTMcOmkLSw"
   }
  },
  {
   "cell_type": "code",
   "source": [
    "key_columns = ['year', 'price', 'km_driven', 'fuel', 'seller_type', 'transmission', 'owner']\n",
    "implicit_duplicates = df.duplicated(subset=key_columns).sum()\n",
    "print(f\"Неявных дубликатов {implicit_duplicates}\")\n",
    "\n",
    "duplicate_mask = df.duplicated(subset=key_columns, keep=False)\n",
    "display(df[duplicate_mask].sort_values(key_columns).head(20))"
   ],
   "metadata": {
    "id": "-uOPKHlVlGo8",
    "ExecuteTime": {
     "end_time": "2025-09-15T12:50:46.888222Z",
     "start_time": "2025-09-15T12:50:46.873265Z"
    }
   },
   "outputs": [
    {
     "name": "stdout",
     "output_type": "stream",
     "text": [
      "Неявных дубликатов 80\n"
     ]
    },
    {
     "data": {
      "text/plain": [
       "                                  name  year     price  km_driven    fuel  \\\n",
       "1446                     Maruti 800 AC  2002   80000.0    70000.0  Petrol   \n",
       "2929         Hyundai Santro LP zipPlus  2002   80000.0    70000.0  Petrol   \n",
       "689   Skoda Octavia Classic 1.9 TDI MT  2004  120000.0   120000.0  Diesel   \n",
       "3959               Hyundai Accent CRDi  2004  120000.0   120000.0  Diesel   \n",
       "310                 Maruti Wagon R LXI  2005   80000.0    40000.0  Petrol   \n",
       "1640          Maruti Wagon R VXI BSIII  2005   80000.0    40000.0  Petrol   \n",
       "392           Maruti Wagon R LXI Minor  2007   95000.0    80000.0  Petrol   \n",
       "684    Maruti Zen Estilo 1.1 VXI BSIII  2007   95000.0    80000.0  Petrol   \n",
       "359               Maruti SX4 Vxi BSIII  2007  100000.0    90000.0  Petrol   \n",
       "3653                 Maruti Esteem Vxi  2007  100000.0    90000.0  Petrol   \n",
       "2206           Mahindra Bolero SLX 2WD  2007  300000.0   100000.0  Diesel   \n",
       "2911               Mahindra Bolero SLX  2007  300000.0   100000.0  Diesel   \n",
       "737                    Maruti Alto LXi  2008  110000.0    90000.0  Petrol   \n",
       "1182              Maruti Alto LX BSIII  2008  110000.0    90000.0  Petrol   \n",
       "816                Chevrolet Spark 1.0  2008  120000.0   100000.0  Petrol   \n",
       "1338       Ford Fiesta 1.4 Duratec ZXI  2008  120000.0   100000.0  Petrol   \n",
       "872            Hyundai Santro Xing GLS  2009  140000.0   120000.0  Petrol   \n",
       "3521       Maruti Zen Estilo LXI BS IV  2009  140000.0   120000.0  Petrol   \n",
       "261                       Honda Jazz S  2009  300000.0    50000.0  Petrol   \n",
       "277               Hyundai i20 Asta (o)  2009  300000.0    50000.0  Petrol   \n",
       "\n",
       "     seller_type transmission         owner  \n",
       "1446  Individual       Manual  Second Owner  \n",
       "2929  Individual       Manual  Second Owner  \n",
       "689   Individual       Manual  Second Owner  \n",
       "3959  Individual       Manual  Second Owner  \n",
       "310   Individual       Manual  Second Owner  \n",
       "1640  Individual       Manual  Second Owner  \n",
       "392   Individual       Manual   First Owner  \n",
       "684   Individual       Manual   First Owner  \n",
       "359   Individual       Manual  Second Owner  \n",
       "3653  Individual       Manual  Second Owner  \n",
       "2206  Individual       Manual  Second Owner  \n",
       "2911  Individual       Manual  Second Owner  \n",
       "737   Individual       Manual  Second Owner  \n",
       "1182  Individual       Manual  Second Owner  \n",
       "816   Individual       Manual   Third Owner  \n",
       "1338  Individual       Manual   Third Owner  \n",
       "872   Individual       Manual   First Owner  \n",
       "3521  Individual       Manual   First Owner  \n",
       "261   Individual       Manual   First Owner  \n",
       "277   Individual       Manual   First Owner  "
      ],
      "text/html": [
       "<div>\n",
       "<style scoped>\n",
       "    .dataframe tbody tr th:only-of-type {\n",
       "        vertical-align: middle;\n",
       "    }\n",
       "\n",
       "    .dataframe tbody tr th {\n",
       "        vertical-align: top;\n",
       "    }\n",
       "\n",
       "    .dataframe thead th {\n",
       "        text-align: right;\n",
       "    }\n",
       "</style>\n",
       "<table border=\"1\" class=\"dataframe\">\n",
       "  <thead>\n",
       "    <tr style=\"text-align: right;\">\n",
       "      <th></th>\n",
       "      <th>name</th>\n",
       "      <th>year</th>\n",
       "      <th>price</th>\n",
       "      <th>km_driven</th>\n",
       "      <th>fuel</th>\n",
       "      <th>seller_type</th>\n",
       "      <th>transmission</th>\n",
       "      <th>owner</th>\n",
       "    </tr>\n",
       "  </thead>\n",
       "  <tbody>\n",
       "    <tr>\n",
       "      <th>1446</th>\n",
       "      <td>Maruti 800 AC</td>\n",
       "      <td>2002</td>\n",
       "      <td>80000.0</td>\n",
       "      <td>70000.0</td>\n",
       "      <td>Petrol</td>\n",
       "      <td>Individual</td>\n",
       "      <td>Manual</td>\n",
       "      <td>Second Owner</td>\n",
       "    </tr>\n",
       "    <tr>\n",
       "      <th>2929</th>\n",
       "      <td>Hyundai Santro LP zipPlus</td>\n",
       "      <td>2002</td>\n",
       "      <td>80000.0</td>\n",
       "      <td>70000.0</td>\n",
       "      <td>Petrol</td>\n",
       "      <td>Individual</td>\n",
       "      <td>Manual</td>\n",
       "      <td>Second Owner</td>\n",
       "    </tr>\n",
       "    <tr>\n",
       "      <th>689</th>\n",
       "      <td>Skoda Octavia Classic 1.9 TDI MT</td>\n",
       "      <td>2004</td>\n",
       "      <td>120000.0</td>\n",
       "      <td>120000.0</td>\n",
       "      <td>Diesel</td>\n",
       "      <td>Individual</td>\n",
       "      <td>Manual</td>\n",
       "      <td>Second Owner</td>\n",
       "    </tr>\n",
       "    <tr>\n",
       "      <th>3959</th>\n",
       "      <td>Hyundai Accent CRDi</td>\n",
       "      <td>2004</td>\n",
       "      <td>120000.0</td>\n",
       "      <td>120000.0</td>\n",
       "      <td>Diesel</td>\n",
       "      <td>Individual</td>\n",
       "      <td>Manual</td>\n",
       "      <td>Second Owner</td>\n",
       "    </tr>\n",
       "    <tr>\n",
       "      <th>310</th>\n",
       "      <td>Maruti Wagon R LXI</td>\n",
       "      <td>2005</td>\n",
       "      <td>80000.0</td>\n",
       "      <td>40000.0</td>\n",
       "      <td>Petrol</td>\n",
       "      <td>Individual</td>\n",
       "      <td>Manual</td>\n",
       "      <td>Second Owner</td>\n",
       "    </tr>\n",
       "    <tr>\n",
       "      <th>1640</th>\n",
       "      <td>Maruti Wagon R VXI BSIII</td>\n",
       "      <td>2005</td>\n",
       "      <td>80000.0</td>\n",
       "      <td>40000.0</td>\n",
       "      <td>Petrol</td>\n",
       "      <td>Individual</td>\n",
       "      <td>Manual</td>\n",
       "      <td>Second Owner</td>\n",
       "    </tr>\n",
       "    <tr>\n",
       "      <th>392</th>\n",
       "      <td>Maruti Wagon R LXI Minor</td>\n",
       "      <td>2007</td>\n",
       "      <td>95000.0</td>\n",
       "      <td>80000.0</td>\n",
       "      <td>Petrol</td>\n",
       "      <td>Individual</td>\n",
       "      <td>Manual</td>\n",
       "      <td>First Owner</td>\n",
       "    </tr>\n",
       "    <tr>\n",
       "      <th>684</th>\n",
       "      <td>Maruti Zen Estilo 1.1 VXI BSIII</td>\n",
       "      <td>2007</td>\n",
       "      <td>95000.0</td>\n",
       "      <td>80000.0</td>\n",
       "      <td>Petrol</td>\n",
       "      <td>Individual</td>\n",
       "      <td>Manual</td>\n",
       "      <td>First Owner</td>\n",
       "    </tr>\n",
       "    <tr>\n",
       "      <th>359</th>\n",
       "      <td>Maruti SX4 Vxi BSIII</td>\n",
       "      <td>2007</td>\n",
       "      <td>100000.0</td>\n",
       "      <td>90000.0</td>\n",
       "      <td>Petrol</td>\n",
       "      <td>Individual</td>\n",
       "      <td>Manual</td>\n",
       "      <td>Second Owner</td>\n",
       "    </tr>\n",
       "    <tr>\n",
       "      <th>3653</th>\n",
       "      <td>Maruti Esteem Vxi</td>\n",
       "      <td>2007</td>\n",
       "      <td>100000.0</td>\n",
       "      <td>90000.0</td>\n",
       "      <td>Petrol</td>\n",
       "      <td>Individual</td>\n",
       "      <td>Manual</td>\n",
       "      <td>Second Owner</td>\n",
       "    </tr>\n",
       "    <tr>\n",
       "      <th>2206</th>\n",
       "      <td>Mahindra Bolero SLX 2WD</td>\n",
       "      <td>2007</td>\n",
       "      <td>300000.0</td>\n",
       "      <td>100000.0</td>\n",
       "      <td>Diesel</td>\n",
       "      <td>Individual</td>\n",
       "      <td>Manual</td>\n",
       "      <td>Second Owner</td>\n",
       "    </tr>\n",
       "    <tr>\n",
       "      <th>2911</th>\n",
       "      <td>Mahindra Bolero SLX</td>\n",
       "      <td>2007</td>\n",
       "      <td>300000.0</td>\n",
       "      <td>100000.0</td>\n",
       "      <td>Diesel</td>\n",
       "      <td>Individual</td>\n",
       "      <td>Manual</td>\n",
       "      <td>Second Owner</td>\n",
       "    </tr>\n",
       "    <tr>\n",
       "      <th>737</th>\n",
       "      <td>Maruti Alto LXi</td>\n",
       "      <td>2008</td>\n",
       "      <td>110000.0</td>\n",
       "      <td>90000.0</td>\n",
       "      <td>Petrol</td>\n",
       "      <td>Individual</td>\n",
       "      <td>Manual</td>\n",
       "      <td>Second Owner</td>\n",
       "    </tr>\n",
       "    <tr>\n",
       "      <th>1182</th>\n",
       "      <td>Maruti Alto LX BSIII</td>\n",
       "      <td>2008</td>\n",
       "      <td>110000.0</td>\n",
       "      <td>90000.0</td>\n",
       "      <td>Petrol</td>\n",
       "      <td>Individual</td>\n",
       "      <td>Manual</td>\n",
       "      <td>Second Owner</td>\n",
       "    </tr>\n",
       "    <tr>\n",
       "      <th>816</th>\n",
       "      <td>Chevrolet Spark 1.0</td>\n",
       "      <td>2008</td>\n",
       "      <td>120000.0</td>\n",
       "      <td>100000.0</td>\n",
       "      <td>Petrol</td>\n",
       "      <td>Individual</td>\n",
       "      <td>Manual</td>\n",
       "      <td>Third Owner</td>\n",
       "    </tr>\n",
       "    <tr>\n",
       "      <th>1338</th>\n",
       "      <td>Ford Fiesta 1.4 Duratec ZXI</td>\n",
       "      <td>2008</td>\n",
       "      <td>120000.0</td>\n",
       "      <td>100000.0</td>\n",
       "      <td>Petrol</td>\n",
       "      <td>Individual</td>\n",
       "      <td>Manual</td>\n",
       "      <td>Third Owner</td>\n",
       "    </tr>\n",
       "    <tr>\n",
       "      <th>872</th>\n",
       "      <td>Hyundai Santro Xing GLS</td>\n",
       "      <td>2009</td>\n",
       "      <td>140000.0</td>\n",
       "      <td>120000.0</td>\n",
       "      <td>Petrol</td>\n",
       "      <td>Individual</td>\n",
       "      <td>Manual</td>\n",
       "      <td>First Owner</td>\n",
       "    </tr>\n",
       "    <tr>\n",
       "      <th>3521</th>\n",
       "      <td>Maruti Zen Estilo LXI BS IV</td>\n",
       "      <td>2009</td>\n",
       "      <td>140000.0</td>\n",
       "      <td>120000.0</td>\n",
       "      <td>Petrol</td>\n",
       "      <td>Individual</td>\n",
       "      <td>Manual</td>\n",
       "      <td>First Owner</td>\n",
       "    </tr>\n",
       "    <tr>\n",
       "      <th>261</th>\n",
       "      <td>Honda Jazz S</td>\n",
       "      <td>2009</td>\n",
       "      <td>300000.0</td>\n",
       "      <td>50000.0</td>\n",
       "      <td>Petrol</td>\n",
       "      <td>Individual</td>\n",
       "      <td>Manual</td>\n",
       "      <td>First Owner</td>\n",
       "    </tr>\n",
       "    <tr>\n",
       "      <th>277</th>\n",
       "      <td>Hyundai i20 Asta (o)</td>\n",
       "      <td>2009</td>\n",
       "      <td>300000.0</td>\n",
       "      <td>50000.0</td>\n",
       "      <td>Petrol</td>\n",
       "      <td>Individual</td>\n",
       "      <td>Manual</td>\n",
       "      <td>First Owner</td>\n",
       "    </tr>\n",
       "  </tbody>\n",
       "</table>\n",
       "</div>"
      ]
     },
     "metadata": {},
     "output_type": "display_data"
    }
   ],
   "execution_count": 86
  },
  {
   "metadata": {
    "ExecuteTime": {
     "end_time": "2025-09-15T12:50:46.967207Z",
     "start_time": "2025-09-15T12:50:46.961295Z"
    }
   },
   "cell_type": "code",
   "source": [
    "def all_value_counts():\n",
    "    for i in [\"fuel\", \"seller_type\", \"transmission\", \"owner\"]:\n",
    "        print('\\n')\n",
    "        print(df[i].value_counts())\n",
    "\n",
    "all_value_counts()"
   ],
   "outputs": [
    {
     "name": "stdout",
     "output_type": "stream",
     "text": [
      "\n",
      "\n",
      "fuel\n",
      "Diesel      1801\n",
      "Petrol      1719\n",
      "CNG           37\n",
      "LPG           22\n",
      "Petroll        1\n",
      "Electric       1\n",
      "Name: count, dtype: int64\n",
      "\n",
      "\n",
      "seller_type\n",
      "Individual          2836\n",
      "Dealer               711\n",
      "Trustmark Dealer      33\n",
      "Dealeer                1\n",
      "Name: count, dtype: int64\n",
      "\n",
      "\n",
      "transmission\n",
      "Manual       3269\n",
      "Automatic     312\n",
      "Name: count, dtype: int64\n",
      "\n",
      "\n",
      "owner\n",
      "First Owner             2220\n",
      "Second Owner             980\n",
      "Third Owner              289\n",
      "Fourth & Above Owner      75\n",
      "Test Drive Car            17\n",
      "Name: count, dtype: int64\n"
     ]
    }
   ],
   "execution_count": 87
  },
  {
   "metadata": {
    "ExecuteTime": {
     "end_time": "2025-09-15T12:50:47.063616Z",
     "start_time": "2025-09-15T12:50:47.055674Z"
    }
   },
   "cell_type": "code",
   "source": [
    "# удалите дубликаты, если они есть\n",
    "df['fuel'] = df['fuel'].replace('Petroll', 'Petrol')\n",
    "df['seller_type'] = df['fuel'].replace('Dealeer', 'Dealer')\n",
    "df['seller_type'] = df['fuel'].replace('Trustmark Dealer', 'Dealer')\n",
    "all_value_counts()\n",
    "\n",
    "df_before = df.shape[0]\n",
    "# df = df.drop_duplicates(subset=key_columns)\n",
    "df_after = df.shape[0]\n",
    "print(f\"Удалено {df_before - df_after}, осталось {df_after}\")"
   ],
   "outputs": [
    {
     "name": "stdout",
     "output_type": "stream",
     "text": [
      "\n",
      "\n",
      "fuel\n",
      "Diesel      1801\n",
      "Petrol      1720\n",
      "CNG           37\n",
      "LPG           22\n",
      "Electric       1\n",
      "Name: count, dtype: int64\n",
      "\n",
      "\n",
      "seller_type\n",
      "Diesel      1801\n",
      "Petrol      1720\n",
      "CNG           37\n",
      "LPG           22\n",
      "Electric       1\n",
      "Name: count, dtype: int64\n",
      "\n",
      "\n",
      "transmission\n",
      "Manual       3269\n",
      "Automatic     312\n",
      "Name: count, dtype: int64\n",
      "\n",
      "\n",
      "owner\n",
      "First Owner             2220\n",
      "Second Owner             980\n",
      "Third Owner              289\n",
      "Fourth & Above Owner      75\n",
      "Test Drive Car            17\n",
      "Name: count, dtype: int64\n",
      "Удалено 0, осталось 3581\n"
     ]
    }
   ],
   "execution_count": 88
  },
  {
   "metadata": {},
   "cell_type": "markdown",
   "source": [
    "---\n",
    "\n",
    "**Удалены все явные дубликаты.\n",
    "Найдены и исправлены неявные дубликаты в текстовых столбцах.\n",
    "Найдены строки, совпадающие по всем полям, кроме модели авто. Однако, данные строки оставлены в связи с частым значительным различием модели авто.**\n",
    "\n",
    " ---"
   ]
  },
  {
   "cell_type": "markdown",
   "source": [
    "### 5. Провека типов данных"
   ],
   "metadata": {
    "id": "md9GhfYMlbi7"
   }
  },
  {
   "metadata": {
    "ExecuteTime": {
     "end_time": "2025-09-15T12:50:47.103132Z",
     "start_time": "2025-09-15T12:50:47.098693Z"
    }
   },
   "cell_type": "code",
   "source": "df.dtypes",
   "outputs": [
    {
     "data": {
      "text/plain": [
       "name             object\n",
       "year              int64\n",
       "price           float64\n",
       "km_driven       float64\n",
       "fuel             object\n",
       "seller_type      object\n",
       "transmission     object\n",
       "owner            object\n",
       "dtype: object"
      ]
     },
     "execution_count": 89,
     "metadata": {},
     "output_type": "execute_result"
    }
   ],
   "execution_count": 89
  },
  {
   "metadata": {
    "ExecuteTime": {
     "end_time": "2025-09-15T12:50:47.371954Z",
     "start_time": "2025-09-15T12:50:47.364384Z"
    }
   },
   "cell_type": "code",
   "source": [
    "# Проверьте типы данных, при необходимости измените типы данных, чтобы они соответствовали действительности.\n",
    "categorical_columns = ['fuel', 'seller_type', 'transmission', 'owner']\n",
    "for col in categorical_columns:\n",
    "    df[col] = df[col].astype('category')\n",
    "\n",
    "df['km_driven'] = df['km_driven'].astype('int64')\n",
    "\n",
    "df.dtypes"
   ],
   "outputs": [
    {
     "data": {
      "text/plain": [
       "name              object\n",
       "year               int64\n",
       "price            float64\n",
       "km_driven          int64\n",
       "fuel            category\n",
       "seller_type     category\n",
       "transmission    category\n",
       "owner           category\n",
       "dtype: object"
      ]
     },
     "execution_count": 90,
     "metadata": {},
     "output_type": "execute_result"
    }
   ],
   "execution_count": 90
  },
  {
   "cell_type": "markdown",
   "source": [
    "---\n",
    "\n",
    "**Замечено, что пробег всех авто округлен до целых, поэтому тип столбца также сменен на целочисленный.\n",
    "Четыре последних столбца изменены на тип \"категория\".\n",
    "Остальные столбцы изменению не подлежат.**\n",
    "\n",
    " ---"
   ],
   "metadata": {
    "id": "DPDBNN4dlx7W"
   }
  },
  {
   "cell_type": "markdown",
   "source": [
    "### 6. Группировка данных"
   ],
   "metadata": {
    "id": "lzr0SgqlnmHy"
   }
  },
  {
   "cell_type": "markdown",
   "source": [
    "#### Задание 1"
   ],
   "metadata": {
    "id": "QG_dbwzfmZoS"
   }
  },
  {
   "cell_type": "markdown",
   "source": [
    "*`Группировка - тип коробки передач (transmission) по количеству\n",
    "разных типов топлива (fuel) . Результат должен иметь примерно следующий вид`*"
   ],
   "metadata": {
    "id": "CyCKTB4DmciW"
   }
  },
  {
   "cell_type": "code",
   "source": [
    "df_1 = df.groupby(['transmission','fuel']).size()\n",
    "df_1.columns = ['transmission','fuel','count']\n",
    "# df_1 = df_1.filter(lambda x: not any(x['count'] == 0))\n",
    "df_1"
   ],
   "metadata": {
    "id": "tp8Bl1gumYlI",
    "ExecuteTime": {
     "end_time": "2025-09-15T12:50:47.538307Z",
     "start_time": "2025-09-15T12:50:47.530012Z"
    }
   },
   "outputs": [
    {
     "name": "stderr",
     "output_type": "stream",
     "text": [
      "C:\\Users\\max\\AppData\\Local\\Temp\\ipykernel_23268\\924462801.py:1: FutureWarning: The default of observed=False is deprecated and will be changed to True in a future version of pandas. Pass observed=False to retain current behavior or observed=True to adopt the future default and silence this warning.\n",
      "  df_1 = df.groupby(['transmission','fuel']).size()\n"
     ]
    },
    {
     "data": {
      "text/plain": [
       "transmission  fuel    \n",
       "Automatic     CNG            0\n",
       "              Diesel       170\n",
       "              Electric       1\n",
       "              LPG            0\n",
       "              Petrol       141\n",
       "Manual        CNG           37\n",
       "              Diesel      1631\n",
       "              Electric       0\n",
       "              LPG           22\n",
       "              Petrol      1579\n",
       "dtype: int64"
      ]
     },
     "execution_count": 91,
     "metadata": {},
     "output_type": "execute_result"
    }
   ],
   "execution_count": 91
  },
  {
   "cell_type": "markdown",
   "source": [
    "**`Сделайте вывод - интерпретацию - что можно увидеть из результата данной группировки?`**\n",
    "\n",
    "**Вывод по заданию 1:**\n",
    "Из результата группировки видно, что в датасете представлены разные типы коробок передач, и каждый тип связан с определенными видами топлива. Это показывает технические характеристики автомобилей и может указывать на популярность определенных комбинаций transmission-fuel среди автовладельцев. Например, автоматические коробки передач могут быть более распространены с определенными типами двигателей/топлива."
   ],
   "metadata": {
    "id": "jLmhNuq0mms3"
   }
  },
  {
   "cell_type": "markdown",
   "source": [
    "---\n",
    "\n",
    "**Обратите внимание, что на защите вы должны ориентироваться в синтаксисе. При необходимости нужно быть готовым изменить код по просьбе преподавателя. Например, вместо среднего значения подсчитать медиану и т.д.**\n",
    "\n",
    "\n",
    " ---"
   ],
   "metadata": {
    "id": "quMr70SmnMXS"
   }
  },
  {
   "cell_type": "markdown",
   "source": [
    "#### Задание 2"
   ],
   "metadata": {
    "id": "j0isGCzEne7a"
   }
  },
  {
   "cell_type": "markdown",
   "source": [
    "*`Группировка - тип владельца (owner) по количеству разных коробок\n",
    "передач (transmission). Создать датафрейм. Переименовать столбец с\n",
    "количеством в “сountˮ. Отсортировать по убыванию столбца “countˮ.`*"
   ],
   "metadata": {
    "id": "kE2vLBWbne7a"
   }
  },
  {
   "cell_type": "code",
   "source": [
    "df_2 = df.groupby(['owner','transmission'])['name'].count().sort_values(ascending=False)\n",
    "df_2.rename('count')\n",
    "# df_2.rename(['owner','transmission', 'count'])\n",
    "\n",
    "# df_2 = df_2.sort_values('count', ascending=False)\n",
    "\n",
    "print(df_2)\n"
   ],
   "metadata": {
    "id": "ttn78Zaene7a",
    "ExecuteTime": {
     "end_time": "2025-09-15T12:50:47.633595Z",
     "start_time": "2025-09-15T12:50:47.626332Z"
    }
   },
   "outputs": [
    {
     "name": "stdout",
     "output_type": "stream",
     "text": [
      "owner                 transmission\n",
      "First Owner           Manual          1993\n",
      "Second Owner          Manual           916\n",
      "Third Owner           Manual           271\n",
      "First Owner           Automatic        227\n",
      "Fourth & Above Owner  Manual            73\n",
      "Second Owner          Automatic         64\n",
      "Third Owner           Automatic         18\n",
      "Test Drive Car        Manual            16\n",
      "Fourth & Above Owner  Automatic          2\n",
      "Test Drive Car        Automatic          1\n",
      "Name: name, dtype: int64\n"
     ]
    },
    {
     "name": "stderr",
     "output_type": "stream",
     "text": [
      "C:\\Users\\max\\AppData\\Local\\Temp\\ipykernel_23268\\2942236925.py:1: FutureWarning: The default of observed=False is deprecated and will be changed to True in a future version of pandas. Pass observed=False to retain current behavior or observed=True to adopt the future default and silence this warning.\n",
      "  df_2 = df.groupby(['owner','transmission'])['name'].count().sort_values(ascending=False)\n"
     ]
    }
   ],
   "execution_count": 92
  },
  {
   "cell_type": "markdown",
   "source": [
    "**`Сделайте вывод - интерпретацию - что можно увидеть из результата данной группировки?`**\n",
    "\n",
    "**Вывод по заданию 2:**\n",
    "Из результата группировки видно распределение типов владельцев по разнообразию коробок передач в их автомобилях. Некоторые категории владельцев (например, First Owner) могут иметь доступ к большему разнообразию автомобилей с разными типами коробок передач, что может отражать их покупательские предпочтения или финансовые возможности. Сортировка по убыванию помогает выявить, какие категории владельцев наиболее разнообразны в плане выбора трансмиссии."
   ],
   "metadata": {
    "id": "HCyyeAu6ne7a"
   }
  },
  {
   "cell_type": "markdown",
   "source": [
    "---\n",
    "\n",
    "**Обратите внимание, что на защите вы должны ориентироваться в синтаксисе. При необходимости нужно быть готовым изменить код по просьбе преподавателя. Например, вместо среднего значения подсчитать медиану и т.д.**\n",
    "\n",
    "\n",
    " ---"
   ],
   "metadata": {
    "id": "NKLZ0m7Nne7b"
   }
  },
  {
   "cell_type": "markdown",
   "source": [
    "#### Задание 3"
   ],
   "metadata": {
    "id": "_3fHGp64nhUJ"
   }
  },
  {
   "cell_type": "markdown",
   "source": [
    "*`Сводная таблица (pivot_table) - средняя стоимость для каждого года\n",
    "year. Отсортировать по убыванию. Округлить до трёх знаков`*"
   ],
   "metadata": {
    "id": "_Bc4ehyKnhUJ"
   }
  },
  {
   "cell_type": "code",
   "source": [
    "# выполните сводную таблицу согласно варианту\n",
    "pt = pd.pivot_table(df,\n",
    "                    values='price',\n",
    "                    index=['price'],\n",
    "                    columns='year')\n",
    "\n",
    "# Сортировка по убыванию средней цены\n",
    "# pt = pt.sort_values('price', ascending=False)\n",
    "\n",
    "# Округление до 3 знаков после запятой\n",
    "pt = pt.round(3)\n",
    "\n",
    "display(pt)\n"
   ],
   "metadata": {
    "id": "siDovPvQnhUJ",
    "ExecuteTime": {
     "end_time": "2025-09-15T12:50:47.841690Z",
     "start_time": "2025-09-15T12:50:47.712602Z"
    }
   },
   "outputs": [
    {
     "ename": "ValueError",
     "evalue": "Grouper for 'price' not 1-dimensional",
     "output_type": "error",
     "traceback": [
      "\u001B[31m---------------------------------------------------------------------------\u001B[39m",
      "\u001B[31mValueError\u001B[39m                                Traceback (most recent call last)",
      "\u001B[36mCell\u001B[39m\u001B[36m \u001B[39m\u001B[32mIn[93]\u001B[39m\u001B[32m, line 2\u001B[39m\n\u001B[32m      1\u001B[39m \u001B[38;5;66;03m# выполните сводную таблицу согласно варианту\u001B[39;00m\n\u001B[32m----> \u001B[39m\u001B[32m2\u001B[39m pt = \u001B[43mpd\u001B[49m\u001B[43m.\u001B[49m\u001B[43mpivot_table\u001B[49m\u001B[43m(\u001B[49m\u001B[43mdf\u001B[49m\u001B[43m,\u001B[49m\n\u001B[32m      3\u001B[39m \u001B[43m                    \u001B[49m\u001B[43mvalues\u001B[49m\u001B[43m=\u001B[49m\u001B[33;43m'\u001B[39;49m\u001B[33;43mprice\u001B[39;49m\u001B[33;43m'\u001B[39;49m\u001B[43m,\u001B[49m\n\u001B[32m      4\u001B[39m \u001B[43m                    \u001B[49m\u001B[43mindex\u001B[49m\u001B[43m=\u001B[49m\u001B[43m[\u001B[49m\u001B[33;43m'\u001B[39;49m\u001B[33;43mprice\u001B[39;49m\u001B[33;43m'\u001B[39;49m\u001B[43m]\u001B[49m\u001B[43m,\u001B[49m\n\u001B[32m      5\u001B[39m \u001B[43m                    \u001B[49m\u001B[43mcolumns\u001B[49m\u001B[43m=\u001B[49m\u001B[33;43m'\u001B[39;49m\u001B[33;43myear\u001B[39;49m\u001B[33;43m'\u001B[39;49m\u001B[43m)\u001B[49m\n\u001B[32m      7\u001B[39m \u001B[38;5;66;03m# Сортировка по убыванию средней цены\u001B[39;00m\n\u001B[32m      8\u001B[39m \u001B[38;5;66;03m# pt = pt.sort_values('price', ascending=False)\u001B[39;00m\n\u001B[32m      9\u001B[39m \n\u001B[32m     10\u001B[39m \u001B[38;5;66;03m# Округление до 3 знаков после запятой\u001B[39;00m\n\u001B[32m     11\u001B[39m pt = pt.round(\u001B[32m3\u001B[39m)\n",
      "\u001B[36mFile \u001B[39m\u001B[32mC:\\Source\\DA-Intro\\.venv\\Lib\\site-packages\\pandas\\core\\reshape\\pivot.py:102\u001B[39m, in \u001B[36mpivot_table\u001B[39m\u001B[34m(data, values, index, columns, aggfunc, fill_value, margins, dropna, margins_name, observed, sort)\u001B[39m\n\u001B[32m     99\u001B[39m     table = concat(pieces, keys=keys, axis=\u001B[32m1\u001B[39m)\n\u001B[32m    100\u001B[39m     \u001B[38;5;28;01mreturn\u001B[39;00m table.__finalize__(data, method=\u001B[33m\"\u001B[39m\u001B[33mpivot_table\u001B[39m\u001B[33m\"\u001B[39m)\n\u001B[32m--> \u001B[39m\u001B[32m102\u001B[39m table = \u001B[43m__internal_pivot_table\u001B[49m\u001B[43m(\u001B[49m\n\u001B[32m    103\u001B[39m \u001B[43m    \u001B[49m\u001B[43mdata\u001B[49m\u001B[43m,\u001B[49m\n\u001B[32m    104\u001B[39m \u001B[43m    \u001B[49m\u001B[43mvalues\u001B[49m\u001B[43m,\u001B[49m\n\u001B[32m    105\u001B[39m \u001B[43m    \u001B[49m\u001B[43mindex\u001B[49m\u001B[43m,\u001B[49m\n\u001B[32m    106\u001B[39m \u001B[43m    \u001B[49m\u001B[43mcolumns\u001B[49m\u001B[43m,\u001B[49m\n\u001B[32m    107\u001B[39m \u001B[43m    \u001B[49m\u001B[43maggfunc\u001B[49m\u001B[43m,\u001B[49m\n\u001B[32m    108\u001B[39m \u001B[43m    \u001B[49m\u001B[43mfill_value\u001B[49m\u001B[43m,\u001B[49m\n\u001B[32m    109\u001B[39m \u001B[43m    \u001B[49m\u001B[43mmargins\u001B[49m\u001B[43m,\u001B[49m\n\u001B[32m    110\u001B[39m \u001B[43m    \u001B[49m\u001B[43mdropna\u001B[49m\u001B[43m,\u001B[49m\n\u001B[32m    111\u001B[39m \u001B[43m    \u001B[49m\u001B[43mmargins_name\u001B[49m\u001B[43m,\u001B[49m\n\u001B[32m    112\u001B[39m \u001B[43m    \u001B[49m\u001B[43mobserved\u001B[49m\u001B[43m,\u001B[49m\n\u001B[32m    113\u001B[39m \u001B[43m    \u001B[49m\u001B[43msort\u001B[49m\u001B[43m,\u001B[49m\n\u001B[32m    114\u001B[39m \u001B[43m\u001B[49m\u001B[43m)\u001B[49m\n\u001B[32m    115\u001B[39m \u001B[38;5;28;01mreturn\u001B[39;00m table.__finalize__(data, method=\u001B[33m\"\u001B[39m\u001B[33mpivot_table\u001B[39m\u001B[33m\"\u001B[39m)\n",
      "\u001B[36mFile \u001B[39m\u001B[32mC:\\Source\\DA-Intro\\.venv\\Lib\\site-packages\\pandas\\core\\reshape\\pivot.py:172\u001B[39m, in \u001B[36m__internal_pivot_table\u001B[39m\u001B[34m(data, values, index, columns, aggfunc, fill_value, margins, dropna, margins_name, observed, sort)\u001B[39m\n\u001B[32m    169\u001B[39m     values = \u001B[38;5;28mlist\u001B[39m(values)\n\u001B[32m    171\u001B[39m observed_bool = \u001B[38;5;28;01mFalse\u001B[39;00m \u001B[38;5;28;01mif\u001B[39;00m observed \u001B[38;5;129;01mis\u001B[39;00m lib.no_default \u001B[38;5;28;01melse\u001B[39;00m observed\n\u001B[32m--> \u001B[39m\u001B[32m172\u001B[39m grouped = \u001B[43mdata\u001B[49m\u001B[43m.\u001B[49m\u001B[43mgroupby\u001B[49m\u001B[43m(\u001B[49m\u001B[43mkeys\u001B[49m\u001B[43m,\u001B[49m\u001B[43m \u001B[49m\u001B[43mobserved\u001B[49m\u001B[43m=\u001B[49m\u001B[43mobserved_bool\u001B[49m\u001B[43m,\u001B[49m\u001B[43m \u001B[49m\u001B[43msort\u001B[49m\u001B[43m=\u001B[49m\u001B[43msort\u001B[49m\u001B[43m,\u001B[49m\u001B[43m \u001B[49m\u001B[43mdropna\u001B[49m\u001B[43m=\u001B[49m\u001B[43mdropna\u001B[49m\u001B[43m)\u001B[49m\n\u001B[32m    173\u001B[39m \u001B[38;5;28;01mif\u001B[39;00m observed \u001B[38;5;129;01mis\u001B[39;00m lib.no_default \u001B[38;5;129;01mand\u001B[39;00m \u001B[38;5;28many\u001B[39m(\n\u001B[32m    174\u001B[39m     ping._passed_categorical \u001B[38;5;28;01mfor\u001B[39;00m ping \u001B[38;5;129;01min\u001B[39;00m grouped._grouper.groupings\n\u001B[32m    175\u001B[39m ):\n\u001B[32m    176\u001B[39m     warnings.warn(\n\u001B[32m    177\u001B[39m         \u001B[33m\"\u001B[39m\u001B[33mThe default value of observed=False is deprecated and will change \u001B[39m\u001B[33m\"\u001B[39m\n\u001B[32m    178\u001B[39m         \u001B[33m\"\u001B[39m\u001B[33mto observed=True in a future version of pandas. Specify \u001B[39m\u001B[33m\"\u001B[39m\n\u001B[32m   (...)\u001B[39m\u001B[32m    181\u001B[39m         stacklevel=find_stack_level(),\n\u001B[32m    182\u001B[39m     )\n",
      "\u001B[36mFile \u001B[39m\u001B[32mC:\\Source\\DA-Intro\\.venv\\Lib\\site-packages\\pandas\\core\\frame.py:9190\u001B[39m, in \u001B[36mDataFrame.groupby\u001B[39m\u001B[34m(self, by, axis, level, as_index, sort, group_keys, observed, dropna)\u001B[39m\n\u001B[32m   9187\u001B[39m \u001B[38;5;28;01mif\u001B[39;00m level \u001B[38;5;129;01mis\u001B[39;00m \u001B[38;5;28;01mNone\u001B[39;00m \u001B[38;5;129;01mand\u001B[39;00m by \u001B[38;5;129;01mis\u001B[39;00m \u001B[38;5;28;01mNone\u001B[39;00m:\n\u001B[32m   9188\u001B[39m     \u001B[38;5;28;01mraise\u001B[39;00m \u001B[38;5;167;01mTypeError\u001B[39;00m(\u001B[33m\"\u001B[39m\u001B[33mYou have to supply one of \u001B[39m\u001B[33m'\u001B[39m\u001B[33mby\u001B[39m\u001B[33m'\u001B[39m\u001B[33m and \u001B[39m\u001B[33m'\u001B[39m\u001B[33mlevel\u001B[39m\u001B[33m'\u001B[39m\u001B[33m\"\u001B[39m)\n\u001B[32m-> \u001B[39m\u001B[32m9190\u001B[39m \u001B[38;5;28;01mreturn\u001B[39;00m \u001B[43mDataFrameGroupBy\u001B[49m\u001B[43m(\u001B[49m\n\u001B[32m   9191\u001B[39m \u001B[43m    \u001B[49m\u001B[43mobj\u001B[49m\u001B[43m=\u001B[49m\u001B[38;5;28;43mself\u001B[39;49m\u001B[43m,\u001B[49m\n\u001B[32m   9192\u001B[39m \u001B[43m    \u001B[49m\u001B[43mkeys\u001B[49m\u001B[43m=\u001B[49m\u001B[43mby\u001B[49m\u001B[43m,\u001B[49m\n\u001B[32m   9193\u001B[39m \u001B[43m    \u001B[49m\u001B[43maxis\u001B[49m\u001B[43m=\u001B[49m\u001B[43maxis\u001B[49m\u001B[43m,\u001B[49m\n\u001B[32m   9194\u001B[39m \u001B[43m    \u001B[49m\u001B[43mlevel\u001B[49m\u001B[43m=\u001B[49m\u001B[43mlevel\u001B[49m\u001B[43m,\u001B[49m\n\u001B[32m   9195\u001B[39m \u001B[43m    \u001B[49m\u001B[43mas_index\u001B[49m\u001B[43m=\u001B[49m\u001B[43mas_index\u001B[49m\u001B[43m,\u001B[49m\n\u001B[32m   9196\u001B[39m \u001B[43m    \u001B[49m\u001B[43msort\u001B[49m\u001B[43m=\u001B[49m\u001B[43msort\u001B[49m\u001B[43m,\u001B[49m\n\u001B[32m   9197\u001B[39m \u001B[43m    \u001B[49m\u001B[43mgroup_keys\u001B[49m\u001B[43m=\u001B[49m\u001B[43mgroup_keys\u001B[49m\u001B[43m,\u001B[49m\n\u001B[32m   9198\u001B[39m \u001B[43m    \u001B[49m\u001B[43mobserved\u001B[49m\u001B[43m=\u001B[49m\u001B[43mobserved\u001B[49m\u001B[43m,\u001B[49m\n\u001B[32m   9199\u001B[39m \u001B[43m    \u001B[49m\u001B[43mdropna\u001B[49m\u001B[43m=\u001B[49m\u001B[43mdropna\u001B[49m\u001B[43m,\u001B[49m\n\u001B[32m   9200\u001B[39m \u001B[43m\u001B[49m\u001B[43m)\u001B[49m\n",
      "\u001B[36mFile \u001B[39m\u001B[32mC:\\Source\\DA-Intro\\.venv\\Lib\\site-packages\\pandas\\core\\groupby\\groupby.py:1330\u001B[39m, in \u001B[36mGroupBy.__init__\u001B[39m\u001B[34m(self, obj, keys, axis, level, grouper, exclusions, selection, as_index, sort, group_keys, observed, dropna)\u001B[39m\n\u001B[32m   1327\u001B[39m \u001B[38;5;28mself\u001B[39m.dropna = dropna\n\u001B[32m   1329\u001B[39m \u001B[38;5;28;01mif\u001B[39;00m grouper \u001B[38;5;129;01mis\u001B[39;00m \u001B[38;5;28;01mNone\u001B[39;00m:\n\u001B[32m-> \u001B[39m\u001B[32m1330\u001B[39m     grouper, exclusions, obj = \u001B[43mget_grouper\u001B[49m\u001B[43m(\u001B[49m\n\u001B[32m   1331\u001B[39m \u001B[43m        \u001B[49m\u001B[43mobj\u001B[49m\u001B[43m,\u001B[49m\n\u001B[32m   1332\u001B[39m \u001B[43m        \u001B[49m\u001B[43mkeys\u001B[49m\u001B[43m,\u001B[49m\n\u001B[32m   1333\u001B[39m \u001B[43m        \u001B[49m\u001B[43maxis\u001B[49m\u001B[43m=\u001B[49m\u001B[43maxis\u001B[49m\u001B[43m,\u001B[49m\n\u001B[32m   1334\u001B[39m \u001B[43m        \u001B[49m\u001B[43mlevel\u001B[49m\u001B[43m=\u001B[49m\u001B[43mlevel\u001B[49m\u001B[43m,\u001B[49m\n\u001B[32m   1335\u001B[39m \u001B[43m        \u001B[49m\u001B[43msort\u001B[49m\u001B[43m=\u001B[49m\u001B[43msort\u001B[49m\u001B[43m,\u001B[49m\n\u001B[32m   1336\u001B[39m \u001B[43m        \u001B[49m\u001B[43mobserved\u001B[49m\u001B[43m=\u001B[49m\u001B[38;5;28;43;01mFalse\u001B[39;49;00m\u001B[43m \u001B[49m\u001B[38;5;28;43;01mif\u001B[39;49;00m\u001B[43m \u001B[49m\u001B[43mobserved\u001B[49m\u001B[43m \u001B[49m\u001B[38;5;129;43;01mis\u001B[39;49;00m\u001B[43m \u001B[49m\u001B[43mlib\u001B[49m\u001B[43m.\u001B[49m\u001B[43mno_default\u001B[49m\u001B[43m \u001B[49m\u001B[38;5;28;43;01melse\u001B[39;49;00m\u001B[43m \u001B[49m\u001B[43mobserved\u001B[49m\u001B[43m,\u001B[49m\n\u001B[32m   1337\u001B[39m \u001B[43m        \u001B[49m\u001B[43mdropna\u001B[49m\u001B[43m=\u001B[49m\u001B[38;5;28;43mself\u001B[39;49m\u001B[43m.\u001B[49m\u001B[43mdropna\u001B[49m\u001B[43m,\u001B[49m\n\u001B[32m   1338\u001B[39m \u001B[43m    \u001B[49m\u001B[43m)\u001B[49m\n\u001B[32m   1340\u001B[39m \u001B[38;5;28;01mif\u001B[39;00m observed \u001B[38;5;129;01mis\u001B[39;00m lib.no_default:\n\u001B[32m   1341\u001B[39m     \u001B[38;5;28;01mif\u001B[39;00m \u001B[38;5;28many\u001B[39m(ping._passed_categorical \u001B[38;5;28;01mfor\u001B[39;00m ping \u001B[38;5;129;01min\u001B[39;00m grouper.groupings):\n",
      "\u001B[36mFile \u001B[39m\u001B[32mC:\\Source\\DA-Intro\\.venv\\Lib\\site-packages\\pandas\\core\\groupby\\grouper.py:1038\u001B[39m, in \u001B[36mget_grouper\u001B[39m\u001B[34m(obj, key, axis, level, sort, observed, validate, dropna)\u001B[39m\n\u001B[32m   1034\u001B[39m     in_axis, name, gpr = \u001B[38;5;28;01mTrue\u001B[39;00m, gpr, obj[gpr]\n\u001B[32m   1035\u001B[39m     \u001B[38;5;28;01mif\u001B[39;00m gpr.ndim != \u001B[32m1\u001B[39m:\n\u001B[32m   1036\u001B[39m         \u001B[38;5;66;03m# non-unique columns; raise here to get the name in the\u001B[39;00m\n\u001B[32m   1037\u001B[39m         \u001B[38;5;66;03m# exception message\u001B[39;00m\n\u001B[32m-> \u001B[39m\u001B[32m1038\u001B[39m         \u001B[38;5;28;01mraise\u001B[39;00m \u001B[38;5;167;01mValueError\u001B[39;00m(\u001B[33mf\u001B[39m\u001B[33m\"\u001B[39m\u001B[33mGrouper for \u001B[39m\u001B[33m'\u001B[39m\u001B[38;5;132;01m{\u001B[39;00mname\u001B[38;5;132;01m}\u001B[39;00m\u001B[33m'\u001B[39m\u001B[33m not 1-dimensional\u001B[39m\u001B[33m\"\u001B[39m)\n\u001B[32m   1039\u001B[39m     exclusions.add(name)\n\u001B[32m   1040\u001B[39m \u001B[38;5;28;01melif\u001B[39;00m obj._is_level_reference(gpr, axis=axis):\n",
      "\u001B[31mValueError\u001B[39m: Grouper for 'price' not 1-dimensional"
     ]
    }
   ],
   "execution_count": 93
  },
  {
   "cell_type": "markdown",
   "source": [
    "**`Сделайте вывод - интерпретацию - что можно увидеть из результата данной сводной таблицы?`**\n",
    "\n",
    "**Вывод по заданию 3:**\n",
    "Из сводной таблицы видна зависимость средней цены продажи от года выпуска автомобиля. Более новые автомобили имеют более высокую среднюю стоимость, что является логичным, поскольку они меньше подвержены износу и обесцениванию. Сортировка по убыванию позволяет легко идентифицировать самые дорогие и самые дешевые годы выпуска в среднем, что помогает понять динамику рынка подержанных автомобилей."
   ],
   "metadata": {
    "id": "1-vw8iyUnhUK"
   }
  },
  {
   "cell_type": "markdown",
   "source": [
    "---\n",
    "\n",
    "**Обратите внимание, что на защите вы должны ориентироваться в синтаксисе. При необходимости нужно быть готовым изменить код по просьбе преподавателя. Например, вместо среднего значения подсчитать медиану и т.д.**\n",
    "\n",
    "\n",
    " ---"
   ],
   "metadata": {
    "id": "wKFm0zDenhUK"
   }
  },
  {
   "cell_type": "markdown",
   "source": [
    "#### Задание 4"
   ],
   "metadata": {
    "id": "FOlw74xCniNo"
   }
  },
  {
   "cell_type": "markdown",
   "source": [
    "*`Сводная таблица (pivot_table) - среднее цена для каждого типа\n",
    "владельца - столбцы и типа продавца- строки. Отсортировать по возрастанию\n",
    "seller_type. Округлить до двух знаков.`*"
   ],
   "metadata": {
    "id": "4tvYwT25niNq"
   }
  },
  {
   "cell_type": "code",
   "source": [
    "# выполните сводную таблицу согласно варианту\n",
    "pivot_result4 = pd.pivot_table(df,\n",
    "                               values='price',\n",
    "                               index='seller_type',\n",
    "                               columns='owner',\n",
    "                               aggfunc='mean')\n",
    "\n",
    "pivot_result4 = pivot_result4.sort_index()\n",
    "\n",
    "pivot_result4 = pivot_result4.round(2)\n",
    "\n",
    "display(pivot_result4)"
   ],
   "metadata": {
    "id": "TfJ719g6niNq",
    "ExecuteTime": {
     "end_time": "2025-09-15T12:53:03.533318Z",
     "start_time": "2025-09-15T12:53:03.520147Z"
    }
   },
   "outputs": [
    {
     "name": "stderr",
     "output_type": "stream",
     "text": [
      "C:\\Users\\max\\AppData\\Local\\Temp\\ipykernel_23268\\431554901.py:2: FutureWarning: The default value of observed=False is deprecated and will change to observed=True in a future version of pandas. Specify observed=False to silence this warning and retain the current behavior\n",
      "  pivot_result4 = pd.pivot_table(df,\n"
     ]
    },
    {
     "data": {
      "text/plain": [
       "owner        First Owner  Fourth & Above Owner  Second Owner  Test Drive Car  \\\n",
       "seller_type                                                                    \n",
       "CNG            373631.42             108333.33     187153.85             NaN   \n",
       "Diesel         729191.69             251406.19     449347.87      1056285.57   \n",
       "Electric             NaN                   NaN     310000.00             NaN   \n",
       "LPG            211000.00              60000.00     148888.78             NaN   \n",
       "Petrol         403738.85             132333.31     231432.10       882899.80   \n",
       "\n",
       "owner        Third Owner  \n",
       "seller_type               \n",
       "CNG            125000.00  \n",
       "Diesel         365628.33  \n",
       "Electric             NaN  \n",
       "LPG            135000.00  \n",
       "Petrol         162643.10  "
      ],
      "text/html": [
       "<div>\n",
       "<style scoped>\n",
       "    .dataframe tbody tr th:only-of-type {\n",
       "        vertical-align: middle;\n",
       "    }\n",
       "\n",
       "    .dataframe tbody tr th {\n",
       "        vertical-align: top;\n",
       "    }\n",
       "\n",
       "    .dataframe thead th {\n",
       "        text-align: right;\n",
       "    }\n",
       "</style>\n",
       "<table border=\"1\" class=\"dataframe\">\n",
       "  <thead>\n",
       "    <tr style=\"text-align: right;\">\n",
       "      <th>owner</th>\n",
       "      <th>First Owner</th>\n",
       "      <th>Fourth &amp; Above Owner</th>\n",
       "      <th>Second Owner</th>\n",
       "      <th>Test Drive Car</th>\n",
       "      <th>Third Owner</th>\n",
       "    </tr>\n",
       "    <tr>\n",
       "      <th>seller_type</th>\n",
       "      <th></th>\n",
       "      <th></th>\n",
       "      <th></th>\n",
       "      <th></th>\n",
       "      <th></th>\n",
       "    </tr>\n",
       "  </thead>\n",
       "  <tbody>\n",
       "    <tr>\n",
       "      <th>CNG</th>\n",
       "      <td>373631.42</td>\n",
       "      <td>108333.33</td>\n",
       "      <td>187153.85</td>\n",
       "      <td>NaN</td>\n",
       "      <td>125000.00</td>\n",
       "    </tr>\n",
       "    <tr>\n",
       "      <th>Diesel</th>\n",
       "      <td>729191.69</td>\n",
       "      <td>251406.19</td>\n",
       "      <td>449347.87</td>\n",
       "      <td>1056285.57</td>\n",
       "      <td>365628.33</td>\n",
       "    </tr>\n",
       "    <tr>\n",
       "      <th>Electric</th>\n",
       "      <td>NaN</td>\n",
       "      <td>NaN</td>\n",
       "      <td>310000.00</td>\n",
       "      <td>NaN</td>\n",
       "      <td>NaN</td>\n",
       "    </tr>\n",
       "    <tr>\n",
       "      <th>LPG</th>\n",
       "      <td>211000.00</td>\n",
       "      <td>60000.00</td>\n",
       "      <td>148888.78</td>\n",
       "      <td>NaN</td>\n",
       "      <td>135000.00</td>\n",
       "    </tr>\n",
       "    <tr>\n",
       "      <th>Petrol</th>\n",
       "      <td>403738.85</td>\n",
       "      <td>132333.31</td>\n",
       "      <td>231432.10</td>\n",
       "      <td>882899.80</td>\n",
       "      <td>162643.10</td>\n",
       "    </tr>\n",
       "  </tbody>\n",
       "</table>\n",
       "</div>"
      ]
     },
     "metadata": {},
     "output_type": "display_data"
    }
   ],
   "execution_count": 101
  },
  {
   "cell_type": "markdown",
   "source": [
    "**`Сделайте вывод - интерпретацию - что можно увидеть из результата выполнения данного кода?`**\n",
    "\n",
    "**Вывод по заданию 4:**\n",
    "Сводная таблица показывает среднюю цену автомобилей в зависимости от типа продавца и типа владельца. Это позволяет выявить закономерности в ценообразовании: например, автомобили от определенных типов продавцов (дилеры vs частные лица) могут иметь разные цены для одинаковых категорий владельцев. Также можно увидеть, как история владения (First Owner, Second Owner и т.д.) влияет на цену в зависимости от канала продаж. Пустые ячейки (NaN) указывают на отсутствие данных для определенных комбинаций типов."
   ],
   "metadata": {
    "id": "yqJqvk5qniNr"
   }
  },
  {
   "cell_type": "markdown",
   "source": [
    "---\n",
    "\n",
    "**Обратите внимание, что на защите вы должны ориентироваться в синтаксисе. При необходимости нужно быть готовым изменить код по просьбе преподавателя. Например, вместо среднего значения подсчитать медиану и т.д.**\n",
    "\n",
    "\n",
    " ---"
   ],
   "metadata": {
    "id": "tIkuqJKUniNs"
   }
  },
  {
   "cell_type": "markdown",
   "source": [
    "### Вывод"
   ],
   "metadata": {
    "id": "TpnXb6gip3S8"
   }
  },
  {
   "cell_type": "markdown",
   "metadata": {
    "id": "nqLa096jM1Z8"
   },
   "source": [
    "\n",
    "***`Сделать расширенный вывод. `***\n",
    "\n",
    "Вывод должен описывать результаты исследования: какой набор данных вы анализировали (предметная область), какие методы предобработки применили, какие выводы из группировок и сводных таблиц можно сделать (они могут повторять выводы выше) и т.п. Объём вывода, как правило не более 0.5-0.75 страницы А4, всё таки вывод должен быть конкретным (без теории и “воды”).\n"
   ]
  },
  {
   "metadata": {},
   "cell_type": "markdown",
   "source": [
    "**Расширенный вывод по лабораторной работе:**\n",
    "\n",
    "В рамках данной лабораторной работы был проанализирован набор данных auto.csv, содержащий информацию о продаже подержанных автомобилей в Индии. Датасет включает 8 атрибутов: название автомобиля, год выпуска, цену продажи, пробег в километрах, тип топлива, тип продавца, тип коробки передач и категорию владельца.\n",
    "\n",
    "**Методы предобработки:**\n",
    "1. **Загрузка и первичный анализ:** Успешно загружен датасет, проведен анализ структуры данных с помощью методов head(), info() и describe().\n",
    "2. **Работа с названиями столбцов:** Выявлены и исправлены проблемы с названиями (SellingPrice → selling_price, kmdriven → km_driven, seller_Type → seller_type).\n",
    "3. **Обработка пропущенных значений:** Проведена проверка на наличие пропусков в данных.\n",
    "4. **Устранение дубликатов:** Реализована проверка явных и неявных дубликатов, исправлены ошибки в данных (например, \"Petroll\" → \"Petrol\").\n",
    "5. **Приведение типов данных:** Категориальные столбцы (fuel, seller_type, transmission, owner) преобразованы в соответствующий тип для оптимизации памяти.\n",
    "\n",
    "**Ключевые выводы из анализа:**\n",
    "- **Группировка по трансмиссии и топливу:** Выявлены связи между типами коробок передач и используемыми видами топлива, что отражает технические характеристики автомобилей.\n",
    "- **Анализ владельцев и трансмиссий:** Определено разнообразие коробок передач среди различных категорий владельцев, что может указывать на покупательские предпочтения.\n",
    "- **Динамика цен по годам:** Подтверждена закономерность снижения стоимости с возрастом автомобиля, более новые модели имеют более высокую среднюю цену.\n",
    "- **Ценообразование по каналам продаж:** Сводная таблица показала различия в ценах между типами продавцов и категориями владельцев, что важно для понимания рыночной динамики.\n",
    "\n",
    "Проведенный анализ позволил выявить основные закономерности рынка подержанных автомобилей и продемонстрировал эффективность применения методов предварительной обработки данных для получения качественных аналитических выводов.\n"
   ]
  },
  {
   "metadata": {},
   "cell_type": "markdown",
   "source": "### Дополнительное задание"
  },
  {
   "cell_type": "markdown",
   "source": [
    "**`Подробная формулировка задания`**"
   ],
   "metadata": {
    "id": "rR6WgHXYvlqD"
   }
  },
  {
   "cell_type": "code",
   "source": [
    "# код выполнения задания"
   ],
   "metadata": {
    "id": "wG5TGQpevlBq"
   },
   "outputs": [],
   "execution_count": null
  },
  {
   "cell_type": "markdown",
   "source": [
    "***`Подробный вывод по заданию, описание полученных результатов`***"
   ],
   "metadata": {
    "id": "y-qpTuhTvon3"
   }
  }
 ],
 "metadata": {
  "colab": {
   "provenance": []
  },
  "kernelspec": {
   "display_name": "Python 3 (ipykernel)",
   "name": "python3",
   "language": "python"
  },
  "language_info": {
   "name": "python"
  }
 },
 "nbformat": 4,
 "nbformat_minor": 0
}
