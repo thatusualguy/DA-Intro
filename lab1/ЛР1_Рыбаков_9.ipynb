{
 "cells": [
  {
   "cell_type": "markdown",
   "metadata": {
    "id": "bri_pAriNFqN"
   },
   "source": [
    "**Цель работы:**\n",
    "\n",
    "Осуществить предварительную обработку данных csv-файла, выявить и устранить проблемы в этих данных."
   ]
  },
  {
   "cell_type": "markdown",
   "metadata": {
    "id": "r_e-GeJmgZ8l"
   },
   "source": [
    "# Загрузка набора данных"
   ]
  },
  {
   "cell_type": "markdown",
   "metadata": {
    "id": "eeq9ZAbSguQS"
   },
   "source": [
    "### Описание предметной области"
   ]
  },
  {
   "cell_type": "markdown",
   "metadata": {
    "id": "XHbH8zNIg0Ib"
   },
   "source": [
    "Вариант №9\n",
    "\n",
    "Набор данных: auto.csv\n",
    "\n",
    "Атрибуты:\n",
    "- имя\n",
    "- год\n",
    "- цена продажи\n",
    "- пройдено км\n",
    "- топливо\n",
    "- тип продавца\n",
    "- коробка передач\n",
    "- тип владельца"
   ]
  },
  {
   "cell_type": "markdown",
   "metadata": {
    "id": "Lwin9ia7hT1i"
   },
   "source": [
    "### 1.Чтение файла (набора данных)"
   ]
  },
  {
   "cell_type": "code",
   "metadata": {
    "id": "a5dYQO5YhOYa",
    "ExecuteTime": {
     "end_time": "2025-10-04T14:08:12.143580Z",
     "start_time": "2025-10-04T14:08:11.393469Z"
    }
   },
   "source": [
    "import pandas as pd\n",
    "\n",
    "df = pd.read_csv('auto.csv')\n",
    "df.shape"
   ],
   "outputs": [
    {
     "data": {
      "text/plain": [
       "(4344, 8)"
      ]
     },
     "execution_count": 2,
     "metadata": {},
     "output_type": "execute_result"
    }
   ],
   "execution_count": 2
  },
  {
   "cell_type": "markdown",
   "metadata": {
    "id": "p82p53SvhjLN"
   },
   "source": [
    "### 2. Обзор данных"
   ]
  },
  {
   "cell_type": "markdown",
   "metadata": {
    "id": "eAYzXaLrh-qh"
   },
   "source": [
    "2.1 Вывод первых 20 строк с помощью метода head."
   ]
  },
  {
   "cell_type": "code",
   "metadata": {
    "id": "7yMo3VZ_hotx",
    "ExecuteTime": {
     "end_time": "2025-10-04T14:08:12.205130Z",
     "start_time": "2025-10-04T14:08:12.184366Z"
    }
   },
   "source": [
    "df.head(20)"
   ],
   "outputs": [
    {
     "data": {
      "text/plain": [
       "                               Name  year  SellingPrice  kmdriven     fuel  \\\n",
       "0                     Maruti 800 AC  2007       60000.0   70000.0   Petrol   \n",
       "1          Maruti Wagon R LXI Minor  2007      135000.0   50000.0   Petrol   \n",
       "2              Hyundai Verna 1.6 SX  2012      600000.0  100000.0   Diesel   \n",
       "3            Datsun RediGO T Option  2017      250000.0   46000.0   Petrol   \n",
       "4             Honda Amaze VX i-DTEC  2014      450000.0  141000.0   Diesel   \n",
       "5              Maruti Alto LX BSIII  2007      140000.0  125000.0   Petrol   \n",
       "6         Hyundai Xcent 1.2 Kappa S  2016      550000.0   25000.0   Petrol   \n",
       "7         Tata Indigo Grand Petroll  2014      240000.0   60000.0   Petrol   \n",
       "8          Hyundai Creta 1.6 VTVT S  2015      850000.0   25000.0  Petroll   \n",
       "9          Maruti Celerio Green VXI  2017      365000.0   78000.0      CNG   \n",
       "10          Chevrolet Sail 1.2 Base  2015      260000.0   35000.0   Petrol   \n",
       "11         Tata Indigo Grand Petrol  2014      250000.0  100000.0   Petrol   \n",
       "12  Toyota Corolla Altis 1.8 VL CVT  2018     1650000.0   25000.0   Petrol   \n",
       "13                    Maruti 800 AC  2007       60000.0   70000.0   Petrol   \n",
       "14         Maruti Wagon R LXI Minor  2007      135000.0   50000.0   Petrol   \n",
       "15             Hyundai Verna 1.6 SX  2012      600000.0  100000.0   Diesel   \n",
       "16           Datsun RediGO T Option  2017      250000.0   46000.0   Petrol   \n",
       "17            Honda Amaze VX i-DTEC  2014      450000.0  141000.0   Diesel   \n",
       "18             Maruti Alto LX BSIII  2007      140000.0  125000.0   Petrol   \n",
       "19        Hyundai Xcent 1.2 Kappa S  2016      550000.0   25000.0   Petrol   \n",
       "\n",
       "   seller_Type transmission         owner  \n",
       "0   Individual       Manual   First Owner  \n",
       "1   Individual       Manual   First Owner  \n",
       "2   Individual       Manual   First Owner  \n",
       "3   Individual       Manual   First Owner  \n",
       "4   Individual       Manual  Second Owner  \n",
       "5   Individual       Manual   First Owner  \n",
       "6   Individual       Manual   First Owner  \n",
       "7   Individual       Manual  Second Owner  \n",
       "8   Individual       Manual   First Owner  \n",
       "9   Individual       Manual   First Owner  \n",
       "10  Individual       Manual   First Owner  \n",
       "11  Individual       Manual   First Owner  \n",
       "12      Dealer    Automatic   First Owner  \n",
       "13  Individual       Manual   First Owner  \n",
       "14  Individual       Manual   First Owner  \n",
       "15  Individual       Manual   First Owner  \n",
       "16  Individual       Manual   First Owner  \n",
       "17  Individual       Manual  Second Owner  \n",
       "18  Individual       Manual   First Owner  \n",
       "19  Individual       Manual   First Owner  "
      ],
      "text/html": [
       "<div>\n",
       "<style scoped>\n",
       "    .dataframe tbody tr th:only-of-type {\n",
       "        vertical-align: middle;\n",
       "    }\n",
       "\n",
       "    .dataframe tbody tr th {\n",
       "        vertical-align: top;\n",
       "    }\n",
       "\n",
       "    .dataframe thead th {\n",
       "        text-align: right;\n",
       "    }\n",
       "</style>\n",
       "<table border=\"1\" class=\"dataframe\">\n",
       "  <thead>\n",
       "    <tr style=\"text-align: right;\">\n",
       "      <th></th>\n",
       "      <th>Name</th>\n",
       "      <th>year</th>\n",
       "      <th>SellingPrice</th>\n",
       "      <th>kmdriven</th>\n",
       "      <th>fuel</th>\n",
       "      <th>seller_Type</th>\n",
       "      <th>transmission</th>\n",
       "      <th>owner</th>\n",
       "    </tr>\n",
       "  </thead>\n",
       "  <tbody>\n",
       "    <tr>\n",
       "      <th>0</th>\n",
       "      <td>Maruti 800 AC</td>\n",
       "      <td>2007</td>\n",
       "      <td>60000.0</td>\n",
       "      <td>70000.0</td>\n",
       "      <td>Petrol</td>\n",
       "      <td>Individual</td>\n",
       "      <td>Manual</td>\n",
       "      <td>First Owner</td>\n",
       "    </tr>\n",
       "    <tr>\n",
       "      <th>1</th>\n",
       "      <td>Maruti Wagon R LXI Minor</td>\n",
       "      <td>2007</td>\n",
       "      <td>135000.0</td>\n",
       "      <td>50000.0</td>\n",
       "      <td>Petrol</td>\n",
       "      <td>Individual</td>\n",
       "      <td>Manual</td>\n",
       "      <td>First Owner</td>\n",
       "    </tr>\n",
       "    <tr>\n",
       "      <th>2</th>\n",
       "      <td>Hyundai Verna 1.6 SX</td>\n",
       "      <td>2012</td>\n",
       "      <td>600000.0</td>\n",
       "      <td>100000.0</td>\n",
       "      <td>Diesel</td>\n",
       "      <td>Individual</td>\n",
       "      <td>Manual</td>\n",
       "      <td>First Owner</td>\n",
       "    </tr>\n",
       "    <tr>\n",
       "      <th>3</th>\n",
       "      <td>Datsun RediGO T Option</td>\n",
       "      <td>2017</td>\n",
       "      <td>250000.0</td>\n",
       "      <td>46000.0</td>\n",
       "      <td>Petrol</td>\n",
       "      <td>Individual</td>\n",
       "      <td>Manual</td>\n",
       "      <td>First Owner</td>\n",
       "    </tr>\n",
       "    <tr>\n",
       "      <th>4</th>\n",
       "      <td>Honda Amaze VX i-DTEC</td>\n",
       "      <td>2014</td>\n",
       "      <td>450000.0</td>\n",
       "      <td>141000.0</td>\n",
       "      <td>Diesel</td>\n",
       "      <td>Individual</td>\n",
       "      <td>Manual</td>\n",
       "      <td>Second Owner</td>\n",
       "    </tr>\n",
       "    <tr>\n",
       "      <th>5</th>\n",
       "      <td>Maruti Alto LX BSIII</td>\n",
       "      <td>2007</td>\n",
       "      <td>140000.0</td>\n",
       "      <td>125000.0</td>\n",
       "      <td>Petrol</td>\n",
       "      <td>Individual</td>\n",
       "      <td>Manual</td>\n",
       "      <td>First Owner</td>\n",
       "    </tr>\n",
       "    <tr>\n",
       "      <th>6</th>\n",
       "      <td>Hyundai Xcent 1.2 Kappa S</td>\n",
       "      <td>2016</td>\n",
       "      <td>550000.0</td>\n",
       "      <td>25000.0</td>\n",
       "      <td>Petrol</td>\n",
       "      <td>Individual</td>\n",
       "      <td>Manual</td>\n",
       "      <td>First Owner</td>\n",
       "    </tr>\n",
       "    <tr>\n",
       "      <th>7</th>\n",
       "      <td>Tata Indigo Grand Petroll</td>\n",
       "      <td>2014</td>\n",
       "      <td>240000.0</td>\n",
       "      <td>60000.0</td>\n",
       "      <td>Petrol</td>\n",
       "      <td>Individual</td>\n",
       "      <td>Manual</td>\n",
       "      <td>Second Owner</td>\n",
       "    </tr>\n",
       "    <tr>\n",
       "      <th>8</th>\n",
       "      <td>Hyundai Creta 1.6 VTVT S</td>\n",
       "      <td>2015</td>\n",
       "      <td>850000.0</td>\n",
       "      <td>25000.0</td>\n",
       "      <td>Petroll</td>\n",
       "      <td>Individual</td>\n",
       "      <td>Manual</td>\n",
       "      <td>First Owner</td>\n",
       "    </tr>\n",
       "    <tr>\n",
       "      <th>9</th>\n",
       "      <td>Maruti Celerio Green VXI</td>\n",
       "      <td>2017</td>\n",
       "      <td>365000.0</td>\n",
       "      <td>78000.0</td>\n",
       "      <td>CNG</td>\n",
       "      <td>Individual</td>\n",
       "      <td>Manual</td>\n",
       "      <td>First Owner</td>\n",
       "    </tr>\n",
       "    <tr>\n",
       "      <th>10</th>\n",
       "      <td>Chevrolet Sail 1.2 Base</td>\n",
       "      <td>2015</td>\n",
       "      <td>260000.0</td>\n",
       "      <td>35000.0</td>\n",
       "      <td>Petrol</td>\n",
       "      <td>Individual</td>\n",
       "      <td>Manual</td>\n",
       "      <td>First Owner</td>\n",
       "    </tr>\n",
       "    <tr>\n",
       "      <th>11</th>\n",
       "      <td>Tata Indigo Grand Petrol</td>\n",
       "      <td>2014</td>\n",
       "      <td>250000.0</td>\n",
       "      <td>100000.0</td>\n",
       "      <td>Petrol</td>\n",
       "      <td>Individual</td>\n",
       "      <td>Manual</td>\n",
       "      <td>First Owner</td>\n",
       "    </tr>\n",
       "    <tr>\n",
       "      <th>12</th>\n",
       "      <td>Toyota Corolla Altis 1.8 VL CVT</td>\n",
       "      <td>2018</td>\n",
       "      <td>1650000.0</td>\n",
       "      <td>25000.0</td>\n",
       "      <td>Petrol</td>\n",
       "      <td>Dealer</td>\n",
       "      <td>Automatic</td>\n",
       "      <td>First Owner</td>\n",
       "    </tr>\n",
       "    <tr>\n",
       "      <th>13</th>\n",
       "      <td>Maruti 800 AC</td>\n",
       "      <td>2007</td>\n",
       "      <td>60000.0</td>\n",
       "      <td>70000.0</td>\n",
       "      <td>Petrol</td>\n",
       "      <td>Individual</td>\n",
       "      <td>Manual</td>\n",
       "      <td>First Owner</td>\n",
       "    </tr>\n",
       "    <tr>\n",
       "      <th>14</th>\n",
       "      <td>Maruti Wagon R LXI Minor</td>\n",
       "      <td>2007</td>\n",
       "      <td>135000.0</td>\n",
       "      <td>50000.0</td>\n",
       "      <td>Petrol</td>\n",
       "      <td>Individual</td>\n",
       "      <td>Manual</td>\n",
       "      <td>First Owner</td>\n",
       "    </tr>\n",
       "    <tr>\n",
       "      <th>15</th>\n",
       "      <td>Hyundai Verna 1.6 SX</td>\n",
       "      <td>2012</td>\n",
       "      <td>600000.0</td>\n",
       "      <td>100000.0</td>\n",
       "      <td>Diesel</td>\n",
       "      <td>Individual</td>\n",
       "      <td>Manual</td>\n",
       "      <td>First Owner</td>\n",
       "    </tr>\n",
       "    <tr>\n",
       "      <th>16</th>\n",
       "      <td>Datsun RediGO T Option</td>\n",
       "      <td>2017</td>\n",
       "      <td>250000.0</td>\n",
       "      <td>46000.0</td>\n",
       "      <td>Petrol</td>\n",
       "      <td>Individual</td>\n",
       "      <td>Manual</td>\n",
       "      <td>First Owner</td>\n",
       "    </tr>\n",
       "    <tr>\n",
       "      <th>17</th>\n",
       "      <td>Honda Amaze VX i-DTEC</td>\n",
       "      <td>2014</td>\n",
       "      <td>450000.0</td>\n",
       "      <td>141000.0</td>\n",
       "      <td>Diesel</td>\n",
       "      <td>Individual</td>\n",
       "      <td>Manual</td>\n",
       "      <td>Second Owner</td>\n",
       "    </tr>\n",
       "    <tr>\n",
       "      <th>18</th>\n",
       "      <td>Maruti Alto LX BSIII</td>\n",
       "      <td>2007</td>\n",
       "      <td>140000.0</td>\n",
       "      <td>125000.0</td>\n",
       "      <td>Petrol</td>\n",
       "      <td>Individual</td>\n",
       "      <td>Manual</td>\n",
       "      <td>First Owner</td>\n",
       "    </tr>\n",
       "    <tr>\n",
       "      <th>19</th>\n",
       "      <td>Hyundai Xcent 1.2 Kappa S</td>\n",
       "      <td>2016</td>\n",
       "      <td>550000.0</td>\n",
       "      <td>25000.0</td>\n",
       "      <td>Petrol</td>\n",
       "      <td>Individual</td>\n",
       "      <td>Manual</td>\n",
       "      <td>First Owner</td>\n",
       "    </tr>\n",
       "  </tbody>\n",
       "</table>\n",
       "</div>"
      ]
     },
     "execution_count": 3,
     "metadata": {},
     "output_type": "execute_result"
    }
   ],
   "execution_count": 3
  },
  {
   "cell_type": "markdown",
   "metadata": {
    "id": "Ze-lXxLMhpWv"
   },
   "source": [
    "2.2 Оценка данных с помощью метода info."
   ]
  },
  {
   "cell_type": "code",
   "metadata": {
    "id": "bjhngmaLiGM-",
    "ExecuteTime": {
     "end_time": "2025-10-04T14:08:12.335200Z",
     "start_time": "2025-10-04T14:08:12.317848Z"
    }
   },
   "source": [
    "df.info()"
   ],
   "outputs": [
    {
     "name": "stdout",
     "output_type": "stream",
     "text": [
      "<class 'pandas.core.frame.DataFrame'>\n",
      "RangeIndex: 4344 entries, 0 to 4343\n",
      "Data columns (total 8 columns):\n",
      " #   Column        Non-Null Count  Dtype  \n",
      "---  ------        --------------  -----  \n",
      " 0   Name          4344 non-null   object \n",
      " 1   year          4344 non-null   int64  \n",
      " 2   SellingPrice  4342 non-null   float64\n",
      " 3   kmdriven      4343 non-null   float64\n",
      " 4   fuel          4343 non-null   object \n",
      " 5   seller_Type   4344 non-null   object \n",
      " 6   transmission  4344 non-null   object \n",
      " 7   owner         4344 non-null   object \n",
      "dtypes: float64(2), int64(1), object(5)\n",
      "memory usage: 271.6+ KB\n"
     ]
    }
   ],
   "execution_count": 4
  },
  {
   "cell_type": "markdown",
   "metadata": {
    "id": "06PDq9DAiMAY"
   },
   "source": [
    "2.3 Оценка данных с помощью метода describe."
   ]
  },
  {
   "cell_type": "code",
   "metadata": {
    "id": "cTVFwzO1jQfN",
    "ExecuteTime": {
     "end_time": "2025-10-04T14:08:12.653289Z",
     "start_time": "2025-10-04T14:08:12.637294Z"
    }
   },
   "source": [
    "df.describe()"
   ],
   "outputs": [
    {
     "data": {
      "text/plain": [
       "              year  SellingPrice       kmdriven\n",
       "count  4344.000000  4.342000e+03    4343.000000\n",
       "mean   2013.092311  5.039987e+05   66193.063320\n",
       "std       4.214543  5.784465e+05   46636.648764\n",
       "min    1992.000000  2.000000e+04       1.000000\n",
       "25%    2011.000000  2.100000e+05   35000.000000\n",
       "50%    2014.000000  3.500000e+05   60000.000000\n",
       "75%    2016.000000  6.000000e+05   90000.000000\n",
       "max    2020.000000  8.900000e+06  806599.000000"
      ],
      "text/html": [
       "<div>\n",
       "<style scoped>\n",
       "    .dataframe tbody tr th:only-of-type {\n",
       "        vertical-align: middle;\n",
       "    }\n",
       "\n",
       "    .dataframe tbody tr th {\n",
       "        vertical-align: top;\n",
       "    }\n",
       "\n",
       "    .dataframe thead th {\n",
       "        text-align: right;\n",
       "    }\n",
       "</style>\n",
       "<table border=\"1\" class=\"dataframe\">\n",
       "  <thead>\n",
       "    <tr style=\"text-align: right;\">\n",
       "      <th></th>\n",
       "      <th>year</th>\n",
       "      <th>SellingPrice</th>\n",
       "      <th>kmdriven</th>\n",
       "    </tr>\n",
       "  </thead>\n",
       "  <tbody>\n",
       "    <tr>\n",
       "      <th>count</th>\n",
       "      <td>4344.000000</td>\n",
       "      <td>4.342000e+03</td>\n",
       "      <td>4343.000000</td>\n",
       "    </tr>\n",
       "    <tr>\n",
       "      <th>mean</th>\n",
       "      <td>2013.092311</td>\n",
       "      <td>5.039987e+05</td>\n",
       "      <td>66193.063320</td>\n",
       "    </tr>\n",
       "    <tr>\n",
       "      <th>std</th>\n",
       "      <td>4.214543</td>\n",
       "      <td>5.784465e+05</td>\n",
       "      <td>46636.648764</td>\n",
       "    </tr>\n",
       "    <tr>\n",
       "      <th>min</th>\n",
       "      <td>1992.000000</td>\n",
       "      <td>2.000000e+04</td>\n",
       "      <td>1.000000</td>\n",
       "    </tr>\n",
       "    <tr>\n",
       "      <th>25%</th>\n",
       "      <td>2011.000000</td>\n",
       "      <td>2.100000e+05</td>\n",
       "      <td>35000.000000</td>\n",
       "    </tr>\n",
       "    <tr>\n",
       "      <th>50%</th>\n",
       "      <td>2014.000000</td>\n",
       "      <td>3.500000e+05</td>\n",
       "      <td>60000.000000</td>\n",
       "    </tr>\n",
       "    <tr>\n",
       "      <th>75%</th>\n",
       "      <td>2016.000000</td>\n",
       "      <td>6.000000e+05</td>\n",
       "      <td>90000.000000</td>\n",
       "    </tr>\n",
       "    <tr>\n",
       "      <th>max</th>\n",
       "      <td>2020.000000</td>\n",
       "      <td>8.900000e+06</td>\n",
       "      <td>806599.000000</td>\n",
       "    </tr>\n",
       "  </tbody>\n",
       "</table>\n",
       "</div>"
      ]
     },
     "execution_count": 5,
     "metadata": {},
     "output_type": "execute_result"
    }
   ],
   "execution_count": 5
  },
  {
   "cell_type": "markdown",
   "metadata": {
    "id": "oOZUrZGuiGqc"
   },
   "source": [
    "\n",
    "---\n",
    "**Все столбцы с числовыми данными имеют корректный тип данных.\n",
    "Средний год выставляемой на продажу машины - 2013, в основном 2009-2017.\n",
    "Цена машин от 20_000 до 8_900_000 с большим разнообразием.\n",
    "Пробег также отличается между машинами, но большая часть лотов с пробегом меньше 100к.**\n",
    "\n",
    "---\n"
   ]
  },
  {
   "cell_type": "markdown",
   "metadata": {
    "id": "JTbo0IGDiHxn"
   },
   "source": [
    " 2.4 Оценка названий столбцов"
   ]
  },
  {
   "cell_type": "code",
   "metadata": {
    "id": "9NEyi2Odik3e",
    "ExecuteTime": {
     "end_time": "2025-10-04T14:08:12.918131Z",
     "start_time": "2025-10-04T14:08:12.914005Z"
    }
   },
   "source": [
    "df.columns.tolist()"
   ],
   "outputs": [
    {
     "data": {
      "text/plain": [
       "['Name',\n",
       " 'year',\n",
       " 'SellingPrice',\n",
       " 'kmdriven',\n",
       " 'fuel',\n",
       " 'seller_Type',\n",
       " 'transmission',\n",
       " 'owner']"
      ]
     },
     "execution_count": 6,
     "metadata": {},
     "output_type": "execute_result"
    }
   ],
   "execution_count": 6
  },
  {
   "cell_type": "code",
   "metadata": {
    "id": "QSJBLl4qjjP8",
    "ExecuteTime": {
     "end_time": "2025-10-04T14:08:13.217086Z",
     "start_time": "2025-10-04T14:08:13.210378Z"
    }
   },
   "source": [
    "# переименование при необходимости\n",
    "df.columns = df.columns.str.lower()\n",
    "df = df.rename(columns={\n",
    "    'sellingprice': 'price',\n",
    "    'kmdriven': 'km_driven', \n",
    "})\n",
    "\n",
    "df.columns.tolist()"
   ],
   "outputs": [
    {
     "data": {
      "text/plain": [
       "['name',\n",
       " 'year',\n",
       " 'price',\n",
       " 'km_driven',\n",
       " 'fuel',\n",
       " 'seller_type',\n",
       " 'transmission',\n",
       " 'owner']"
      ]
     },
     "execution_count": 7,
     "metadata": {},
     "output_type": "execute_result"
    }
   ],
   "execution_count": 7
  },
  {
   "cell_type": "markdown",
   "metadata": {
    "id": "V0tLQcyrjnA_"
   },
   "source": [
    "### 3. Проверка пропусков"
   ]
  },
  {
   "cell_type": "code",
   "metadata": {
    "id": "xuTz-Avjj9AW",
    "ExecuteTime": {
     "end_time": "2025-10-04T14:08:13.448869Z",
     "start_time": "2025-10-04T14:08:13.434750Z"
    }
   },
   "source": [
    "print(\"Пропущено ДО\")\n",
    "missing_values = df.isnull().sum()\n",
    "print(missing_values)\n",
    "\n",
    "for name in ['price', 'km_driven']:\n",
    "    df[name] = df[name].fillna(df[name].mean())\n",
    "\n",
    "most_popular= df['fuel'].value_counts().idxmax()\n",
    "df['fuel'] = df['fuel'].fillna(most_popular)\n",
    "\n",
    "print(\"Пропущено ПОСЛЕ\")\n",
    "missing_values = df.isnull().sum()\n",
    "print(missing_values)"
   ],
   "outputs": [
    {
     "name": "stdout",
     "output_type": "stream",
     "text": [
      "Пропущено ДО\n",
      "name            0\n",
      "year            0\n",
      "price           2\n",
      "km_driven       1\n",
      "fuel            1\n",
      "seller_type     0\n",
      "transmission    0\n",
      "owner           0\n",
      "dtype: int64\n",
      "Пропущено ПОСЛЕ\n",
      "name            0\n",
      "year            0\n",
      "price           0\n",
      "km_driven       0\n",
      "fuel            0\n",
      "seller_type     0\n",
      "transmission    0\n",
      "owner           0\n",
      "dtype: int64\n"
     ]
    }
   ],
   "execution_count": 8
  },
  {
   "cell_type": "markdown",
   "metadata": {
    "id": "efZ7vgSVkPQH"
   },
   "source": [
    "---\n",
    "\n",
    "**Пропущенные в числовых колонках значения заменены на среднее по столбцу. Малое количество таких строк позволяет выполнить данное действие без изменения общего результата.\n",
    "Пропущенное значение типа топлива заменено на самое распространенное - diesel.**\n",
    "\n",
    " ---"
   ]
  },
  {
   "cell_type": "markdown",
   "metadata": {
    "id": "kkyrXXHikEXk"
   },
   "source": [
    "### 4. Проверка дубликатов"
   ]
  },
  {
   "cell_type": "markdown",
   "metadata": {
    "id": "ImqHvr3okIQ6"
   },
   "source": [
    "#### Проверка явных дубликатов"
   ]
  },
  {
   "cell_type": "code",
   "metadata": {
    "id": "qu1oh-e5lDZ1",
    "ExecuteTime": {
     "end_time": "2025-10-04T14:08:13.612211Z",
     "start_time": "2025-10-04T14:08:13.584984Z"
    }
   },
   "source": [
    "duplicates = df.duplicated().sum()\n",
    "print(f\"Явных дубликатов {duplicates}\")\n",
    "\n",
    "df[df.duplicated()].head()\n"
   ],
   "outputs": [
    {
     "name": "stdout",
     "output_type": "stream",
     "text": [
      "Явных дубликатов 763\n"
     ]
    },
    {
     "data": {
      "text/plain": [
       "                        name  year     price  km_driven    fuel seller_type  \\\n",
       "13             Maruti 800 AC  2007   60000.0    70000.0  Petrol  Individual   \n",
       "14  Maruti Wagon R LXI Minor  2007  135000.0    50000.0  Petrol  Individual   \n",
       "15      Hyundai Verna 1.6 SX  2012  600000.0   100000.0  Diesel  Individual   \n",
       "16    Datsun RediGO T Option  2017  250000.0    46000.0  Petrol  Individual   \n",
       "17     Honda Amaze VX i-DTEC  2014  450000.0   141000.0  Diesel  Individual   \n",
       "\n",
       "   transmission         owner  \n",
       "13       Manual   First Owner  \n",
       "14       Manual   First Owner  \n",
       "15       Manual   First Owner  \n",
       "16       Manual   First Owner  \n",
       "17       Manual  Second Owner  "
      ],
      "text/html": [
       "<div>\n",
       "<style scoped>\n",
       "    .dataframe tbody tr th:only-of-type {\n",
       "        vertical-align: middle;\n",
       "    }\n",
       "\n",
       "    .dataframe tbody tr th {\n",
       "        vertical-align: top;\n",
       "    }\n",
       "\n",
       "    .dataframe thead th {\n",
       "        text-align: right;\n",
       "    }\n",
       "</style>\n",
       "<table border=\"1\" class=\"dataframe\">\n",
       "  <thead>\n",
       "    <tr style=\"text-align: right;\">\n",
       "      <th></th>\n",
       "      <th>name</th>\n",
       "      <th>year</th>\n",
       "      <th>price</th>\n",
       "      <th>km_driven</th>\n",
       "      <th>fuel</th>\n",
       "      <th>seller_type</th>\n",
       "      <th>transmission</th>\n",
       "      <th>owner</th>\n",
       "    </tr>\n",
       "  </thead>\n",
       "  <tbody>\n",
       "    <tr>\n",
       "      <th>13</th>\n",
       "      <td>Maruti 800 AC</td>\n",
       "      <td>2007</td>\n",
       "      <td>60000.0</td>\n",
       "      <td>70000.0</td>\n",
       "      <td>Petrol</td>\n",
       "      <td>Individual</td>\n",
       "      <td>Manual</td>\n",
       "      <td>First Owner</td>\n",
       "    </tr>\n",
       "    <tr>\n",
       "      <th>14</th>\n",
       "      <td>Maruti Wagon R LXI Minor</td>\n",
       "      <td>2007</td>\n",
       "      <td>135000.0</td>\n",
       "      <td>50000.0</td>\n",
       "      <td>Petrol</td>\n",
       "      <td>Individual</td>\n",
       "      <td>Manual</td>\n",
       "      <td>First Owner</td>\n",
       "    </tr>\n",
       "    <tr>\n",
       "      <th>15</th>\n",
       "      <td>Hyundai Verna 1.6 SX</td>\n",
       "      <td>2012</td>\n",
       "      <td>600000.0</td>\n",
       "      <td>100000.0</td>\n",
       "      <td>Diesel</td>\n",
       "      <td>Individual</td>\n",
       "      <td>Manual</td>\n",
       "      <td>First Owner</td>\n",
       "    </tr>\n",
       "    <tr>\n",
       "      <th>16</th>\n",
       "      <td>Datsun RediGO T Option</td>\n",
       "      <td>2017</td>\n",
       "      <td>250000.0</td>\n",
       "      <td>46000.0</td>\n",
       "      <td>Petrol</td>\n",
       "      <td>Individual</td>\n",
       "      <td>Manual</td>\n",
       "      <td>First Owner</td>\n",
       "    </tr>\n",
       "    <tr>\n",
       "      <th>17</th>\n",
       "      <td>Honda Amaze VX i-DTEC</td>\n",
       "      <td>2014</td>\n",
       "      <td>450000.0</td>\n",
       "      <td>141000.0</td>\n",
       "      <td>Diesel</td>\n",
       "      <td>Individual</td>\n",
       "      <td>Manual</td>\n",
       "      <td>Second Owner</td>\n",
       "    </tr>\n",
       "  </tbody>\n",
       "</table>\n",
       "</div>"
      ]
     },
     "execution_count": 9,
     "metadata": {},
     "output_type": "execute_result"
    }
   ],
   "execution_count": 9
  },
  {
   "cell_type": "code",
   "metadata": {
    "id": "ntArgvChkK26",
    "ExecuteTime": {
     "end_time": "2025-10-04T14:08:13.747837Z",
     "start_time": "2025-10-04T14:08:13.738532Z"
    }
   },
   "source": [
    "df_before = df.shape[0]\n",
    "df = df.drop_duplicates()\n",
    "df_after = df.shape[0]\n",
    "print(f\"Удалено {df_before - df_after}, осталось {df_after}\")"
   ],
   "outputs": [
    {
     "name": "stdout",
     "output_type": "stream",
     "text": [
      "Удалено 763, осталось 3581\n"
     ]
    }
   ],
   "execution_count": 10
  },
  {
   "cell_type": "markdown",
   "metadata": {
    "id": "VeHTMcOmkLSw"
   },
   "source": [
    "#### Проверка неявных дубликатов"
   ]
  },
  {
   "cell_type": "code",
   "metadata": {
    "id": "-uOPKHlVlGo8",
    "ExecuteTime": {
     "end_time": "2025-10-04T14:08:13.963016Z",
     "start_time": "2025-10-04T14:08:13.940407Z"
    }
   },
   "source": [
    "key_columns = ['year', 'price', 'km_driven', 'fuel', 'seller_type', 'transmission', 'owner']\n",
    "implicit_duplicates = df.duplicated(subset=key_columns).sum()\n",
    "print(f\"Неявных дубликатов {implicit_duplicates}\")\n",
    "\n",
    "duplicate_mask = df.duplicated(subset=key_columns, keep=False)\n",
    "display(df[duplicate_mask].sort_values(key_columns).head(20))"
   ],
   "outputs": [
    {
     "name": "stdout",
     "output_type": "stream",
     "text": [
      "Неявных дубликатов 80\n"
     ]
    },
    {
     "data": {
      "text/plain": [
       "                                  name  year     price  km_driven    fuel  \\\n",
       "1446                     Maruti 800 AC  2002   80000.0    70000.0  Petrol   \n",
       "2929         Hyundai Santro LP zipPlus  2002   80000.0    70000.0  Petrol   \n",
       "689   Skoda Octavia Classic 1.9 TDI MT  2004  120000.0   120000.0  Diesel   \n",
       "3959               Hyundai Accent CRDi  2004  120000.0   120000.0  Diesel   \n",
       "310                 Maruti Wagon R LXI  2005   80000.0    40000.0  Petrol   \n",
       "1640          Maruti Wagon R VXI BSIII  2005   80000.0    40000.0  Petrol   \n",
       "392           Maruti Wagon R LXI Minor  2007   95000.0    80000.0  Petrol   \n",
       "684    Maruti Zen Estilo 1.1 VXI BSIII  2007   95000.0    80000.0  Petrol   \n",
       "359               Maruti SX4 Vxi BSIII  2007  100000.0    90000.0  Petrol   \n",
       "3653                 Maruti Esteem Vxi  2007  100000.0    90000.0  Petrol   \n",
       "2206           Mahindra Bolero SLX 2WD  2007  300000.0   100000.0  Diesel   \n",
       "2911               Mahindra Bolero SLX  2007  300000.0   100000.0  Diesel   \n",
       "737                    Maruti Alto LXi  2008  110000.0    90000.0  Petrol   \n",
       "1182              Maruti Alto LX BSIII  2008  110000.0    90000.0  Petrol   \n",
       "816                Chevrolet Spark 1.0  2008  120000.0   100000.0  Petrol   \n",
       "1338       Ford Fiesta 1.4 Duratec ZXI  2008  120000.0   100000.0  Petrol   \n",
       "872            Hyundai Santro Xing GLS  2009  140000.0   120000.0  Petrol   \n",
       "3521       Maruti Zen Estilo LXI BS IV  2009  140000.0   120000.0  Petrol   \n",
       "261                       Honda Jazz S  2009  300000.0    50000.0  Petrol   \n",
       "277               Hyundai i20 Asta (o)  2009  300000.0    50000.0  Petrol   \n",
       "\n",
       "     seller_type transmission         owner  \n",
       "1446  Individual       Manual  Second Owner  \n",
       "2929  Individual       Manual  Second Owner  \n",
       "689   Individual       Manual  Second Owner  \n",
       "3959  Individual       Manual  Second Owner  \n",
       "310   Individual       Manual  Second Owner  \n",
       "1640  Individual       Manual  Second Owner  \n",
       "392   Individual       Manual   First Owner  \n",
       "684   Individual       Manual   First Owner  \n",
       "359   Individual       Manual  Second Owner  \n",
       "3653  Individual       Manual  Second Owner  \n",
       "2206  Individual       Manual  Second Owner  \n",
       "2911  Individual       Manual  Second Owner  \n",
       "737   Individual       Manual  Second Owner  \n",
       "1182  Individual       Manual  Second Owner  \n",
       "816   Individual       Manual   Third Owner  \n",
       "1338  Individual       Manual   Third Owner  \n",
       "872   Individual       Manual   First Owner  \n",
       "3521  Individual       Manual   First Owner  \n",
       "261   Individual       Manual   First Owner  \n",
       "277   Individual       Manual   First Owner  "
      ],
      "text/html": [
       "<div>\n",
       "<style scoped>\n",
       "    .dataframe tbody tr th:only-of-type {\n",
       "        vertical-align: middle;\n",
       "    }\n",
       "\n",
       "    .dataframe tbody tr th {\n",
       "        vertical-align: top;\n",
       "    }\n",
       "\n",
       "    .dataframe thead th {\n",
       "        text-align: right;\n",
       "    }\n",
       "</style>\n",
       "<table border=\"1\" class=\"dataframe\">\n",
       "  <thead>\n",
       "    <tr style=\"text-align: right;\">\n",
       "      <th></th>\n",
       "      <th>name</th>\n",
       "      <th>year</th>\n",
       "      <th>price</th>\n",
       "      <th>km_driven</th>\n",
       "      <th>fuel</th>\n",
       "      <th>seller_type</th>\n",
       "      <th>transmission</th>\n",
       "      <th>owner</th>\n",
       "    </tr>\n",
       "  </thead>\n",
       "  <tbody>\n",
       "    <tr>\n",
       "      <th>1446</th>\n",
       "      <td>Maruti 800 AC</td>\n",
       "      <td>2002</td>\n",
       "      <td>80000.0</td>\n",
       "      <td>70000.0</td>\n",
       "      <td>Petrol</td>\n",
       "      <td>Individual</td>\n",
       "      <td>Manual</td>\n",
       "      <td>Second Owner</td>\n",
       "    </tr>\n",
       "    <tr>\n",
       "      <th>2929</th>\n",
       "      <td>Hyundai Santro LP zipPlus</td>\n",
       "      <td>2002</td>\n",
       "      <td>80000.0</td>\n",
       "      <td>70000.0</td>\n",
       "      <td>Petrol</td>\n",
       "      <td>Individual</td>\n",
       "      <td>Manual</td>\n",
       "      <td>Second Owner</td>\n",
       "    </tr>\n",
       "    <tr>\n",
       "      <th>689</th>\n",
       "      <td>Skoda Octavia Classic 1.9 TDI MT</td>\n",
       "      <td>2004</td>\n",
       "      <td>120000.0</td>\n",
       "      <td>120000.0</td>\n",
       "      <td>Diesel</td>\n",
       "      <td>Individual</td>\n",
       "      <td>Manual</td>\n",
       "      <td>Second Owner</td>\n",
       "    </tr>\n",
       "    <tr>\n",
       "      <th>3959</th>\n",
       "      <td>Hyundai Accent CRDi</td>\n",
       "      <td>2004</td>\n",
       "      <td>120000.0</td>\n",
       "      <td>120000.0</td>\n",
       "      <td>Diesel</td>\n",
       "      <td>Individual</td>\n",
       "      <td>Manual</td>\n",
       "      <td>Second Owner</td>\n",
       "    </tr>\n",
       "    <tr>\n",
       "      <th>310</th>\n",
       "      <td>Maruti Wagon R LXI</td>\n",
       "      <td>2005</td>\n",
       "      <td>80000.0</td>\n",
       "      <td>40000.0</td>\n",
       "      <td>Petrol</td>\n",
       "      <td>Individual</td>\n",
       "      <td>Manual</td>\n",
       "      <td>Second Owner</td>\n",
       "    </tr>\n",
       "    <tr>\n",
       "      <th>1640</th>\n",
       "      <td>Maruti Wagon R VXI BSIII</td>\n",
       "      <td>2005</td>\n",
       "      <td>80000.0</td>\n",
       "      <td>40000.0</td>\n",
       "      <td>Petrol</td>\n",
       "      <td>Individual</td>\n",
       "      <td>Manual</td>\n",
       "      <td>Second Owner</td>\n",
       "    </tr>\n",
       "    <tr>\n",
       "      <th>392</th>\n",
       "      <td>Maruti Wagon R LXI Minor</td>\n",
       "      <td>2007</td>\n",
       "      <td>95000.0</td>\n",
       "      <td>80000.0</td>\n",
       "      <td>Petrol</td>\n",
       "      <td>Individual</td>\n",
       "      <td>Manual</td>\n",
       "      <td>First Owner</td>\n",
       "    </tr>\n",
       "    <tr>\n",
       "      <th>684</th>\n",
       "      <td>Maruti Zen Estilo 1.1 VXI BSIII</td>\n",
       "      <td>2007</td>\n",
       "      <td>95000.0</td>\n",
       "      <td>80000.0</td>\n",
       "      <td>Petrol</td>\n",
       "      <td>Individual</td>\n",
       "      <td>Manual</td>\n",
       "      <td>First Owner</td>\n",
       "    </tr>\n",
       "    <tr>\n",
       "      <th>359</th>\n",
       "      <td>Maruti SX4 Vxi BSIII</td>\n",
       "      <td>2007</td>\n",
       "      <td>100000.0</td>\n",
       "      <td>90000.0</td>\n",
       "      <td>Petrol</td>\n",
       "      <td>Individual</td>\n",
       "      <td>Manual</td>\n",
       "      <td>Second Owner</td>\n",
       "    </tr>\n",
       "    <tr>\n",
       "      <th>3653</th>\n",
       "      <td>Maruti Esteem Vxi</td>\n",
       "      <td>2007</td>\n",
       "      <td>100000.0</td>\n",
       "      <td>90000.0</td>\n",
       "      <td>Petrol</td>\n",
       "      <td>Individual</td>\n",
       "      <td>Manual</td>\n",
       "      <td>Second Owner</td>\n",
       "    </tr>\n",
       "    <tr>\n",
       "      <th>2206</th>\n",
       "      <td>Mahindra Bolero SLX 2WD</td>\n",
       "      <td>2007</td>\n",
       "      <td>300000.0</td>\n",
       "      <td>100000.0</td>\n",
       "      <td>Diesel</td>\n",
       "      <td>Individual</td>\n",
       "      <td>Manual</td>\n",
       "      <td>Second Owner</td>\n",
       "    </tr>\n",
       "    <tr>\n",
       "      <th>2911</th>\n",
       "      <td>Mahindra Bolero SLX</td>\n",
       "      <td>2007</td>\n",
       "      <td>300000.0</td>\n",
       "      <td>100000.0</td>\n",
       "      <td>Diesel</td>\n",
       "      <td>Individual</td>\n",
       "      <td>Manual</td>\n",
       "      <td>Second Owner</td>\n",
       "    </tr>\n",
       "    <tr>\n",
       "      <th>737</th>\n",
       "      <td>Maruti Alto LXi</td>\n",
       "      <td>2008</td>\n",
       "      <td>110000.0</td>\n",
       "      <td>90000.0</td>\n",
       "      <td>Petrol</td>\n",
       "      <td>Individual</td>\n",
       "      <td>Manual</td>\n",
       "      <td>Second Owner</td>\n",
       "    </tr>\n",
       "    <tr>\n",
       "      <th>1182</th>\n",
       "      <td>Maruti Alto LX BSIII</td>\n",
       "      <td>2008</td>\n",
       "      <td>110000.0</td>\n",
       "      <td>90000.0</td>\n",
       "      <td>Petrol</td>\n",
       "      <td>Individual</td>\n",
       "      <td>Manual</td>\n",
       "      <td>Second Owner</td>\n",
       "    </tr>\n",
       "    <tr>\n",
       "      <th>816</th>\n",
       "      <td>Chevrolet Spark 1.0</td>\n",
       "      <td>2008</td>\n",
       "      <td>120000.0</td>\n",
       "      <td>100000.0</td>\n",
       "      <td>Petrol</td>\n",
       "      <td>Individual</td>\n",
       "      <td>Manual</td>\n",
       "      <td>Third Owner</td>\n",
       "    </tr>\n",
       "    <tr>\n",
       "      <th>1338</th>\n",
       "      <td>Ford Fiesta 1.4 Duratec ZXI</td>\n",
       "      <td>2008</td>\n",
       "      <td>120000.0</td>\n",
       "      <td>100000.0</td>\n",
       "      <td>Petrol</td>\n",
       "      <td>Individual</td>\n",
       "      <td>Manual</td>\n",
       "      <td>Third Owner</td>\n",
       "    </tr>\n",
       "    <tr>\n",
       "      <th>872</th>\n",
       "      <td>Hyundai Santro Xing GLS</td>\n",
       "      <td>2009</td>\n",
       "      <td>140000.0</td>\n",
       "      <td>120000.0</td>\n",
       "      <td>Petrol</td>\n",
       "      <td>Individual</td>\n",
       "      <td>Manual</td>\n",
       "      <td>First Owner</td>\n",
       "    </tr>\n",
       "    <tr>\n",
       "      <th>3521</th>\n",
       "      <td>Maruti Zen Estilo LXI BS IV</td>\n",
       "      <td>2009</td>\n",
       "      <td>140000.0</td>\n",
       "      <td>120000.0</td>\n",
       "      <td>Petrol</td>\n",
       "      <td>Individual</td>\n",
       "      <td>Manual</td>\n",
       "      <td>First Owner</td>\n",
       "    </tr>\n",
       "    <tr>\n",
       "      <th>261</th>\n",
       "      <td>Honda Jazz S</td>\n",
       "      <td>2009</td>\n",
       "      <td>300000.0</td>\n",
       "      <td>50000.0</td>\n",
       "      <td>Petrol</td>\n",
       "      <td>Individual</td>\n",
       "      <td>Manual</td>\n",
       "      <td>First Owner</td>\n",
       "    </tr>\n",
       "    <tr>\n",
       "      <th>277</th>\n",
       "      <td>Hyundai i20 Asta (o)</td>\n",
       "      <td>2009</td>\n",
       "      <td>300000.0</td>\n",
       "      <td>50000.0</td>\n",
       "      <td>Petrol</td>\n",
       "      <td>Individual</td>\n",
       "      <td>Manual</td>\n",
       "      <td>First Owner</td>\n",
       "    </tr>\n",
       "  </tbody>\n",
       "</table>\n",
       "</div>"
      ]
     },
     "metadata": {},
     "output_type": "display_data",
     "jetTransient": {
      "display_id": null
     }
    }
   ],
   "execution_count": 11
  },
  {
   "cell_type": "code",
   "metadata": {
    "ExecuteTime": {
     "end_time": "2025-10-04T14:08:14.108866Z",
     "start_time": "2025-10-04T14:08:14.102377Z"
    }
   },
   "source": [
    "def all_value_counts():\n",
    "    for i in [\"fuel\", \"seller_type\", \"transmission\", \"owner\"]:\n",
    "        print('\\n')\n",
    "        print(df[i].value_counts())\n",
    "\n",
    "all_value_counts()"
   ],
   "outputs": [
    {
     "name": "stdout",
     "output_type": "stream",
     "text": [
      "\n",
      "\n",
      "fuel\n",
      "Diesel      1801\n",
      "Petrol      1719\n",
      "CNG           37\n",
      "LPG           22\n",
      "Petroll        1\n",
      "Electric       1\n",
      "Name: count, dtype: int64\n",
      "\n",
      "\n",
      "seller_type\n",
      "Individual          2836\n",
      "Dealer               711\n",
      "Trustmark Dealer      33\n",
      "Dealeer                1\n",
      "Name: count, dtype: int64\n",
      "\n",
      "\n",
      "transmission\n",
      "Manual       3269\n",
      "Automatic     312\n",
      "Name: count, dtype: int64\n",
      "\n",
      "\n",
      "owner\n",
      "First Owner             2220\n",
      "Second Owner             980\n",
      "Third Owner              289\n",
      "Fourth & Above Owner      75\n",
      "Test Drive Car            17\n",
      "Name: count, dtype: int64\n"
     ]
    }
   ],
   "execution_count": 12
  },
  {
   "cell_type": "code",
   "metadata": {
    "ExecuteTime": {
     "end_time": "2025-10-04T14:08:14.315224Z",
     "start_time": "2025-10-04T14:08:14.303173Z"
    }
   },
   "source": [
    "df['fuel'] = df['fuel'].replace('Petroll', 'Petrol')\n",
    "df['seller_type'] = df['seller_type'].replace('Dealeer', 'Dealer')\n",
    "df['seller_type'] = df['seller_type'].replace('Trustmark Dealer', 'Dealer')\n",
    "all_value_counts()\n",
    "\n",
    "df_before = df.shape[0]\n",
    "# df = df.drop_duplicates(subset=key_columns)\n",
    "df_after = df.shape[0]\n",
    "print(f\"Удалено {df_before - df_after}, осталось {df_after}\")"
   ],
   "outputs": [
    {
     "name": "stdout",
     "output_type": "stream",
     "text": [
      "\n",
      "\n",
      "fuel\n",
      "Diesel      1801\n",
      "Petrol      1720\n",
      "CNG           37\n",
      "LPG           22\n",
      "Electric       1\n",
      "Name: count, dtype: int64\n",
      "\n",
      "\n",
      "seller_type\n",
      "Individual    2836\n",
      "Dealer         745\n",
      "Name: count, dtype: int64\n",
      "\n",
      "\n",
      "transmission\n",
      "Manual       3269\n",
      "Automatic     312\n",
      "Name: count, dtype: int64\n",
      "\n",
      "\n",
      "owner\n",
      "First Owner             2220\n",
      "Second Owner             980\n",
      "Third Owner              289\n",
      "Fourth & Above Owner      75\n",
      "Test Drive Car            17\n",
      "Name: count, dtype: int64\n",
      "Удалено 0, осталось 3581\n"
     ]
    }
   ],
   "execution_count": 13
  },
  {
   "cell_type": "markdown",
   "metadata": {},
   "source": [
    "---\n",
    "\n",
    "**Удалены все явные дубликаты.\n",
    "Найдены и исправлены неявные дубликаты в текстовых столбцах.\n",
    "Найдены строки, совпадающие по всем полям, кроме модели авто. Однако, данные строки оставлены в связи с частым значительным различием модели авто.**\n",
    "\n",
    " ---"
   ]
  },
  {
   "cell_type": "markdown",
   "metadata": {
    "id": "md9GhfYMlbi7"
   },
   "source": [
    "### 5. Провека типов данных"
   ]
  },
  {
   "cell_type": "code",
   "metadata": {
    "ExecuteTime": {
     "end_time": "2025-10-04T14:08:14.400278Z",
     "start_time": "2025-10-04T14:08:14.394712Z"
    }
   },
   "source": [
    "df.dtypes"
   ],
   "outputs": [
    {
     "data": {
      "text/plain": [
       "name             object\n",
       "year              int64\n",
       "price           float64\n",
       "km_driven       float64\n",
       "fuel             object\n",
       "seller_type      object\n",
       "transmission     object\n",
       "owner            object\n",
       "dtype: object"
      ]
     },
     "execution_count": 14,
     "metadata": {},
     "output_type": "execute_result"
    }
   ],
   "execution_count": 14
  },
  {
   "cell_type": "code",
   "metadata": {
    "ExecuteTime": {
     "end_time": "2025-10-04T14:08:14.546885Z",
     "start_time": "2025-10-04T14:08:14.535605Z"
    }
   },
   "source": [
    "categorical_columns = ['fuel', 'seller_type', 'transmission', 'owner']\n",
    "for col in categorical_columns:\n",
    "    df[col] = df[col].astype('category')\n",
    "\n",
    "df['km_driven'] = df['km_driven'].astype('int64')\n",
    "\n",
    "df.dtypes"
   ],
   "outputs": [
    {
     "data": {
      "text/plain": [
       "name              object\n",
       "year               int64\n",
       "price            float64\n",
       "km_driven          int64\n",
       "fuel            category\n",
       "seller_type     category\n",
       "transmission    category\n",
       "owner           category\n",
       "dtype: object"
      ]
     },
     "execution_count": 15,
     "metadata": {},
     "output_type": "execute_result"
    }
   ],
   "execution_count": 15
  },
  {
   "cell_type": "markdown",
   "metadata": {
    "id": "DPDBNN4dlx7W"
   },
   "source": [
    "---\n",
    "\n",
    "**Замечено, что пробег всех авто округлен до целых, поэтому тип столбца также сменен на целочисленный.\n",
    "Четыре последних столбца изменены на тип \"категория\".\n",
    "Остальные столбцы изменению не подлежат.**\n",
    "\n",
    " ---"
   ]
  },
  {
   "cell_type": "markdown",
   "metadata": {
    "id": "lzr0SgqlnmHy"
   },
   "source": [
    "### 6. Группировка данных"
   ]
  },
  {
   "cell_type": "markdown",
   "metadata": {
    "id": "QG_dbwzfmZoS"
   },
   "source": [
    "#### Задание 1"
   ]
  },
  {
   "cell_type": "markdown",
   "metadata": {
    "id": "CyCKTB4DmciW"
   },
   "source": [
    "*`Группировка - тип коробки передач (transmission) по количеству\n",
    "разных типов топлива (fuel) . Результат должен иметь примерно следующий вид`*"
   ]
  },
  {
   "cell_type": "code",
   "metadata": {
    "id": "tp8Bl1gumYlI",
    "ExecuteTime": {
     "end_time": "2025-10-04T14:08:14.908621Z",
     "start_time": "2025-10-04T14:08:14.893230Z"
    }
   },
   "source": [
    "df_1 = df.groupby(['transmission','fuel'])[\"price\"].mean()\n",
    "df_1"
   ],
   "outputs": [
    {
     "name": "stderr",
     "output_type": "stream",
     "text": [
      "C:\\Users\\max\\AppData\\Local\\Temp\\ipykernel_11280\\2106763612.py:1: FutureWarning: The default of observed=False is deprecated and will be changed to True in a future version of pandas. Pass observed=False to retain current behavior or observed=True to adopt the future default and silence this warning.\n",
      "  df_1 = df.groupby(['transmission','fuel'])[\"price\"].mean()\n"
     ]
    },
    {
     "data": {
      "text/plain": [
       "transmission  fuel    \n",
       "Automatic     CNG                  NaN\n",
       "              Diesel      1.703965e+06\n",
       "              Electric    3.100000e+05\n",
       "              LPG                  NaN\n",
       "              Petrol      7.645532e+05\n",
       "Manual        CNG         2.731621e+05\n",
       "              Diesel      5.003261e+05\n",
       "              Electric             NaN\n",
       "              LPG         1.718181e+05\n",
       "              Petrol      2.973896e+05\n",
       "Name: price, dtype: float64"
      ]
     },
     "execution_count": 16,
     "metadata": {},
     "output_type": "execute_result"
    }
   ],
   "execution_count": 16
  },
  {
   "cell_type": "markdown",
   "metadata": {
    "id": "jLmhNuq0mms3"
   },
   "source": [
    "Из результата группировки видна популярность определенных комбинаций transmission-fuel среди автовладельцев. Например, ручные коробки передач могут быть более распространены с определенными типами двигателей/топлива - среди машин нет ни одной машины на автомате с газовым двигателем."
   ]
  },
  {
   "cell_type": "markdown",
   "metadata": {
    "id": "j0isGCzEne7a"
   },
   "source": [
    "#### Задание 2"
   ]
  },
  {
   "cell_type": "markdown",
   "metadata": {
    "id": "kE2vLBWbne7a"
   },
   "source": [
    "*`Группировка - тип владельца (owner) по количеству разных коробок\n",
    "передач (transmission). Создать датафрейм. Переименовать столбец с\n",
    "количеством в “сountˮ. Отсортировать по убыванию столбца “countˮ.`*"
   ]
  },
  {
   "cell_type": "code",
   "metadata": {
    "id": "ttn78Zaene7a",
    "ExecuteTime": {
     "end_time": "2025-10-04T14:08:15.128837Z",
     "start_time": "2025-10-04T14:08:15.117513Z"
    }
   },
   "source": [
    "df_2 = df.groupby(['owner','transmission'])['name'].count()\n",
    "df_2.name = 'count'\n",
    "df_2.sort_values(ascending=False).reset_index()\n"
   ],
   "outputs": [
    {
     "name": "stderr",
     "output_type": "stream",
     "text": [
      "C:\\Users\\max\\AppData\\Local\\Temp\\ipykernel_11280\\3879407770.py:1: FutureWarning: The default of observed=False is deprecated and will be changed to True in a future version of pandas. Pass observed=False to retain current behavior or observed=True to adopt the future default and silence this warning.\n",
      "  df_2 = df.groupby(['owner','transmission'])['name'].count()\n"
     ]
    },
    {
     "data": {
      "text/plain": [
       "                  owner transmission  count\n",
       "0           First Owner       Manual   1993\n",
       "1          Second Owner       Manual    916\n",
       "2           Third Owner       Manual    271\n",
       "3           First Owner    Automatic    227\n",
       "4  Fourth & Above Owner       Manual     73\n",
       "5          Second Owner    Automatic     64\n",
       "6           Third Owner    Automatic     18\n",
       "7        Test Drive Car       Manual     16\n",
       "8  Fourth & Above Owner    Automatic      2\n",
       "9        Test Drive Car    Automatic      1"
      ],
      "text/html": [
       "<div>\n",
       "<style scoped>\n",
       "    .dataframe tbody tr th:only-of-type {\n",
       "        vertical-align: middle;\n",
       "    }\n",
       "\n",
       "    .dataframe tbody tr th {\n",
       "        vertical-align: top;\n",
       "    }\n",
       "\n",
       "    .dataframe thead th {\n",
       "        text-align: right;\n",
       "    }\n",
       "</style>\n",
       "<table border=\"1\" class=\"dataframe\">\n",
       "  <thead>\n",
       "    <tr style=\"text-align: right;\">\n",
       "      <th></th>\n",
       "      <th>owner</th>\n",
       "      <th>transmission</th>\n",
       "      <th>count</th>\n",
       "    </tr>\n",
       "  </thead>\n",
       "  <tbody>\n",
       "    <tr>\n",
       "      <th>0</th>\n",
       "      <td>First Owner</td>\n",
       "      <td>Manual</td>\n",
       "      <td>1993</td>\n",
       "    </tr>\n",
       "    <tr>\n",
       "      <th>1</th>\n",
       "      <td>Second Owner</td>\n",
       "      <td>Manual</td>\n",
       "      <td>916</td>\n",
       "    </tr>\n",
       "    <tr>\n",
       "      <th>2</th>\n",
       "      <td>Third Owner</td>\n",
       "      <td>Manual</td>\n",
       "      <td>271</td>\n",
       "    </tr>\n",
       "    <tr>\n",
       "      <th>3</th>\n",
       "      <td>First Owner</td>\n",
       "      <td>Automatic</td>\n",
       "      <td>227</td>\n",
       "    </tr>\n",
       "    <tr>\n",
       "      <th>4</th>\n",
       "      <td>Fourth &amp; Above Owner</td>\n",
       "      <td>Manual</td>\n",
       "      <td>73</td>\n",
       "    </tr>\n",
       "    <tr>\n",
       "      <th>5</th>\n",
       "      <td>Second Owner</td>\n",
       "      <td>Automatic</td>\n",
       "      <td>64</td>\n",
       "    </tr>\n",
       "    <tr>\n",
       "      <th>6</th>\n",
       "      <td>Third Owner</td>\n",
       "      <td>Automatic</td>\n",
       "      <td>18</td>\n",
       "    </tr>\n",
       "    <tr>\n",
       "      <th>7</th>\n",
       "      <td>Test Drive Car</td>\n",
       "      <td>Manual</td>\n",
       "      <td>16</td>\n",
       "    </tr>\n",
       "    <tr>\n",
       "      <th>8</th>\n",
       "      <td>Fourth &amp; Above Owner</td>\n",
       "      <td>Automatic</td>\n",
       "      <td>2</td>\n",
       "    </tr>\n",
       "    <tr>\n",
       "      <th>9</th>\n",
       "      <td>Test Drive Car</td>\n",
       "      <td>Automatic</td>\n",
       "      <td>1</td>\n",
       "    </tr>\n",
       "  </tbody>\n",
       "</table>\n",
       "</div>"
      ]
     },
     "execution_count": 17,
     "metadata": {},
     "output_type": "execute_result"
    }
   ],
   "execution_count": 17
  },
  {
   "cell_type": "markdown",
   "metadata": {
    "id": "HCyyeAu6ne7a"
   },
   "source": [
    "Из результата группировки видно распределение типов владельцев по разнообразию коробок передач в их автомобилях. Видно, что коробка автомат представлена в основном машинами после одного владельца, а четырех владельцев переживает минимальная доля, в то время как на рынке механики автомобили продаются и после четырех владельцев в значительной доле."
   ]
  },
  {
   "cell_type": "markdown",
   "metadata": {
    "id": "_3fHGp64nhUJ"
   },
   "source": [
    "#### Задание 3"
   ]
  },
  {
   "cell_type": "markdown",
   "metadata": {
    "id": "_Bc4ehyKnhUJ"
   },
   "source": [
    "*`Сводная таблица (pivot_table) - средняя стоимость для каждого года\n",
    "year. Отсортировать по убыванию. Округлить до трёх знаков`*"
   ]
  },
  {
   "cell_type": "code",
   "metadata": {
    "id": "siDovPvQnhUJ",
    "ExecuteTime": {
     "end_time": "2025-10-04T14:08:15.676978Z",
     "start_time": "2025-10-04T14:08:15.658206Z"
    }
   },
   "source": [
    "df.pivot_table(index='year', values='price', aggfunc='mean').round(3).sort_values(by='price', ascending=False)"
   ],
   "outputs": [
    {
     "data": {
      "text/plain": [
       "           price\n",
       "year            \n",
       "2019  865364.167\n",
       "2018  820420.305\n",
       "2020  804844.400\n",
       "2017  740501.394\n",
       "2016  638342.707\n",
       "2014  512003.059\n",
       "2015  511072.027\n",
       "2013  433046.285\n",
       "2012  379352.027\n",
       "2011  296028.291\n",
       "2010  276666.738\n",
       "2009  235467.420\n",
       "1996  225000.000\n",
       "2008  177668.171\n",
       "2007  165282.043\n",
       "1998  165111.111\n",
       "2006  154182.763\n",
       "2004  126697.342\n",
       "2005  114821.443\n",
       "2001  109562.438\n",
       "1995   95000.000\n",
       "1997   93000.000\n",
       "2003   87090.909\n",
       "2002   86111.111\n",
       "2000   81500.000\n",
       "1999   73888.889\n",
       "1992   50000.000"
      ],
      "text/html": [
       "<div>\n",
       "<style scoped>\n",
       "    .dataframe tbody tr th:only-of-type {\n",
       "        vertical-align: middle;\n",
       "    }\n",
       "\n",
       "    .dataframe tbody tr th {\n",
       "        vertical-align: top;\n",
       "    }\n",
       "\n",
       "    .dataframe thead th {\n",
       "        text-align: right;\n",
       "    }\n",
       "</style>\n",
       "<table border=\"1\" class=\"dataframe\">\n",
       "  <thead>\n",
       "    <tr style=\"text-align: right;\">\n",
       "      <th></th>\n",
       "      <th>price</th>\n",
       "    </tr>\n",
       "    <tr>\n",
       "      <th>year</th>\n",
       "      <th></th>\n",
       "    </tr>\n",
       "  </thead>\n",
       "  <tbody>\n",
       "    <tr>\n",
       "      <th>2019</th>\n",
       "      <td>865364.167</td>\n",
       "    </tr>\n",
       "    <tr>\n",
       "      <th>2018</th>\n",
       "      <td>820420.305</td>\n",
       "    </tr>\n",
       "    <tr>\n",
       "      <th>2020</th>\n",
       "      <td>804844.400</td>\n",
       "    </tr>\n",
       "    <tr>\n",
       "      <th>2017</th>\n",
       "      <td>740501.394</td>\n",
       "    </tr>\n",
       "    <tr>\n",
       "      <th>2016</th>\n",
       "      <td>638342.707</td>\n",
       "    </tr>\n",
       "    <tr>\n",
       "      <th>2014</th>\n",
       "      <td>512003.059</td>\n",
       "    </tr>\n",
       "    <tr>\n",
       "      <th>2015</th>\n",
       "      <td>511072.027</td>\n",
       "    </tr>\n",
       "    <tr>\n",
       "      <th>2013</th>\n",
       "      <td>433046.285</td>\n",
       "    </tr>\n",
       "    <tr>\n",
       "      <th>2012</th>\n",
       "      <td>379352.027</td>\n",
       "    </tr>\n",
       "    <tr>\n",
       "      <th>2011</th>\n",
       "      <td>296028.291</td>\n",
       "    </tr>\n",
       "    <tr>\n",
       "      <th>2010</th>\n",
       "      <td>276666.738</td>\n",
       "    </tr>\n",
       "    <tr>\n",
       "      <th>2009</th>\n",
       "      <td>235467.420</td>\n",
       "    </tr>\n",
       "    <tr>\n",
       "      <th>1996</th>\n",
       "      <td>225000.000</td>\n",
       "    </tr>\n",
       "    <tr>\n",
       "      <th>2008</th>\n",
       "      <td>177668.171</td>\n",
       "    </tr>\n",
       "    <tr>\n",
       "      <th>2007</th>\n",
       "      <td>165282.043</td>\n",
       "    </tr>\n",
       "    <tr>\n",
       "      <th>1998</th>\n",
       "      <td>165111.111</td>\n",
       "    </tr>\n",
       "    <tr>\n",
       "      <th>2006</th>\n",
       "      <td>154182.763</td>\n",
       "    </tr>\n",
       "    <tr>\n",
       "      <th>2004</th>\n",
       "      <td>126697.342</td>\n",
       "    </tr>\n",
       "    <tr>\n",
       "      <th>2005</th>\n",
       "      <td>114821.443</td>\n",
       "    </tr>\n",
       "    <tr>\n",
       "      <th>2001</th>\n",
       "      <td>109562.438</td>\n",
       "    </tr>\n",
       "    <tr>\n",
       "      <th>1995</th>\n",
       "      <td>95000.000</td>\n",
       "    </tr>\n",
       "    <tr>\n",
       "      <th>1997</th>\n",
       "      <td>93000.000</td>\n",
       "    </tr>\n",
       "    <tr>\n",
       "      <th>2003</th>\n",
       "      <td>87090.909</td>\n",
       "    </tr>\n",
       "    <tr>\n",
       "      <th>2002</th>\n",
       "      <td>86111.111</td>\n",
       "    </tr>\n",
       "    <tr>\n",
       "      <th>2000</th>\n",
       "      <td>81500.000</td>\n",
       "    </tr>\n",
       "    <tr>\n",
       "      <th>1999</th>\n",
       "      <td>73888.889</td>\n",
       "    </tr>\n",
       "    <tr>\n",
       "      <th>1992</th>\n",
       "      <td>50000.000</td>\n",
       "    </tr>\n",
       "  </tbody>\n",
       "</table>\n",
       "</div>"
      ]
     },
     "execution_count": 18,
     "metadata": {},
     "output_type": "execute_result"
    }
   ],
   "execution_count": 18
  },
  {
   "cell_type": "markdown",
   "metadata": {
    "id": "1-vw8iyUnhUK"
   },
   "source": [
    "Из сводной таблицы видна зависимость средней цены продажи от года выпуска автомобиля. Более новые автомобили имеют более высокую среднюю стоимость, что является логичным, поскольку они меньше подвержены износу и обесцениванию."
   ]
  },
  {
   "cell_type": "markdown",
   "metadata": {
    "id": "FOlw74xCniNo"
   },
   "source": [
    "#### Задание 4"
   ]
  },
  {
   "cell_type": "markdown",
   "metadata": {
    "id": "4tvYwT25niNq"
   },
   "source": [
    "*`Сводная таблица (pivot_table) - среднее цена для каждого типа\n",
    "владельца - столбцы и типа продавца- строки. Отсортировать по возрастанию\n",
    "seller_type. Округлить до двух знаков.`*"
   ]
  },
  {
   "cell_type": "code",
   "metadata": {
    "id": "TfJ719g6niNq",
    "ExecuteTime": {
     "end_time": "2025-10-04T14:08:15.889601Z",
     "start_time": "2025-10-04T14:08:15.866640Z"
    }
   },
   "source": [
    "df.pivot_table(index=['seller_type','fuel'], columns='owner', values='price',\n",
    "               aggfunc='mean', fill_value=0)    .round(2)    . sort_values(by='seller_type', ascending=True)"
   ],
   "outputs": [
    {
     "name": "stderr",
     "output_type": "stream",
     "text": [
      "C:\\Users\\max\\AppData\\Local\\Temp\\ipykernel_11280\\243383771.py:1: FutureWarning: The default value of observed=False is deprecated and will change to observed=True in a future version of pandas. Specify observed=False to silence this warning and retain the current behavior\n",
      "  df.pivot_table(index=['seller_type','fuel'], columns='owner', values='price',\n"
     ]
    },
    {
     "data": {
      "text/plain": [
       "owner                 First Owner  Fourth & Above Owner  Second Owner  \\\n",
       "seller_type fuel                                                        \n",
       "Dealer      CNG         361428.43                  0.00     136500.00   \n",
       "            Diesel      848683.05             114999.00     591396.17   \n",
       "            Electric         0.00                  0.00     310000.00   \n",
       "            LPG         240000.00                  0.00          0.00   \n",
       "            Petrol      511031.64             120000.00     354227.20   \n",
       "Individual  CNG         380749.83             108333.33     196363.64   \n",
       "            Diesel      679783.68             255806.42     432617.73   \n",
       "            LPG         207777.78              60000.00     148888.78   \n",
       "            Petrol      365458.51             132657.87     218254.08   \n",
       "\n",
       "owner                 Test Drive Car  Third Owner  \n",
       "seller_type fuel                                   \n",
       "Dealer      CNG                 0.00         0.00  \n",
       "            Diesel        1056285.57    748800.00  \n",
       "            Electric            0.00         0.00  \n",
       "            LPG                 0.00         0.00  \n",
       "            Petrol         882899.80    104249.75  \n",
       "Individual  CNG                 0.00    125000.00  \n",
       "            Diesel              0.00    352230.72  \n",
       "            LPG                 0.00    135000.00  \n",
       "            Petrol              0.00    164399.29  "
      ],
      "text/html": [
       "<div>\n",
       "<style scoped>\n",
       "    .dataframe tbody tr th:only-of-type {\n",
       "        vertical-align: middle;\n",
       "    }\n",
       "\n",
       "    .dataframe tbody tr th {\n",
       "        vertical-align: top;\n",
       "    }\n",
       "\n",
       "    .dataframe thead th {\n",
       "        text-align: right;\n",
       "    }\n",
       "</style>\n",
       "<table border=\"1\" class=\"dataframe\">\n",
       "  <thead>\n",
       "    <tr style=\"text-align: right;\">\n",
       "      <th></th>\n",
       "      <th>owner</th>\n",
       "      <th>First Owner</th>\n",
       "      <th>Fourth &amp; Above Owner</th>\n",
       "      <th>Second Owner</th>\n",
       "      <th>Test Drive Car</th>\n",
       "      <th>Third Owner</th>\n",
       "    </tr>\n",
       "    <tr>\n",
       "      <th>seller_type</th>\n",
       "      <th>fuel</th>\n",
       "      <th></th>\n",
       "      <th></th>\n",
       "      <th></th>\n",
       "      <th></th>\n",
       "      <th></th>\n",
       "    </tr>\n",
       "  </thead>\n",
       "  <tbody>\n",
       "    <tr>\n",
       "      <th rowspan=\"5\" valign=\"top\">Dealer</th>\n",
       "      <th>CNG</th>\n",
       "      <td>361428.43</td>\n",
       "      <td>0.00</td>\n",
       "      <td>136500.00</td>\n",
       "      <td>0.00</td>\n",
       "      <td>0.00</td>\n",
       "    </tr>\n",
       "    <tr>\n",
       "      <th>Diesel</th>\n",
       "      <td>848683.05</td>\n",
       "      <td>114999.00</td>\n",
       "      <td>591396.17</td>\n",
       "      <td>1056285.57</td>\n",
       "      <td>748800.00</td>\n",
       "    </tr>\n",
       "    <tr>\n",
       "      <th>Electric</th>\n",
       "      <td>0.00</td>\n",
       "      <td>0.00</td>\n",
       "      <td>310000.00</td>\n",
       "      <td>0.00</td>\n",
       "      <td>0.00</td>\n",
       "    </tr>\n",
       "    <tr>\n",
       "      <th>LPG</th>\n",
       "      <td>240000.00</td>\n",
       "      <td>0.00</td>\n",
       "      <td>0.00</td>\n",
       "      <td>0.00</td>\n",
       "      <td>0.00</td>\n",
       "    </tr>\n",
       "    <tr>\n",
       "      <th>Petrol</th>\n",
       "      <td>511031.64</td>\n",
       "      <td>120000.00</td>\n",
       "      <td>354227.20</td>\n",
       "      <td>882899.80</td>\n",
       "      <td>104249.75</td>\n",
       "    </tr>\n",
       "    <tr>\n",
       "      <th rowspan=\"4\" valign=\"top\">Individual</th>\n",
       "      <th>CNG</th>\n",
       "      <td>380749.83</td>\n",
       "      <td>108333.33</td>\n",
       "      <td>196363.64</td>\n",
       "      <td>0.00</td>\n",
       "      <td>125000.00</td>\n",
       "    </tr>\n",
       "    <tr>\n",
       "      <th>Diesel</th>\n",
       "      <td>679783.68</td>\n",
       "      <td>255806.42</td>\n",
       "      <td>432617.73</td>\n",
       "      <td>0.00</td>\n",
       "      <td>352230.72</td>\n",
       "    </tr>\n",
       "    <tr>\n",
       "      <th>LPG</th>\n",
       "      <td>207777.78</td>\n",
       "      <td>60000.00</td>\n",
       "      <td>148888.78</td>\n",
       "      <td>0.00</td>\n",
       "      <td>135000.00</td>\n",
       "    </tr>\n",
       "    <tr>\n",
       "      <th>Petrol</th>\n",
       "      <td>365458.51</td>\n",
       "      <td>132657.87</td>\n",
       "      <td>218254.08</td>\n",
       "      <td>0.00</td>\n",
       "      <td>164399.29</td>\n",
       "    </tr>\n",
       "  </tbody>\n",
       "</table>\n",
       "</div>"
      ]
     },
     "execution_count": 19,
     "metadata": {},
     "output_type": "execute_result"
    }
   ],
   "execution_count": 19
  },
  {
   "cell_type": "markdown",
   "metadata": {
    "id": "yqJqvk5qniNr"
   },
   "source": [
    "Сводная таблица показывает среднюю цену автомобилей в зависимости от типа продавца и типа владельца. Это позволяет выявить закономерности в ценообразовании: автомобили от дилеров в среднем дороже, чем от частных лиц  (кроме продажи после 3 владельца). Также можно увидеть, что с ростом количества владельцев падает цена на авто. Интересно, что разница в падении цены между 2 и 3 владельцем заметно меньше у дилеров, чем у частных лиц."
   ]
  },
  {
   "cell_type": "markdown",
   "metadata": {
    "id": "TpnXb6gip3S8"
   },
   "source": [
    "### Вывод"
   ]
  },
  {
   "cell_type": "markdown",
   "metadata": {},
   "source": [
    "В рамках данной лабораторной работы был проанализирован набор данных auto.csv, содержащий информацию о продаже подержанных автомобилей. Датасет включает 8 атрибутов: название автомобиля, год выпуска, цену продажи, пробег в километрах, тип топлива, тип продавца, тип коробки передач и категорию владельца.\n",
    "\n",
    "Использовано множество методов предобработки, в том числе:\n",
    "1. Загрузка и первичный анализ: Успешно загружен датасет, проведен анализ структуры данных с помощью методов head(), info() и describe().\n",
    "2. Работа с названиями столбцов: Выявлены и исправлены проблемы с названиями (SellingPrice → selling_price, kmdriven → km_driven, seller_Type → seller_type).\n",
    "3. Обработка пропущенных значений: Проведена проверка на наличие пропусков в данных.\n",
    "4. Устранение дубликатов: Реализована проверка явных и неявных дубликатов, исправлены ошибки в данных (например, \"Petroll\" в \"Petrol\").\n",
    "5. Приведение типов данных: Категориальные столбцы (fuel, seller_type, transmission, owner) преобразованы в соответствующий тип для оптимизации памяти.\n",
    "\n",
    "Сделаны следующие выводы из группировок и сводных таблиц:\n",
    "- Группировка по трансмиссии и топливу: Выявлены связи между типами коробок передач и используемыми видами топлива. Замечено, что среди авто на газу нет ни одной автоматической трансмиссии.\n",
    "- Анализ владельцев и трансмиссий: Определено влияние трансмисси на количество перепродаж. Авто на ручной коробке меняют владельцев больше раз, чем на автомате.\n",
    "- Динамика цен по годам: Подтверждена закономерность снижения стоимости с возрастом автомобиля, более новые модели имеют более высокую среднюю цену.\n",
    "- Ценообразование по продавцам: Сводная таблица показала различия в ценах между дилерами и частными продавцами (авто от дилера, в среднем, дороже).\n",
    "\n",
    "Проведенный анализ позволил выявить основные закономерности рынка подержанных автомобилей и продемонстрировал эффективность применения методов предварительной обработки данных для получения качественных аналитических выводов.\n"
   ]
  },
  {
   "cell_type": "markdown",
   "metadata": {},
   "source": [
    "### Дополнительное задание"
   ]
  },
  {
   "metadata": {
    "ExecuteTime": {
     "end_time": "2025-10-04T14:08:18.055648Z",
     "start_time": "2025-10-04T14:08:18.041572Z"
    }
   },
   "cell_type": "code",
   "source": "df.info()",
   "outputs": [
    {
     "name": "stdout",
     "output_type": "stream",
     "text": [
      "<class 'pandas.core.frame.DataFrame'>\n",
      "Index: 3581 entries, 0 to 4343\n",
      "Data columns (total 8 columns):\n",
      " #   Column        Non-Null Count  Dtype   \n",
      "---  ------        --------------  -----   \n",
      " 0   name          3581 non-null   object  \n",
      " 1   year          3581 non-null   int64   \n",
      " 2   price         3581 non-null   float64 \n",
      " 3   km_driven     3581 non-null   int64   \n",
      " 4   fuel          3581 non-null   category\n",
      " 5   seller_type   3581 non-null   category\n",
      " 6   transmission  3581 non-null   category\n",
      " 7   owner         3581 non-null   category\n",
      "dtypes: category(4), float64(1), int64(2), object(1)\n",
      "memory usage: 154.5+ KB\n"
     ]
    }
   ],
   "execution_count": 20
  },
  {
   "cell_type": "markdown",
   "metadata": {
    "id": "rR6WgHXYvlqD"
   },
   "source": [
    "#### Задание 2\n",
    "\n"
   ]
  },
  {
   "metadata": {},
   "cell_type": "markdown",
   "source": [
    "Создать столбец “Категория пробега (kmdriven)ˮ (с помощью категоризации).\n",
    "Выделить минимум 3 категории (маленький, большой, средний), фильтрацию\n",
    "для уровня пробега выбрать самостоятельно, аргументировать выбор. Создать\n",
    "сводную таблицу: средний и медианный пробег по категории пробега и типу\n",
    "продавца (seller type)."
   ]
  },
  {
   "metadata": {
    "ExecuteTime": {
     "end_time": "2025-10-04T14:16:25.797332Z",
     "start_time": "2025-10-04T14:16:25.790741Z"
    }
   },
   "cell_type": "code",
   "source": "df[\"km_driven\"].describe()",
   "outputs": [
    {
     "data": {
      "text/plain": [
       "count      3581.000000\n",
       "mean      69220.998324\n",
       "std       47566.494464\n",
       "min           1.000000\n",
       "25%       36000.000000\n",
       "50%       60000.000000\n",
       "75%       90000.000000\n",
       "max      806599.000000\n",
       "Name: km_driven, dtype: float64"
      ]
     },
     "execution_count": 25,
     "metadata": {},
     "output_type": "execute_result"
    }
   ],
   "execution_count": 25
  },
  {
   "metadata": {},
   "cell_type": "markdown",
   "source": "Для категорий пробега \"маленький\" и \"большой\" выбраны крайние четверти значений. \"Средняя\" занимает средние две четверти."
  },
  {
   "cell_type": "code",
   "metadata": {
    "id": "wG5TGQpevlBq",
    "ExecuteTime": {
     "end_time": "2025-10-04T14:18:49.121313Z",
     "start_time": "2025-10-04T14:18:49.101773Z"
    }
   },
   "source": [
    "import numpy as np\n",
    "\n",
    "q_low, q_high = df[\"km_driven\"].quantile([1/4, 3/4])\n",
    "bins = [-np.inf, q_low, q_high, np.inf]\n",
    "labels = [\"маленький\", \"средний\", \"большой\"]\n",
    "\n",
    "df[\"Категория пробега (km_driven)\"] = pd.cut(\n",
    "    df[\"km_driven\"],\n",
    "    bins=bins,\n",
    "    labels=labels,\n",
    "    include_lowest=True,\n",
    "    right=True,\n",
    "    ordered=True\n",
    ")\n",
    "\n",
    "pivot = df.pivot_table(\n",
    "    index=[\"Категория пробега (kmdriven)\", \"seller_type\"],\n",
    "    values=\"km_driven\",\n",
    "    aggfunc=[\"mean\", \"median\"]\n",
    ").round(0)\n",
    "\n",
    "pivot"
   ],
   "outputs": [
    {
     "name": "stderr",
     "output_type": "stream",
     "text": [
      "C:\\Users\\max\\AppData\\Local\\Temp\\ipykernel_11280\\4192100157.py:14: FutureWarning: The default value of observed=False is deprecated and will change to observed=True in a future version of pandas. Specify observed=False to silence this warning and retain the current behavior\n",
      "  pivot = df.pivot_table(\n",
      "C:\\Users\\max\\AppData\\Local\\Temp\\ipykernel_11280\\4192100157.py:14: FutureWarning: The default value of observed=False is deprecated and will change to observed=True in a future version of pandas. Specify observed=False to silence this warning and retain the current behavior\n",
      "  pivot = df.pivot_table(\n"
     ]
    },
    {
     "data": {
      "text/plain": [
       "                                              mean    median\n",
       "                                         km_driven km_driven\n",
       "Категория пробега (kmdriven) seller_type                    \n",
       "маленький                    Dealer        25938.0   27002.0\n",
       "                             Individual    25558.0   25000.0\n",
       "средний                      Dealer        61584.0   60000.0\n",
       "                             Individual    65099.0   66643.0\n",
       "большой                      Dealer       121349.0   98300.0\n",
       "                             Individual   121238.0  110000.0"
      ],
      "text/html": [
       "<div>\n",
       "<style scoped>\n",
       "    .dataframe tbody tr th:only-of-type {\n",
       "        vertical-align: middle;\n",
       "    }\n",
       "\n",
       "    .dataframe tbody tr th {\n",
       "        vertical-align: top;\n",
       "    }\n",
       "\n",
       "    .dataframe thead tr th {\n",
       "        text-align: left;\n",
       "    }\n",
       "\n",
       "    .dataframe thead tr:last-of-type th {\n",
       "        text-align: right;\n",
       "    }\n",
       "</style>\n",
       "<table border=\"1\" class=\"dataframe\">\n",
       "  <thead>\n",
       "    <tr>\n",
       "      <th></th>\n",
       "      <th></th>\n",
       "      <th>mean</th>\n",
       "      <th>median</th>\n",
       "    </tr>\n",
       "    <tr>\n",
       "      <th></th>\n",
       "      <th></th>\n",
       "      <th>km_driven</th>\n",
       "      <th>km_driven</th>\n",
       "    </tr>\n",
       "    <tr>\n",
       "      <th>Категория пробега (kmdriven)</th>\n",
       "      <th>seller_type</th>\n",
       "      <th></th>\n",
       "      <th></th>\n",
       "    </tr>\n",
       "  </thead>\n",
       "  <tbody>\n",
       "    <tr>\n",
       "      <th rowspan=\"2\" valign=\"top\">маленький</th>\n",
       "      <th>Dealer</th>\n",
       "      <td>25938.0</td>\n",
       "      <td>27002.0</td>\n",
       "    </tr>\n",
       "    <tr>\n",
       "      <th>Individual</th>\n",
       "      <td>25558.0</td>\n",
       "      <td>25000.0</td>\n",
       "    </tr>\n",
       "    <tr>\n",
       "      <th rowspan=\"2\" valign=\"top\">средний</th>\n",
       "      <th>Dealer</th>\n",
       "      <td>61584.0</td>\n",
       "      <td>60000.0</td>\n",
       "    </tr>\n",
       "    <tr>\n",
       "      <th>Individual</th>\n",
       "      <td>65099.0</td>\n",
       "      <td>66643.0</td>\n",
       "    </tr>\n",
       "    <tr>\n",
       "      <th rowspan=\"2\" valign=\"top\">большой</th>\n",
       "      <th>Dealer</th>\n",
       "      <td>121349.0</td>\n",
       "      <td>98300.0</td>\n",
       "    </tr>\n",
       "    <tr>\n",
       "      <th>Individual</th>\n",
       "      <td>121238.0</td>\n",
       "      <td>110000.0</td>\n",
       "    </tr>\n",
       "  </tbody>\n",
       "</table>\n",
       "</div>"
      ]
     },
     "execution_count": 29,
     "metadata": {},
     "output_type": "execute_result"
    }
   ],
   "execution_count": 29
  },
  {
   "cell_type": "markdown",
   "metadata": {
    "id": "y-qpTuhTvon3"
   },
   "source": [
    "Пробег монотонно растет от категории “маленький” к “средний” и “большой”, значит категоризация выполнена верно.\n",
    "- В \"маленьком\" пробеге у дилеров есть медиана выше среднего, значит есть машины с очень малым пробегом.\n",
    "- В \"среднем\" пробеге частников типичный пробег выше примерно на 10%, чем у дилеров.\n",
    "- В \"среднем\" и \"большом\" пробеге у дилеров медианный пробег ниже, чем у частников, но есть машины с очень высоким пробегом."
   ]
  },
  {
   "metadata": {},
   "cell_type": "markdown",
   "source": [
    "#### Задание 9\n",
    "\n"
   ]
  },
  {
   "metadata": {},
   "cell_type": "markdown",
   "source": [
    "Создать столбец “Категория пробега (kmdriven)ˮ (с помощью категоризации).\n",
    "Выделить минимум 3 категории (маленький, большой, средний), фильтрацию\n",
    "для уровня пробега выбрать самостоятельно, аргументировать выбор. Создать\n",
    "сводную таблицу: средняя и медианная price по категории пробега и\n",
    "seller_type."
   ]
  },
  {
   "metadata": {
    "ExecuteTime": {
     "end_time": "2025-10-04T14:33:39.607761Z",
     "start_time": "2025-10-04T14:33:39.589526Z"
    }
   },
   "cell_type": "code",
   "source": [
    "import numpy as np\n",
    "\n",
    "q_low, q_high = df[\"km_driven\"].quantile([1/4, 3/4])\n",
    "bins = [-np.inf, q_low, q_high, np.inf]\n",
    "labels = [\"маленький\", \"средний\", \"большой\"]\n",
    "\n",
    "df[\"Категория пробега (km_driven)\"] = pd.cut(\n",
    "    df[\"km_driven\"],\n",
    "    bins=bins,\n",
    "    labels=labels,\n",
    "    include_lowest=True,\n",
    "    right=True,\n",
    "    ordered=True\n",
    ")\n",
    "\n",
    "pivot = df.pivot_table(\n",
    "    index=[\"Категория пробега (kmdriven)\", \"seller_type\"],\n",
    "    values=\"price\",\n",
    "    aggfunc=[\"mean\", \"median\"]\n",
    ").round(0)\n",
    "\n",
    "pivot"
   ],
   "outputs": [
    {
     "name": "stderr",
     "output_type": "stream",
     "text": [
      "C:\\Users\\max\\AppData\\Local\\Temp\\ipykernel_11280\\1042504866.py:16: FutureWarning: The default value of observed=False is deprecated and will change to observed=True in a future version of pandas. Specify observed=False to silence this warning and retain the current behavior\n",
      "  pivot = df.pivot_table(\n",
      "C:\\Users\\max\\AppData\\Local\\Temp\\ipykernel_11280\\1042504866.py:16: FutureWarning: The default value of observed=False is deprecated and will change to observed=True in a future version of pandas. Specify observed=False to silence this warning and retain the current behavior\n",
      "  pivot = df.pivot_table(\n"
     ]
    },
    {
     "data": {
      "text/plain": [
       "                                              mean    median\n",
       "                                             price     price\n",
       "Категория пробега (kmdriven) seller_type                    \n",
       "маленький                    Dealer       760701.0  550000.0\n",
       "                             Individual   580910.0  455000.0\n",
       "средний                      Dealer       577983.0  450000.0\n",
       "                             Individual   379934.0  275000.0\n",
       "большой                      Dealer       594589.0  450000.0\n",
       "                             Individual   331660.0  260000.0"
      ],
      "text/html": [
       "<div>\n",
       "<style scoped>\n",
       "    .dataframe tbody tr th:only-of-type {\n",
       "        vertical-align: middle;\n",
       "    }\n",
       "\n",
       "    .dataframe tbody tr th {\n",
       "        vertical-align: top;\n",
       "    }\n",
       "\n",
       "    .dataframe thead tr th {\n",
       "        text-align: left;\n",
       "    }\n",
       "\n",
       "    .dataframe thead tr:last-of-type th {\n",
       "        text-align: right;\n",
       "    }\n",
       "</style>\n",
       "<table border=\"1\" class=\"dataframe\">\n",
       "  <thead>\n",
       "    <tr>\n",
       "      <th></th>\n",
       "      <th></th>\n",
       "      <th>mean</th>\n",
       "      <th>median</th>\n",
       "    </tr>\n",
       "    <tr>\n",
       "      <th></th>\n",
       "      <th></th>\n",
       "      <th>price</th>\n",
       "      <th>price</th>\n",
       "    </tr>\n",
       "    <tr>\n",
       "      <th>Категория пробега (kmdriven)</th>\n",
       "      <th>seller_type</th>\n",
       "      <th></th>\n",
       "      <th></th>\n",
       "    </tr>\n",
       "  </thead>\n",
       "  <tbody>\n",
       "    <tr>\n",
       "      <th rowspan=\"2\" valign=\"top\">маленький</th>\n",
       "      <th>Dealer</th>\n",
       "      <td>760701.0</td>\n",
       "      <td>550000.0</td>\n",
       "    </tr>\n",
       "    <tr>\n",
       "      <th>Individual</th>\n",
       "      <td>580910.0</td>\n",
       "      <td>455000.0</td>\n",
       "    </tr>\n",
       "    <tr>\n",
       "      <th rowspan=\"2\" valign=\"top\">средний</th>\n",
       "      <th>Dealer</th>\n",
       "      <td>577983.0</td>\n",
       "      <td>450000.0</td>\n",
       "    </tr>\n",
       "    <tr>\n",
       "      <th>Individual</th>\n",
       "      <td>379934.0</td>\n",
       "      <td>275000.0</td>\n",
       "    </tr>\n",
       "    <tr>\n",
       "      <th rowspan=\"2\" valign=\"top\">большой</th>\n",
       "      <th>Dealer</th>\n",
       "      <td>594589.0</td>\n",
       "      <td>450000.0</td>\n",
       "    </tr>\n",
       "    <tr>\n",
       "      <th>Individual</th>\n",
       "      <td>331660.0</td>\n",
       "      <td>260000.0</td>\n",
       "    </tr>\n",
       "  </tbody>\n",
       "</table>\n",
       "</div>"
      ]
     },
     "execution_count": 30,
     "metadata": {},
     "output_type": "execute_result"
    }
   ],
   "execution_count": 30
  },
  {
   "metadata": {},
   "cell_type": "markdown",
   "source": [
    "Категории пробега взяты из задания 2\n",
    "\n",
    "- У частных продавцов цена монотонно снижается с ростом пробега, пробег сильно снижает цену.\n",
    "- У дилеров \"средний\" пробег снижает цену относительно \"маленького\" пробега, однако дальнейшее увеличение пробега до \"большого\" не оказывает значительного влияния на цену.\n",
    "- У дилеров есть автомобили с очень высокой ценой в категории \"большой\" пробег. Вероятно, уникальные коллекционные авто."
   ]
  },
  {
   "metadata": {},
   "cell_type": "markdown",
   "source": [
    "#### Задание 13\n",
    "\n"
   ]
  },
  {
   "metadata": {},
   "cell_type": "markdown",
   "source": [
    "Создать столбец “Категория стоимости (price)ˮ (с помощью категоризации).\n",
    "Выделить минимум 3 категории (низкая, высокая, средняя), фильтрацию для\n",
    "уровня цены выбрать самостоятельно, аргументировать выбор. Создать\n",
    "сводную таблицу: средняя и медианная price по категории цены и owner."
   ]
  },
  {
   "metadata": {
    "ExecuteTime": {
     "end_time": "2025-10-04T14:53:46.646306Z",
     "start_time": "2025-10-04T14:53:46.637072Z"
    }
   },
   "cell_type": "code",
   "source": "df[\"price\"].describe()",
   "outputs": [
    {
     "data": {
      "text/plain": [
       "count    3.581000e+03\n",
       "mean     4.739690e+05\n",
       "std      5.090715e+05\n",
       "min      2.000000e+04\n",
       "25%      2.000000e+05\n",
       "50%      3.500000e+05\n",
       "75%      6.000000e+05\n",
       "max      8.900000e+06\n",
       "Name: price, dtype: float64"
      ]
     },
     "execution_count": 31,
     "metadata": {},
     "output_type": "execute_result"
    }
   ],
   "execution_count": 31
  },
  {
   "metadata": {
    "ExecuteTime": {
     "end_time": "2025-10-04T15:10:10.842668Z",
     "start_time": "2025-10-04T15:10:10.817371Z"
    }
   },
   "cell_type": "code",
   "source": [
    "import numpy as np\n",
    "\n",
    "q_low, q_high = df[\"price\"].quantile([1/4, 3/4])\n",
    "bins = [-np.inf, q_low, q_high, np.inf]\n",
    "labels = [\"низкая\", \"средняя\", \"высокая\"]\n",
    "\n",
    "df[\"Категория стоимости (price)\"] = pd.cut(\n",
    "    df[\"price\"],\n",
    "    bins=bins,\n",
    "    labels=labels,\n",
    "    include_lowest=True,\n",
    "    right=True,\n",
    "    ordered=True\n",
    ")\n",
    "\n",
    "pivot = df.pivot_table(\n",
    "    index=[\"Категория стоимости (price)\", \"owner\"],\n",
    "    values=\"price\",\n",
    "    aggfunc=[\"mean\", \"median\"]\n",
    ").round(0)\n",
    "\n",
    "pivot"
   ],
   "outputs": [
    {
     "name": "stderr",
     "output_type": "stream",
     "text": [
      "C:\\Users\\max\\AppData\\Local\\Temp\\ipykernel_11280\\3803499507.py:17: FutureWarning: The default value of observed=False is deprecated and will change to observed=True in a future version of pandas. Specify observed=False to silence this warning and retain the current behavior\n",
      "  pivot = df.pivot_table(\n",
      "C:\\Users\\max\\AppData\\Local\\Temp\\ipykernel_11280\\3803499507.py:17: FutureWarning: The default value of observed=False is deprecated and will change to observed=True in a future version of pandas. Specify observed=False to silence this warning and retain the current behavior\n",
      "  pivot = df.pivot_table(\n"
     ]
    },
    {
     "data": {
      "text/plain": [
       "                                                       mean     median\n",
       "                                                      price      price\n",
       "Категория стоимости (price) owner                                     \n",
       "низкая                      First Owner            134870.0   140000.0\n",
       "                            Fourth & Above Owner   107980.0   110000.0\n",
       "                            Second Owner           126019.0   125000.0\n",
       "                            Third Owner            118844.0   120000.0\n",
       "средняя                     First Owner            394217.0   385000.0\n",
       "                            Fourth & Above Owner   304000.0   260000.0\n",
       "                            Second Owner           355733.0   330000.0\n",
       "                            Test Drive Car         541000.0   541000.0\n",
       "                            Third Owner            334390.0   320000.0\n",
       "высокая                     First Owner           1097298.0   819999.0\n",
       "                            Fourth & Above Owner   700000.0   700000.0\n",
       "                            Second Owner           994580.0   832500.0\n",
       "                            Test Drive Car         980125.0   947500.0\n",
       "                            Third Owner           1070778.0  1000000.0"
      ],
      "text/html": [
       "<div>\n",
       "<style scoped>\n",
       "    .dataframe tbody tr th:only-of-type {\n",
       "        vertical-align: middle;\n",
       "    }\n",
       "\n",
       "    .dataframe tbody tr th {\n",
       "        vertical-align: top;\n",
       "    }\n",
       "\n",
       "    .dataframe thead tr th {\n",
       "        text-align: left;\n",
       "    }\n",
       "\n",
       "    .dataframe thead tr:last-of-type th {\n",
       "        text-align: right;\n",
       "    }\n",
       "</style>\n",
       "<table border=\"1\" class=\"dataframe\">\n",
       "  <thead>\n",
       "    <tr>\n",
       "      <th></th>\n",
       "      <th></th>\n",
       "      <th>mean</th>\n",
       "      <th>median</th>\n",
       "    </tr>\n",
       "    <tr>\n",
       "      <th></th>\n",
       "      <th></th>\n",
       "      <th>price</th>\n",
       "      <th>price</th>\n",
       "    </tr>\n",
       "    <tr>\n",
       "      <th>Категория стоимости (price)</th>\n",
       "      <th>owner</th>\n",
       "      <th></th>\n",
       "      <th></th>\n",
       "    </tr>\n",
       "  </thead>\n",
       "  <tbody>\n",
       "    <tr>\n",
       "      <th rowspan=\"4\" valign=\"top\">низкая</th>\n",
       "      <th>First Owner</th>\n",
       "      <td>134870.0</td>\n",
       "      <td>140000.0</td>\n",
       "    </tr>\n",
       "    <tr>\n",
       "      <th>Fourth &amp; Above Owner</th>\n",
       "      <td>107980.0</td>\n",
       "      <td>110000.0</td>\n",
       "    </tr>\n",
       "    <tr>\n",
       "      <th>Second Owner</th>\n",
       "      <td>126019.0</td>\n",
       "      <td>125000.0</td>\n",
       "    </tr>\n",
       "    <tr>\n",
       "      <th>Third Owner</th>\n",
       "      <td>118844.0</td>\n",
       "      <td>120000.0</td>\n",
       "    </tr>\n",
       "    <tr>\n",
       "      <th rowspan=\"5\" valign=\"top\">средняя</th>\n",
       "      <th>First Owner</th>\n",
       "      <td>394217.0</td>\n",
       "      <td>385000.0</td>\n",
       "    </tr>\n",
       "    <tr>\n",
       "      <th>Fourth &amp; Above Owner</th>\n",
       "      <td>304000.0</td>\n",
       "      <td>260000.0</td>\n",
       "    </tr>\n",
       "    <tr>\n",
       "      <th>Second Owner</th>\n",
       "      <td>355733.0</td>\n",
       "      <td>330000.0</td>\n",
       "    </tr>\n",
       "    <tr>\n",
       "      <th>Test Drive Car</th>\n",
       "      <td>541000.0</td>\n",
       "      <td>541000.0</td>\n",
       "    </tr>\n",
       "    <tr>\n",
       "      <th>Third Owner</th>\n",
       "      <td>334390.0</td>\n",
       "      <td>320000.0</td>\n",
       "    </tr>\n",
       "    <tr>\n",
       "      <th rowspan=\"5\" valign=\"top\">высокая</th>\n",
       "      <th>First Owner</th>\n",
       "      <td>1097298.0</td>\n",
       "      <td>819999.0</td>\n",
       "    </tr>\n",
       "    <tr>\n",
       "      <th>Fourth &amp; Above Owner</th>\n",
       "      <td>700000.0</td>\n",
       "      <td>700000.0</td>\n",
       "    </tr>\n",
       "    <tr>\n",
       "      <th>Second Owner</th>\n",
       "      <td>994580.0</td>\n",
       "      <td>832500.0</td>\n",
       "    </tr>\n",
       "    <tr>\n",
       "      <th>Test Drive Car</th>\n",
       "      <td>980125.0</td>\n",
       "      <td>947500.0</td>\n",
       "    </tr>\n",
       "    <tr>\n",
       "      <th>Third Owner</th>\n",
       "      <td>1070778.0</td>\n",
       "      <td>1000000.0</td>\n",
       "    </tr>\n",
       "  </tbody>\n",
       "</table>\n",
       "</div>"
      ]
     },
     "execution_count": 34,
     "metadata": {},
     "output_type": "execute_result"
    }
   ],
   "execution_count": 34
  },
  {
   "metadata": {},
   "cell_type": "markdown",
   "source": [
    "- В \"низкой\" и \"средней\" категориях цена монотонно снижается с ростом числа владельцев, скидка значительная.\n",
    "- Категория владельцев \"Test Drive Car\" встречается только в \"средней\" (с ценой выше средней в категории) и \"в\"ысокой\" категориях.\n",
    "- В \"высокой\" категории стоимости зависимость от количества владельцев слабее. У третьего владельца медиана выше, чем у первого. Вероятно, это из-за коллекционных авто."
   ]
  },
  {
   "metadata": {},
   "cell_type": "markdown",
   "source": [
    "#### Задание 17\n",
    "\n"
   ]
  },
  {
   "metadata": {},
   "cell_type": "markdown",
   "source": [
    "Создать столбец “Категория года (year)ˮ (с помощью категоризации).\n",
    "Выделить минимум 3 категории (старая, новая, средняя), фильтрацию для года\n",
    "выбрать самостоятельно, аргументировать выбор. Создать группировку:\n",
    "средний, максимальный, минимальный и медианный price по категории года."
   ]
  },
  {
   "metadata": {
    "ExecuteTime": {
     "end_time": "2025-10-04T15:13:39.630869Z",
     "start_time": "2025-10-04T15:13:39.623530Z"
    }
   },
   "cell_type": "code",
   "source": "df[\"year\"].describe()\n",
   "outputs": [
    {
     "data": {
      "text/plain": [
       "count    3581.000000\n",
       "mean     2012.963697\n",
       "std         4.250379\n",
       "min      1992.000000\n",
       "25%      2010.000000\n",
       "50%      2013.000000\n",
       "75%      2016.000000\n",
       "max      2020.000000\n",
       "Name: year, dtype: float64"
      ]
     },
     "execution_count": 35,
     "metadata": {},
     "output_type": "execute_result"
    }
   ],
   "execution_count": 35
  },
  {
   "metadata": {
    "ExecuteTime": {
     "end_time": "2025-10-04T15:18:15.743482Z",
     "start_time": "2025-10-04T15:18:15.725698Z"
    }
   },
   "cell_type": "code",
   "source": [
    "import numpy as np\n",
    "\n",
    "q_low, q_high = df[\"year\"].quantile([1/4, 3/4])\n",
    "bins = [-np.inf, q_low, q_high, np.inf]\n",
    "labels = [\"старая\", \"средняя\", \"новая\"]\n",
    "\n",
    "df[\"Категория года (year)\"] = pd.cut(\n",
    "    df[\"year\"],\n",
    "    bins=bins,\n",
    "    labels=labels,\n",
    "    include_lowest=True,\n",
    "    right=True,\n",
    "    ordered=True\n",
    ")\n",
    "\n",
    "pivot = df.pivot_table(\n",
    "    index=[\"Категория года (year)\"],\n",
    "    values=\"price\",\n",
    "    aggfunc=[\"mean\",\"max\",\"min\", \"median\"],\n",
    "    observed=False\n",
    ").round(0)\n",
    "\n",
    "pivot"
   ],
   "outputs": [
    {
     "data": {
      "text/plain": [
       "                           mean        max       min    median\n",
       "                          price      price     price     price\n",
       "Категория года (year)                                         \n",
       "старая                 192983.0  4200000.0   20000.0  140000.0\n",
       "средняя                464630.0  8900000.0   35000.0  370000.0\n",
       "новая                  795506.0  8150000.0  100000.0  650000.0"
      ],
      "text/html": [
       "<div>\n",
       "<style scoped>\n",
       "    .dataframe tbody tr th:only-of-type {\n",
       "        vertical-align: middle;\n",
       "    }\n",
       "\n",
       "    .dataframe tbody tr th {\n",
       "        vertical-align: top;\n",
       "    }\n",
       "\n",
       "    .dataframe thead tr th {\n",
       "        text-align: left;\n",
       "    }\n",
       "\n",
       "    .dataframe thead tr:last-of-type th {\n",
       "        text-align: right;\n",
       "    }\n",
       "</style>\n",
       "<table border=\"1\" class=\"dataframe\">\n",
       "  <thead>\n",
       "    <tr>\n",
       "      <th></th>\n",
       "      <th>mean</th>\n",
       "      <th>max</th>\n",
       "      <th>min</th>\n",
       "      <th>median</th>\n",
       "    </tr>\n",
       "    <tr>\n",
       "      <th></th>\n",
       "      <th>price</th>\n",
       "      <th>price</th>\n",
       "      <th>price</th>\n",
       "      <th>price</th>\n",
       "    </tr>\n",
       "    <tr>\n",
       "      <th>Категория года (year)</th>\n",
       "      <th></th>\n",
       "      <th></th>\n",
       "      <th></th>\n",
       "      <th></th>\n",
       "    </tr>\n",
       "  </thead>\n",
       "  <tbody>\n",
       "    <tr>\n",
       "      <th>старая</th>\n",
       "      <td>192983.0</td>\n",
       "      <td>4200000.0</td>\n",
       "      <td>20000.0</td>\n",
       "      <td>140000.0</td>\n",
       "    </tr>\n",
       "    <tr>\n",
       "      <th>средняя</th>\n",
       "      <td>464630.0</td>\n",
       "      <td>8900000.0</td>\n",
       "      <td>35000.0</td>\n",
       "      <td>370000.0</td>\n",
       "    </tr>\n",
       "    <tr>\n",
       "      <th>новая</th>\n",
       "      <td>795506.0</td>\n",
       "      <td>8150000.0</td>\n",
       "      <td>100000.0</td>\n",
       "      <td>650000.0</td>\n",
       "    </tr>\n",
       "  </tbody>\n",
       "</table>\n",
       "</div>"
      ]
     },
     "execution_count": 38,
     "metadata": {},
     "output_type": "execute_result"
    }
   ],
   "execution_count": 38
  },
  {
   "metadata": {},
   "cell_type": "markdown",
   "source": [
    "- Цена монотонно растет от \"старых\" к \"средним\" и \"новым\" машинам.\n",
    "- Разброс цен максимален у \"средней\" категории, возможно самая высокая неоднородность по моделям и комплектациям именно среди машин среднего возраста.\n",
    "- Нижняя граница цены растет с годом - даже самые дешевые новые машины значительно дороже старых"
   ]
  },
  {
   "metadata": {},
   "cell_type": "markdown",
   "source": "#### Задание 22"
  },
  {
   "metadata": {},
   "cell_type": "markdown",
   "source": [
    "Создать столбец “Категория года (year)ˮ (с помощью категоризации).\n",
    "Выделить минимум 3 категории (старая, новая, средняя), фильтрацию для года\n",
    "выбрать самостоятельно, аргументировать выбор. Отфильтровать набор\n",
    "данных. Выбрать только записи, где категория года = средняя + выбрать топ 2\n",
    "типа топлива по средней стоимости + пробег в определенном диапазоне\n",
    "(диапазон выбрать самостоятельно, чтобы в выборку попало достаточное\n",
    "количество записей). Создать сводные таблицы: fuel, seller_Type - медианный и\n",
    "пробег и средняя цена."
   ]
  },
  {
   "metadata": {
    "ExecuteTime": {
     "end_time": "2025-10-04T14:08:19.048607Z",
     "start_time": "2025-10-04T14:08:19.045100Z"
    }
   },
   "cell_type": "code",
   "source": "",
   "outputs": [],
   "execution_count": null
  },
  {
   "metadata": {},
   "cell_type": "markdown",
   "source": ""
  },
  {
   "metadata": {},
   "cell_type": "markdown",
   "source": "#### Задание 24"
  },
  {
   "metadata": {},
   "cell_type": "markdown",
   "source": [
    "Создать столбец “Категория стоимости (price)ˮ (с помощью категоризации).\n",
    "Выделить минимум 3 категории (низкая, высокая, средняя), фильтрацию для\n",
    "уровня цены выбрать самостоятельно, аргументировать выбор. Отфильтровать\n",
    "набор данных. Выбрать только записи, где категория цены= низкая и высокая+\n",
    "выбрать 2 типа топлива с максимальной медианной стоимостью + transmission\n",
    "c максимальным количеством записей + год в определенном диапазоне\n",
    "(диапазон выбрать самостоятельно, чтобы получить в выборке достаточное\n",
    "количество записей). Создать сводные таблицы: owner, year- средний пробег и\n",
    "медианная цена."
   ]
  },
  {
   "metadata": {
    "ExecuteTime": {
     "end_time": "2025-10-04T14:08:19.082666Z",
     "start_time": "2025-10-04T14:08:19.079025Z"
    }
   },
   "cell_type": "code",
   "source": "",
   "outputs": [],
   "execution_count": null
  },
  {
   "metadata": {},
   "cell_type": "markdown",
   "source": ""
  }
 ],
 "metadata": {
  "colab": {
   "provenance": []
  },
  "kernelspec": {
   "display_name": "Python 3 (ipykernel)",
   "language": "python",
   "name": "python3"
  },
  "language_info": {
   "codemirror_mode": {
    "name": "ipython",
    "version": 3
   },
   "file_extension": ".py",
   "mimetype": "text/x-python",
   "name": "python",
   "nbconvert_exporter": "python",
   "pygments_lexer": "ipython3",
   "version": "3.13.3"
  }
 },
 "nbformat": 4,
 "nbformat_minor": 4
}
