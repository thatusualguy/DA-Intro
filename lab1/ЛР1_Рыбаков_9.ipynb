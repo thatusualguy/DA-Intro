{
 "cells": [
  {
   "cell_type": "markdown",
   "metadata": {
    "id": "bri_pAriNFqN"
   },
   "source": [
    "**Цель работы:**\n",
    "\n",
    "Осуществить предварительную обработку данных csv-файла, выявить и устранить проблемы в этих данных."
   ]
  },
  {
   "cell_type": "markdown",
   "metadata": {
    "id": "r_e-GeJmgZ8l"
   },
   "source": [
    "# Загрузка набора данных"
   ]
  },
  {
   "cell_type": "markdown",
   "metadata": {
    "id": "eeq9ZAbSguQS"
   },
   "source": [
    "### Описание предметной области"
   ]
  },
  {
   "cell_type": "markdown",
   "metadata": {
    "id": "XHbH8zNIg0Ib"
   },
   "source": [
    "Вариант №9\n",
    "\n",
    "Набор данных: auto.csv\n",
    "\n",
    "Атрибуты:\n",
    "- имя\n",
    "- год\n",
    "- цена продажи\n",
    "- пройдено км\n",
    "- топливо\n",
    "- тип продавца\n",
    "- коробка передач\n",
    "- тип владельца"
   ]
  },
  {
   "cell_type": "markdown",
   "metadata": {
    "id": "Lwin9ia7hT1i"
   },
   "source": [
    "### 1.Чтение файла (набора данных)"
   ]
  },
  {
   "cell_type": "code",
   "metadata": {
    "id": "a5dYQO5YhOYa",
    "ExecuteTime": {
     "end_time": "2025-09-28T18:48:47.489631Z",
     "start_time": "2025-09-28T18:48:47.464831Z"
    }
   },
   "source": [
    "import pandas as pd\n",
    "\n",
    "df = pd.read_csv('auto.csv')\n",
    "df.shape"
   ],
   "outputs": [
    {
     "data": {
      "text/plain": [
       "(4344, 8)"
      ]
     },
     "execution_count": 43,
     "metadata": {},
     "output_type": "execute_result"
    }
   ],
   "execution_count": 43
  },
  {
   "cell_type": "markdown",
   "metadata": {
    "id": "p82p53SvhjLN"
   },
   "source": [
    "### 2. Обзор данных"
   ]
  },
  {
   "cell_type": "markdown",
   "metadata": {
    "id": "eAYzXaLrh-qh"
   },
   "source": [
    "2.1 Вывод первых 20 строк с помощью метода head."
   ]
  },
  {
   "cell_type": "code",
   "metadata": {
    "id": "7yMo3VZ_hotx",
    "ExecuteTime": {
     "end_time": "2025-09-28T18:48:47.608499Z",
     "start_time": "2025-09-28T18:48:47.586483Z"
    }
   },
   "source": "df.head(20)",
   "outputs": [
    {
     "data": {
      "text/plain": [
       "                               Name  year  SellingPrice  kmdriven     fuel  \\\n",
       "0                     Maruti 800 AC  2007       60000.0   70000.0   Petrol   \n",
       "1          Maruti Wagon R LXI Minor  2007      135000.0   50000.0   Petrol   \n",
       "2              Hyundai Verna 1.6 SX  2012      600000.0  100000.0   Diesel   \n",
       "3            Datsun RediGO T Option  2017      250000.0   46000.0   Petrol   \n",
       "4             Honda Amaze VX i-DTEC  2014      450000.0  141000.0   Diesel   \n",
       "5              Maruti Alto LX BSIII  2007      140000.0  125000.0   Petrol   \n",
       "6         Hyundai Xcent 1.2 Kappa S  2016      550000.0   25000.0   Petrol   \n",
       "7         Tata Indigo Grand Petroll  2014      240000.0   60000.0   Petrol   \n",
       "8          Hyundai Creta 1.6 VTVT S  2015      850000.0   25000.0  Petroll   \n",
       "9          Maruti Celerio Green VXI  2017      365000.0   78000.0      CNG   \n",
       "10          Chevrolet Sail 1.2 Base  2015      260000.0   35000.0   Petrol   \n",
       "11         Tata Indigo Grand Petrol  2014      250000.0  100000.0   Petrol   \n",
       "12  Toyota Corolla Altis 1.8 VL CVT  2018     1650000.0   25000.0   Petrol   \n",
       "13                    Maruti 800 AC  2007       60000.0   70000.0   Petrol   \n",
       "14         Maruti Wagon R LXI Minor  2007      135000.0   50000.0   Petrol   \n",
       "15             Hyundai Verna 1.6 SX  2012      600000.0  100000.0   Diesel   \n",
       "16           Datsun RediGO T Option  2017      250000.0   46000.0   Petrol   \n",
       "17            Honda Amaze VX i-DTEC  2014      450000.0  141000.0   Diesel   \n",
       "18             Maruti Alto LX BSIII  2007      140000.0  125000.0   Petrol   \n",
       "19        Hyundai Xcent 1.2 Kappa S  2016      550000.0   25000.0   Petrol   \n",
       "\n",
       "   seller_Type transmission         owner  \n",
       "0   Individual       Manual   First Owner  \n",
       "1   Individual       Manual   First Owner  \n",
       "2   Individual       Manual   First Owner  \n",
       "3   Individual       Manual   First Owner  \n",
       "4   Individual       Manual  Second Owner  \n",
       "5   Individual       Manual   First Owner  \n",
       "6   Individual       Manual   First Owner  \n",
       "7   Individual       Manual  Second Owner  \n",
       "8   Individual       Manual   First Owner  \n",
       "9   Individual       Manual   First Owner  \n",
       "10  Individual       Manual   First Owner  \n",
       "11  Individual       Manual   First Owner  \n",
       "12      Dealer    Automatic   First Owner  \n",
       "13  Individual       Manual   First Owner  \n",
       "14  Individual       Manual   First Owner  \n",
       "15  Individual       Manual   First Owner  \n",
       "16  Individual       Manual   First Owner  \n",
       "17  Individual       Manual  Second Owner  \n",
       "18  Individual       Manual   First Owner  \n",
       "19  Individual       Manual   First Owner  "
      ],
      "text/html": [
       "<div>\n",
       "<style scoped>\n",
       "    .dataframe tbody tr th:only-of-type {\n",
       "        vertical-align: middle;\n",
       "    }\n",
       "\n",
       "    .dataframe tbody tr th {\n",
       "        vertical-align: top;\n",
       "    }\n",
       "\n",
       "    .dataframe thead th {\n",
       "        text-align: right;\n",
       "    }\n",
       "</style>\n",
       "<table border=\"1\" class=\"dataframe\">\n",
       "  <thead>\n",
       "    <tr style=\"text-align: right;\">\n",
       "      <th></th>\n",
       "      <th>Name</th>\n",
       "      <th>year</th>\n",
       "      <th>SellingPrice</th>\n",
       "      <th>kmdriven</th>\n",
       "      <th>fuel</th>\n",
       "      <th>seller_Type</th>\n",
       "      <th>transmission</th>\n",
       "      <th>owner</th>\n",
       "    </tr>\n",
       "  </thead>\n",
       "  <tbody>\n",
       "    <tr>\n",
       "      <th>0</th>\n",
       "      <td>Maruti 800 AC</td>\n",
       "      <td>2007</td>\n",
       "      <td>60000.0</td>\n",
       "      <td>70000.0</td>\n",
       "      <td>Petrol</td>\n",
       "      <td>Individual</td>\n",
       "      <td>Manual</td>\n",
       "      <td>First Owner</td>\n",
       "    </tr>\n",
       "    <tr>\n",
       "      <th>1</th>\n",
       "      <td>Maruti Wagon R LXI Minor</td>\n",
       "      <td>2007</td>\n",
       "      <td>135000.0</td>\n",
       "      <td>50000.0</td>\n",
       "      <td>Petrol</td>\n",
       "      <td>Individual</td>\n",
       "      <td>Manual</td>\n",
       "      <td>First Owner</td>\n",
       "    </tr>\n",
       "    <tr>\n",
       "      <th>2</th>\n",
       "      <td>Hyundai Verna 1.6 SX</td>\n",
       "      <td>2012</td>\n",
       "      <td>600000.0</td>\n",
       "      <td>100000.0</td>\n",
       "      <td>Diesel</td>\n",
       "      <td>Individual</td>\n",
       "      <td>Manual</td>\n",
       "      <td>First Owner</td>\n",
       "    </tr>\n",
       "    <tr>\n",
       "      <th>3</th>\n",
       "      <td>Datsun RediGO T Option</td>\n",
       "      <td>2017</td>\n",
       "      <td>250000.0</td>\n",
       "      <td>46000.0</td>\n",
       "      <td>Petrol</td>\n",
       "      <td>Individual</td>\n",
       "      <td>Manual</td>\n",
       "      <td>First Owner</td>\n",
       "    </tr>\n",
       "    <tr>\n",
       "      <th>4</th>\n",
       "      <td>Honda Amaze VX i-DTEC</td>\n",
       "      <td>2014</td>\n",
       "      <td>450000.0</td>\n",
       "      <td>141000.0</td>\n",
       "      <td>Diesel</td>\n",
       "      <td>Individual</td>\n",
       "      <td>Manual</td>\n",
       "      <td>Second Owner</td>\n",
       "    </tr>\n",
       "    <tr>\n",
       "      <th>5</th>\n",
       "      <td>Maruti Alto LX BSIII</td>\n",
       "      <td>2007</td>\n",
       "      <td>140000.0</td>\n",
       "      <td>125000.0</td>\n",
       "      <td>Petrol</td>\n",
       "      <td>Individual</td>\n",
       "      <td>Manual</td>\n",
       "      <td>First Owner</td>\n",
       "    </tr>\n",
       "    <tr>\n",
       "      <th>6</th>\n",
       "      <td>Hyundai Xcent 1.2 Kappa S</td>\n",
       "      <td>2016</td>\n",
       "      <td>550000.0</td>\n",
       "      <td>25000.0</td>\n",
       "      <td>Petrol</td>\n",
       "      <td>Individual</td>\n",
       "      <td>Manual</td>\n",
       "      <td>First Owner</td>\n",
       "    </tr>\n",
       "    <tr>\n",
       "      <th>7</th>\n",
       "      <td>Tata Indigo Grand Petroll</td>\n",
       "      <td>2014</td>\n",
       "      <td>240000.0</td>\n",
       "      <td>60000.0</td>\n",
       "      <td>Petrol</td>\n",
       "      <td>Individual</td>\n",
       "      <td>Manual</td>\n",
       "      <td>Second Owner</td>\n",
       "    </tr>\n",
       "    <tr>\n",
       "      <th>8</th>\n",
       "      <td>Hyundai Creta 1.6 VTVT S</td>\n",
       "      <td>2015</td>\n",
       "      <td>850000.0</td>\n",
       "      <td>25000.0</td>\n",
       "      <td>Petroll</td>\n",
       "      <td>Individual</td>\n",
       "      <td>Manual</td>\n",
       "      <td>First Owner</td>\n",
       "    </tr>\n",
       "    <tr>\n",
       "      <th>9</th>\n",
       "      <td>Maruti Celerio Green VXI</td>\n",
       "      <td>2017</td>\n",
       "      <td>365000.0</td>\n",
       "      <td>78000.0</td>\n",
       "      <td>CNG</td>\n",
       "      <td>Individual</td>\n",
       "      <td>Manual</td>\n",
       "      <td>First Owner</td>\n",
       "    </tr>\n",
       "    <tr>\n",
       "      <th>10</th>\n",
       "      <td>Chevrolet Sail 1.2 Base</td>\n",
       "      <td>2015</td>\n",
       "      <td>260000.0</td>\n",
       "      <td>35000.0</td>\n",
       "      <td>Petrol</td>\n",
       "      <td>Individual</td>\n",
       "      <td>Manual</td>\n",
       "      <td>First Owner</td>\n",
       "    </tr>\n",
       "    <tr>\n",
       "      <th>11</th>\n",
       "      <td>Tata Indigo Grand Petrol</td>\n",
       "      <td>2014</td>\n",
       "      <td>250000.0</td>\n",
       "      <td>100000.0</td>\n",
       "      <td>Petrol</td>\n",
       "      <td>Individual</td>\n",
       "      <td>Manual</td>\n",
       "      <td>First Owner</td>\n",
       "    </tr>\n",
       "    <tr>\n",
       "      <th>12</th>\n",
       "      <td>Toyota Corolla Altis 1.8 VL CVT</td>\n",
       "      <td>2018</td>\n",
       "      <td>1650000.0</td>\n",
       "      <td>25000.0</td>\n",
       "      <td>Petrol</td>\n",
       "      <td>Dealer</td>\n",
       "      <td>Automatic</td>\n",
       "      <td>First Owner</td>\n",
       "    </tr>\n",
       "    <tr>\n",
       "      <th>13</th>\n",
       "      <td>Maruti 800 AC</td>\n",
       "      <td>2007</td>\n",
       "      <td>60000.0</td>\n",
       "      <td>70000.0</td>\n",
       "      <td>Petrol</td>\n",
       "      <td>Individual</td>\n",
       "      <td>Manual</td>\n",
       "      <td>First Owner</td>\n",
       "    </tr>\n",
       "    <tr>\n",
       "      <th>14</th>\n",
       "      <td>Maruti Wagon R LXI Minor</td>\n",
       "      <td>2007</td>\n",
       "      <td>135000.0</td>\n",
       "      <td>50000.0</td>\n",
       "      <td>Petrol</td>\n",
       "      <td>Individual</td>\n",
       "      <td>Manual</td>\n",
       "      <td>First Owner</td>\n",
       "    </tr>\n",
       "    <tr>\n",
       "      <th>15</th>\n",
       "      <td>Hyundai Verna 1.6 SX</td>\n",
       "      <td>2012</td>\n",
       "      <td>600000.0</td>\n",
       "      <td>100000.0</td>\n",
       "      <td>Diesel</td>\n",
       "      <td>Individual</td>\n",
       "      <td>Manual</td>\n",
       "      <td>First Owner</td>\n",
       "    </tr>\n",
       "    <tr>\n",
       "      <th>16</th>\n",
       "      <td>Datsun RediGO T Option</td>\n",
       "      <td>2017</td>\n",
       "      <td>250000.0</td>\n",
       "      <td>46000.0</td>\n",
       "      <td>Petrol</td>\n",
       "      <td>Individual</td>\n",
       "      <td>Manual</td>\n",
       "      <td>First Owner</td>\n",
       "    </tr>\n",
       "    <tr>\n",
       "      <th>17</th>\n",
       "      <td>Honda Amaze VX i-DTEC</td>\n",
       "      <td>2014</td>\n",
       "      <td>450000.0</td>\n",
       "      <td>141000.0</td>\n",
       "      <td>Diesel</td>\n",
       "      <td>Individual</td>\n",
       "      <td>Manual</td>\n",
       "      <td>Second Owner</td>\n",
       "    </tr>\n",
       "    <tr>\n",
       "      <th>18</th>\n",
       "      <td>Maruti Alto LX BSIII</td>\n",
       "      <td>2007</td>\n",
       "      <td>140000.0</td>\n",
       "      <td>125000.0</td>\n",
       "      <td>Petrol</td>\n",
       "      <td>Individual</td>\n",
       "      <td>Manual</td>\n",
       "      <td>First Owner</td>\n",
       "    </tr>\n",
       "    <tr>\n",
       "      <th>19</th>\n",
       "      <td>Hyundai Xcent 1.2 Kappa S</td>\n",
       "      <td>2016</td>\n",
       "      <td>550000.0</td>\n",
       "      <td>25000.0</td>\n",
       "      <td>Petrol</td>\n",
       "      <td>Individual</td>\n",
       "      <td>Manual</td>\n",
       "      <td>First Owner</td>\n",
       "    </tr>\n",
       "  </tbody>\n",
       "</table>\n",
       "</div>"
      ]
     },
     "execution_count": 44,
     "metadata": {},
     "output_type": "execute_result"
    }
   ],
   "execution_count": 44
  },
  {
   "cell_type": "markdown",
   "metadata": {
    "id": "Ze-lXxLMhpWv"
   },
   "source": [
    "2.2 Оценка данных с помощью метода info."
   ]
  },
  {
   "cell_type": "code",
   "metadata": {
    "id": "bjhngmaLiGM-",
    "ExecuteTime": {
     "end_time": "2025-09-28T18:48:47.760184Z",
     "start_time": "2025-09-28T18:48:47.745136Z"
    }
   },
   "source": "df.info()",
   "outputs": [
    {
     "name": "stdout",
     "output_type": "stream",
     "text": [
      "<class 'pandas.core.frame.DataFrame'>\n",
      "RangeIndex: 4344 entries, 0 to 4343\n",
      "Data columns (total 8 columns):\n",
      " #   Column        Non-Null Count  Dtype  \n",
      "---  ------        --------------  -----  \n",
      " 0   Name          4344 non-null   object \n",
      " 1   year          4344 non-null   int64  \n",
      " 2   SellingPrice  4342 non-null   float64\n",
      " 3   kmdriven      4343 non-null   float64\n",
      " 4   fuel          4343 non-null   object \n",
      " 5   seller_Type   4344 non-null   object \n",
      " 6   transmission  4344 non-null   object \n",
      " 7   owner         4344 non-null   object \n",
      "dtypes: float64(2), int64(1), object(5)\n",
      "memory usage: 271.6+ KB\n"
     ]
    }
   ],
   "execution_count": 45
  },
  {
   "cell_type": "markdown",
   "metadata": {
    "id": "06PDq9DAiMAY"
   },
   "source": [
    "2.3 Оценка данных с помощью метода describe."
   ]
  },
  {
   "cell_type": "code",
   "metadata": {
    "id": "cTVFwzO1jQfN",
    "ExecuteTime": {
     "end_time": "2025-09-28T18:48:48.042689Z",
     "start_time": "2025-09-28T18:48:48.019404Z"
    }
   },
   "source": "df.describe()",
   "outputs": [
    {
     "data": {
      "text/plain": [
       "              year  SellingPrice       kmdriven\n",
       "count  4344.000000  4.342000e+03    4343.000000\n",
       "mean   2013.092311  5.039987e+05   66193.063320\n",
       "std       4.214543  5.784465e+05   46636.648764\n",
       "min    1992.000000  2.000000e+04       1.000000\n",
       "25%    2011.000000  2.100000e+05   35000.000000\n",
       "50%    2014.000000  3.500000e+05   60000.000000\n",
       "75%    2016.000000  6.000000e+05   90000.000000\n",
       "max    2020.000000  8.900000e+06  806599.000000"
      ],
      "text/html": [
       "<div>\n",
       "<style scoped>\n",
       "    .dataframe tbody tr th:only-of-type {\n",
       "        vertical-align: middle;\n",
       "    }\n",
       "\n",
       "    .dataframe tbody tr th {\n",
       "        vertical-align: top;\n",
       "    }\n",
       "\n",
       "    .dataframe thead th {\n",
       "        text-align: right;\n",
       "    }\n",
       "</style>\n",
       "<table border=\"1\" class=\"dataframe\">\n",
       "  <thead>\n",
       "    <tr style=\"text-align: right;\">\n",
       "      <th></th>\n",
       "      <th>year</th>\n",
       "      <th>SellingPrice</th>\n",
       "      <th>kmdriven</th>\n",
       "    </tr>\n",
       "  </thead>\n",
       "  <tbody>\n",
       "    <tr>\n",
       "      <th>count</th>\n",
       "      <td>4344.000000</td>\n",
       "      <td>4.342000e+03</td>\n",
       "      <td>4343.000000</td>\n",
       "    </tr>\n",
       "    <tr>\n",
       "      <th>mean</th>\n",
       "      <td>2013.092311</td>\n",
       "      <td>5.039987e+05</td>\n",
       "      <td>66193.063320</td>\n",
       "    </tr>\n",
       "    <tr>\n",
       "      <th>std</th>\n",
       "      <td>4.214543</td>\n",
       "      <td>5.784465e+05</td>\n",
       "      <td>46636.648764</td>\n",
       "    </tr>\n",
       "    <tr>\n",
       "      <th>min</th>\n",
       "      <td>1992.000000</td>\n",
       "      <td>2.000000e+04</td>\n",
       "      <td>1.000000</td>\n",
       "    </tr>\n",
       "    <tr>\n",
       "      <th>25%</th>\n",
       "      <td>2011.000000</td>\n",
       "      <td>2.100000e+05</td>\n",
       "      <td>35000.000000</td>\n",
       "    </tr>\n",
       "    <tr>\n",
       "      <th>50%</th>\n",
       "      <td>2014.000000</td>\n",
       "      <td>3.500000e+05</td>\n",
       "      <td>60000.000000</td>\n",
       "    </tr>\n",
       "    <tr>\n",
       "      <th>75%</th>\n",
       "      <td>2016.000000</td>\n",
       "      <td>6.000000e+05</td>\n",
       "      <td>90000.000000</td>\n",
       "    </tr>\n",
       "    <tr>\n",
       "      <th>max</th>\n",
       "      <td>2020.000000</td>\n",
       "      <td>8.900000e+06</td>\n",
       "      <td>806599.000000</td>\n",
       "    </tr>\n",
       "  </tbody>\n",
       "</table>\n",
       "</div>"
      ]
     },
     "execution_count": 46,
     "metadata": {},
     "output_type": "execute_result"
    }
   ],
   "execution_count": 46
  },
  {
   "cell_type": "markdown",
   "metadata": {
    "id": "oOZUrZGuiGqc"
   },
   "source": [
    "\n",
    "---\n",
    "**Все столбцы с числовыми данными имеют корректный тип данных.\n",
    "Средний год выставляемой на продажу машины - 2013, в основном 2009-2017.\n",
    "Цена машин от 20_000 до 8_900_000 с большим разнообразием.\n",
    "Пробег также отличается между машинами, но большая часть лотов с пробегом меньше 100к.**\n",
    "\n",
    "---\n"
   ]
  },
  {
   "cell_type": "markdown",
   "metadata": {
    "id": "JTbo0IGDiHxn"
   },
   "source": [
    " 2.4 Оценка названий столбцов"
   ]
  },
  {
   "cell_type": "code",
   "metadata": {
    "id": "9NEyi2Odik3e",
    "ExecuteTime": {
     "end_time": "2025-09-28T18:48:48.332242Z",
     "start_time": "2025-09-28T18:48:48.323203Z"
    }
   },
   "source": "df.columns.tolist()",
   "outputs": [
    {
     "data": {
      "text/plain": [
       "['Name',\n",
       " 'year',\n",
       " 'SellingPrice',\n",
       " 'kmdriven',\n",
       " 'fuel',\n",
       " 'seller_Type',\n",
       " 'transmission',\n",
       " 'owner']"
      ]
     },
     "execution_count": 47,
     "metadata": {},
     "output_type": "execute_result"
    }
   ],
   "execution_count": 47
  },
  {
   "cell_type": "code",
   "metadata": {
    "id": "QSJBLl4qjjP8",
    "ExecuteTime": {
     "end_time": "2025-09-28T18:48:48.634190Z",
     "start_time": "2025-09-28T18:48:48.623960Z"
    }
   },
   "source": [
    "# переименование при необходимости\n",
    "df.columns = df.columns.str.lower()\n",
    "df = df.rename(columns={\n",
    "    'sellingprice': 'price',\n",
    "    'kmdriven': 'km_driven', \n",
    "})\n",
    "\n",
    "df.columns.tolist()"
   ],
   "outputs": [
    {
     "data": {
      "text/plain": [
       "['name',\n",
       " 'year',\n",
       " 'price',\n",
       " 'km_driven',\n",
       " 'fuel',\n",
       " 'seller_type',\n",
       " 'transmission',\n",
       " 'owner']"
      ]
     },
     "execution_count": 48,
     "metadata": {},
     "output_type": "execute_result"
    }
   ],
   "execution_count": 48
  },
  {
   "cell_type": "markdown",
   "metadata": {
    "id": "V0tLQcyrjnA_"
   },
   "source": [
    "### 3. Проверка пропусков"
   ]
  },
  {
   "cell_type": "code",
   "metadata": {
    "id": "xuTz-Avjj9AW",
    "ExecuteTime": {
     "end_time": "2025-09-28T18:48:48.855805Z",
     "start_time": "2025-09-28T18:48:48.832019Z"
    }
   },
   "source": [
    "print(\"Пропущено ДО\")\n",
    "missing_values = df.isnull().sum()\n",
    "print(missing_values)\n",
    "\n",
    "for name in ['price', 'km_driven']:\n",
    "    df[name] = df[name].fillna(df[name].mean())\n",
    "\n",
    "most_popular= df['fuel'].value_counts().idxmax()\n",
    "df['fuel'] = df['fuel'].fillna(most_popular)\n",
    "\n",
    "print(\"Пропущено ПОСЛЕ\")\n",
    "missing_values = df.isnull().sum()\n",
    "print(missing_values)"
   ],
   "outputs": [
    {
     "name": "stdout",
     "output_type": "stream",
     "text": [
      "Пропущено ДО\n",
      "name            0\n",
      "year            0\n",
      "price           2\n",
      "km_driven       1\n",
      "fuel            1\n",
      "seller_type     0\n",
      "transmission    0\n",
      "owner           0\n",
      "dtype: int64\n",
      "Пропущено ПОСЛЕ\n",
      "name            0\n",
      "year            0\n",
      "price           0\n",
      "km_driven       0\n",
      "fuel            0\n",
      "seller_type     0\n",
      "transmission    0\n",
      "owner           0\n",
      "dtype: int64\n"
     ]
    }
   ],
   "execution_count": 49
  },
  {
   "cell_type": "markdown",
   "metadata": {
    "id": "efZ7vgSVkPQH"
   },
   "source": [
    "---\n",
    "\n",
    "**Пропущенные в числовых колонках значения заменены на среднее по столбцу. Малое количество таких строк позволяет выполнить данное действие без изменения общего результата.\n",
    "Пропущенное значение типа топлива заменено на самое распространенное - diesel.**\n",
    "\n",
    " ---"
   ]
  },
  {
   "cell_type": "markdown",
   "metadata": {
    "id": "kkyrXXHikEXk"
   },
   "source": [
    "### 4. Проверка дубликатов"
   ]
  },
  {
   "cell_type": "markdown",
   "metadata": {
    "id": "ImqHvr3okIQ6"
   },
   "source": [
    "#### Проверка явных дубликатов"
   ]
  },
  {
   "cell_type": "code",
   "metadata": {
    "id": "qu1oh-e5lDZ1",
    "ExecuteTime": {
     "end_time": "2025-09-28T18:48:49.092703Z",
     "start_time": "2025-09-28T18:48:49.062262Z"
    }
   },
   "source": [
    "duplicates = df.duplicated().sum()\n",
    "print(f\"Явных дубликатов {duplicates}\")\n",
    "\n",
    "df[df.duplicated()].head()\n"
   ],
   "outputs": [
    {
     "name": "stdout",
     "output_type": "stream",
     "text": [
      "Явных дубликатов 763\n"
     ]
    },
    {
     "data": {
      "text/plain": [
       "                        name  year     price  km_driven    fuel seller_type  \\\n",
       "13             Maruti 800 AC  2007   60000.0    70000.0  Petrol  Individual   \n",
       "14  Maruti Wagon R LXI Minor  2007  135000.0    50000.0  Petrol  Individual   \n",
       "15      Hyundai Verna 1.6 SX  2012  600000.0   100000.0  Diesel  Individual   \n",
       "16    Datsun RediGO T Option  2017  250000.0    46000.0  Petrol  Individual   \n",
       "17     Honda Amaze VX i-DTEC  2014  450000.0   141000.0  Diesel  Individual   \n",
       "\n",
       "   transmission         owner  \n",
       "13       Manual   First Owner  \n",
       "14       Manual   First Owner  \n",
       "15       Manual   First Owner  \n",
       "16       Manual   First Owner  \n",
       "17       Manual  Second Owner  "
      ],
      "text/html": [
       "<div>\n",
       "<style scoped>\n",
       "    .dataframe tbody tr th:only-of-type {\n",
       "        vertical-align: middle;\n",
       "    }\n",
       "\n",
       "    .dataframe tbody tr th {\n",
       "        vertical-align: top;\n",
       "    }\n",
       "\n",
       "    .dataframe thead th {\n",
       "        text-align: right;\n",
       "    }\n",
       "</style>\n",
       "<table border=\"1\" class=\"dataframe\">\n",
       "  <thead>\n",
       "    <tr style=\"text-align: right;\">\n",
       "      <th></th>\n",
       "      <th>name</th>\n",
       "      <th>year</th>\n",
       "      <th>price</th>\n",
       "      <th>km_driven</th>\n",
       "      <th>fuel</th>\n",
       "      <th>seller_type</th>\n",
       "      <th>transmission</th>\n",
       "      <th>owner</th>\n",
       "    </tr>\n",
       "  </thead>\n",
       "  <tbody>\n",
       "    <tr>\n",
       "      <th>13</th>\n",
       "      <td>Maruti 800 AC</td>\n",
       "      <td>2007</td>\n",
       "      <td>60000.0</td>\n",
       "      <td>70000.0</td>\n",
       "      <td>Petrol</td>\n",
       "      <td>Individual</td>\n",
       "      <td>Manual</td>\n",
       "      <td>First Owner</td>\n",
       "    </tr>\n",
       "    <tr>\n",
       "      <th>14</th>\n",
       "      <td>Maruti Wagon R LXI Minor</td>\n",
       "      <td>2007</td>\n",
       "      <td>135000.0</td>\n",
       "      <td>50000.0</td>\n",
       "      <td>Petrol</td>\n",
       "      <td>Individual</td>\n",
       "      <td>Manual</td>\n",
       "      <td>First Owner</td>\n",
       "    </tr>\n",
       "    <tr>\n",
       "      <th>15</th>\n",
       "      <td>Hyundai Verna 1.6 SX</td>\n",
       "      <td>2012</td>\n",
       "      <td>600000.0</td>\n",
       "      <td>100000.0</td>\n",
       "      <td>Diesel</td>\n",
       "      <td>Individual</td>\n",
       "      <td>Manual</td>\n",
       "      <td>First Owner</td>\n",
       "    </tr>\n",
       "    <tr>\n",
       "      <th>16</th>\n",
       "      <td>Datsun RediGO T Option</td>\n",
       "      <td>2017</td>\n",
       "      <td>250000.0</td>\n",
       "      <td>46000.0</td>\n",
       "      <td>Petrol</td>\n",
       "      <td>Individual</td>\n",
       "      <td>Manual</td>\n",
       "      <td>First Owner</td>\n",
       "    </tr>\n",
       "    <tr>\n",
       "      <th>17</th>\n",
       "      <td>Honda Amaze VX i-DTEC</td>\n",
       "      <td>2014</td>\n",
       "      <td>450000.0</td>\n",
       "      <td>141000.0</td>\n",
       "      <td>Diesel</td>\n",
       "      <td>Individual</td>\n",
       "      <td>Manual</td>\n",
       "      <td>Second Owner</td>\n",
       "    </tr>\n",
       "  </tbody>\n",
       "</table>\n",
       "</div>"
      ]
     },
     "execution_count": 50,
     "metadata": {},
     "output_type": "execute_result"
    }
   ],
   "execution_count": 50
  },
  {
   "cell_type": "code",
   "metadata": {
    "id": "ntArgvChkK26",
    "ExecuteTime": {
     "end_time": "2025-09-28T18:48:49.305719Z",
     "start_time": "2025-09-28T18:48:49.293454Z"
    }
   },
   "source": [
    "df_before = df.shape[0]\n",
    "df = df.drop_duplicates()\n",
    "df_after = df.shape[0]\n",
    "print(f\"Удалено {df_before - df_after}, осталось {df_after}\")"
   ],
   "outputs": [
    {
     "name": "stdout",
     "output_type": "stream",
     "text": [
      "Удалено 763, осталось 3581\n"
     ]
    }
   ],
   "execution_count": 51
  },
  {
   "cell_type": "markdown",
   "metadata": {
    "id": "VeHTMcOmkLSw"
   },
   "source": [
    "#### Проверка неявных дубликатов"
   ]
  },
  {
   "cell_type": "code",
   "metadata": {
    "id": "-uOPKHlVlGo8",
    "ExecuteTime": {
     "end_time": "2025-09-28T18:48:49.606426Z",
     "start_time": "2025-09-28T18:48:49.570556Z"
    }
   },
   "source": [
    "key_columns = ['year', 'price', 'km_driven', 'fuel', 'seller_type', 'transmission', 'owner']\n",
    "implicit_duplicates = df.duplicated(subset=key_columns).sum()\n",
    "print(f\"Неявных дубликатов {implicit_duplicates}\")\n",
    "\n",
    "duplicate_mask = df.duplicated(subset=key_columns, keep=False)\n",
    "display(df[duplicate_mask].sort_values(key_columns).head(20))"
   ],
   "outputs": [
    {
     "name": "stdout",
     "output_type": "stream",
     "text": [
      "Неявных дубликатов 80\n"
     ]
    },
    {
     "data": {
      "text/plain": [
       "                                  name  year     price  km_driven    fuel  \\\n",
       "1446                     Maruti 800 AC  2002   80000.0    70000.0  Petrol   \n",
       "2929         Hyundai Santro LP zipPlus  2002   80000.0    70000.0  Petrol   \n",
       "689   Skoda Octavia Classic 1.9 TDI MT  2004  120000.0   120000.0  Diesel   \n",
       "3959               Hyundai Accent CRDi  2004  120000.0   120000.0  Diesel   \n",
       "310                 Maruti Wagon R LXI  2005   80000.0    40000.0  Petrol   \n",
       "1640          Maruti Wagon R VXI BSIII  2005   80000.0    40000.0  Petrol   \n",
       "392           Maruti Wagon R LXI Minor  2007   95000.0    80000.0  Petrol   \n",
       "684    Maruti Zen Estilo 1.1 VXI BSIII  2007   95000.0    80000.0  Petrol   \n",
       "359               Maruti SX4 Vxi BSIII  2007  100000.0    90000.0  Petrol   \n",
       "3653                 Maruti Esteem Vxi  2007  100000.0    90000.0  Petrol   \n",
       "2206           Mahindra Bolero SLX 2WD  2007  300000.0   100000.0  Diesel   \n",
       "2911               Mahindra Bolero SLX  2007  300000.0   100000.0  Diesel   \n",
       "737                    Maruti Alto LXi  2008  110000.0    90000.0  Petrol   \n",
       "1182              Maruti Alto LX BSIII  2008  110000.0    90000.0  Petrol   \n",
       "816                Chevrolet Spark 1.0  2008  120000.0   100000.0  Petrol   \n",
       "1338       Ford Fiesta 1.4 Duratec ZXI  2008  120000.0   100000.0  Petrol   \n",
       "872            Hyundai Santro Xing GLS  2009  140000.0   120000.0  Petrol   \n",
       "3521       Maruti Zen Estilo LXI BS IV  2009  140000.0   120000.0  Petrol   \n",
       "261                       Honda Jazz S  2009  300000.0    50000.0  Petrol   \n",
       "277               Hyundai i20 Asta (o)  2009  300000.0    50000.0  Petrol   \n",
       "\n",
       "     seller_type transmission         owner  \n",
       "1446  Individual       Manual  Second Owner  \n",
       "2929  Individual       Manual  Second Owner  \n",
       "689   Individual       Manual  Second Owner  \n",
       "3959  Individual       Manual  Second Owner  \n",
       "310   Individual       Manual  Second Owner  \n",
       "1640  Individual       Manual  Second Owner  \n",
       "392   Individual       Manual   First Owner  \n",
       "684   Individual       Manual   First Owner  \n",
       "359   Individual       Manual  Second Owner  \n",
       "3653  Individual       Manual  Second Owner  \n",
       "2206  Individual       Manual  Second Owner  \n",
       "2911  Individual       Manual  Second Owner  \n",
       "737   Individual       Manual  Second Owner  \n",
       "1182  Individual       Manual  Second Owner  \n",
       "816   Individual       Manual   Third Owner  \n",
       "1338  Individual       Manual   Third Owner  \n",
       "872   Individual       Manual   First Owner  \n",
       "3521  Individual       Manual   First Owner  \n",
       "261   Individual       Manual   First Owner  \n",
       "277   Individual       Manual   First Owner  "
      ],
      "text/html": [
       "<div>\n",
       "<style scoped>\n",
       "    .dataframe tbody tr th:only-of-type {\n",
       "        vertical-align: middle;\n",
       "    }\n",
       "\n",
       "    .dataframe tbody tr th {\n",
       "        vertical-align: top;\n",
       "    }\n",
       "\n",
       "    .dataframe thead th {\n",
       "        text-align: right;\n",
       "    }\n",
       "</style>\n",
       "<table border=\"1\" class=\"dataframe\">\n",
       "  <thead>\n",
       "    <tr style=\"text-align: right;\">\n",
       "      <th></th>\n",
       "      <th>name</th>\n",
       "      <th>year</th>\n",
       "      <th>price</th>\n",
       "      <th>km_driven</th>\n",
       "      <th>fuel</th>\n",
       "      <th>seller_type</th>\n",
       "      <th>transmission</th>\n",
       "      <th>owner</th>\n",
       "    </tr>\n",
       "  </thead>\n",
       "  <tbody>\n",
       "    <tr>\n",
       "      <th>1446</th>\n",
       "      <td>Maruti 800 AC</td>\n",
       "      <td>2002</td>\n",
       "      <td>80000.0</td>\n",
       "      <td>70000.0</td>\n",
       "      <td>Petrol</td>\n",
       "      <td>Individual</td>\n",
       "      <td>Manual</td>\n",
       "      <td>Second Owner</td>\n",
       "    </tr>\n",
       "    <tr>\n",
       "      <th>2929</th>\n",
       "      <td>Hyundai Santro LP zipPlus</td>\n",
       "      <td>2002</td>\n",
       "      <td>80000.0</td>\n",
       "      <td>70000.0</td>\n",
       "      <td>Petrol</td>\n",
       "      <td>Individual</td>\n",
       "      <td>Manual</td>\n",
       "      <td>Second Owner</td>\n",
       "    </tr>\n",
       "    <tr>\n",
       "      <th>689</th>\n",
       "      <td>Skoda Octavia Classic 1.9 TDI MT</td>\n",
       "      <td>2004</td>\n",
       "      <td>120000.0</td>\n",
       "      <td>120000.0</td>\n",
       "      <td>Diesel</td>\n",
       "      <td>Individual</td>\n",
       "      <td>Manual</td>\n",
       "      <td>Second Owner</td>\n",
       "    </tr>\n",
       "    <tr>\n",
       "      <th>3959</th>\n",
       "      <td>Hyundai Accent CRDi</td>\n",
       "      <td>2004</td>\n",
       "      <td>120000.0</td>\n",
       "      <td>120000.0</td>\n",
       "      <td>Diesel</td>\n",
       "      <td>Individual</td>\n",
       "      <td>Manual</td>\n",
       "      <td>Second Owner</td>\n",
       "    </tr>\n",
       "    <tr>\n",
       "      <th>310</th>\n",
       "      <td>Maruti Wagon R LXI</td>\n",
       "      <td>2005</td>\n",
       "      <td>80000.0</td>\n",
       "      <td>40000.0</td>\n",
       "      <td>Petrol</td>\n",
       "      <td>Individual</td>\n",
       "      <td>Manual</td>\n",
       "      <td>Second Owner</td>\n",
       "    </tr>\n",
       "    <tr>\n",
       "      <th>1640</th>\n",
       "      <td>Maruti Wagon R VXI BSIII</td>\n",
       "      <td>2005</td>\n",
       "      <td>80000.0</td>\n",
       "      <td>40000.0</td>\n",
       "      <td>Petrol</td>\n",
       "      <td>Individual</td>\n",
       "      <td>Manual</td>\n",
       "      <td>Second Owner</td>\n",
       "    </tr>\n",
       "    <tr>\n",
       "      <th>392</th>\n",
       "      <td>Maruti Wagon R LXI Minor</td>\n",
       "      <td>2007</td>\n",
       "      <td>95000.0</td>\n",
       "      <td>80000.0</td>\n",
       "      <td>Petrol</td>\n",
       "      <td>Individual</td>\n",
       "      <td>Manual</td>\n",
       "      <td>First Owner</td>\n",
       "    </tr>\n",
       "    <tr>\n",
       "      <th>684</th>\n",
       "      <td>Maruti Zen Estilo 1.1 VXI BSIII</td>\n",
       "      <td>2007</td>\n",
       "      <td>95000.0</td>\n",
       "      <td>80000.0</td>\n",
       "      <td>Petrol</td>\n",
       "      <td>Individual</td>\n",
       "      <td>Manual</td>\n",
       "      <td>First Owner</td>\n",
       "    </tr>\n",
       "    <tr>\n",
       "      <th>359</th>\n",
       "      <td>Maruti SX4 Vxi BSIII</td>\n",
       "      <td>2007</td>\n",
       "      <td>100000.0</td>\n",
       "      <td>90000.0</td>\n",
       "      <td>Petrol</td>\n",
       "      <td>Individual</td>\n",
       "      <td>Manual</td>\n",
       "      <td>Second Owner</td>\n",
       "    </tr>\n",
       "    <tr>\n",
       "      <th>3653</th>\n",
       "      <td>Maruti Esteem Vxi</td>\n",
       "      <td>2007</td>\n",
       "      <td>100000.0</td>\n",
       "      <td>90000.0</td>\n",
       "      <td>Petrol</td>\n",
       "      <td>Individual</td>\n",
       "      <td>Manual</td>\n",
       "      <td>Second Owner</td>\n",
       "    </tr>\n",
       "    <tr>\n",
       "      <th>2206</th>\n",
       "      <td>Mahindra Bolero SLX 2WD</td>\n",
       "      <td>2007</td>\n",
       "      <td>300000.0</td>\n",
       "      <td>100000.0</td>\n",
       "      <td>Diesel</td>\n",
       "      <td>Individual</td>\n",
       "      <td>Manual</td>\n",
       "      <td>Second Owner</td>\n",
       "    </tr>\n",
       "    <tr>\n",
       "      <th>2911</th>\n",
       "      <td>Mahindra Bolero SLX</td>\n",
       "      <td>2007</td>\n",
       "      <td>300000.0</td>\n",
       "      <td>100000.0</td>\n",
       "      <td>Diesel</td>\n",
       "      <td>Individual</td>\n",
       "      <td>Manual</td>\n",
       "      <td>Second Owner</td>\n",
       "    </tr>\n",
       "    <tr>\n",
       "      <th>737</th>\n",
       "      <td>Maruti Alto LXi</td>\n",
       "      <td>2008</td>\n",
       "      <td>110000.0</td>\n",
       "      <td>90000.0</td>\n",
       "      <td>Petrol</td>\n",
       "      <td>Individual</td>\n",
       "      <td>Manual</td>\n",
       "      <td>Second Owner</td>\n",
       "    </tr>\n",
       "    <tr>\n",
       "      <th>1182</th>\n",
       "      <td>Maruti Alto LX BSIII</td>\n",
       "      <td>2008</td>\n",
       "      <td>110000.0</td>\n",
       "      <td>90000.0</td>\n",
       "      <td>Petrol</td>\n",
       "      <td>Individual</td>\n",
       "      <td>Manual</td>\n",
       "      <td>Second Owner</td>\n",
       "    </tr>\n",
       "    <tr>\n",
       "      <th>816</th>\n",
       "      <td>Chevrolet Spark 1.0</td>\n",
       "      <td>2008</td>\n",
       "      <td>120000.0</td>\n",
       "      <td>100000.0</td>\n",
       "      <td>Petrol</td>\n",
       "      <td>Individual</td>\n",
       "      <td>Manual</td>\n",
       "      <td>Third Owner</td>\n",
       "    </tr>\n",
       "    <tr>\n",
       "      <th>1338</th>\n",
       "      <td>Ford Fiesta 1.4 Duratec ZXI</td>\n",
       "      <td>2008</td>\n",
       "      <td>120000.0</td>\n",
       "      <td>100000.0</td>\n",
       "      <td>Petrol</td>\n",
       "      <td>Individual</td>\n",
       "      <td>Manual</td>\n",
       "      <td>Third Owner</td>\n",
       "    </tr>\n",
       "    <tr>\n",
       "      <th>872</th>\n",
       "      <td>Hyundai Santro Xing GLS</td>\n",
       "      <td>2009</td>\n",
       "      <td>140000.0</td>\n",
       "      <td>120000.0</td>\n",
       "      <td>Petrol</td>\n",
       "      <td>Individual</td>\n",
       "      <td>Manual</td>\n",
       "      <td>First Owner</td>\n",
       "    </tr>\n",
       "    <tr>\n",
       "      <th>3521</th>\n",
       "      <td>Maruti Zen Estilo LXI BS IV</td>\n",
       "      <td>2009</td>\n",
       "      <td>140000.0</td>\n",
       "      <td>120000.0</td>\n",
       "      <td>Petrol</td>\n",
       "      <td>Individual</td>\n",
       "      <td>Manual</td>\n",
       "      <td>First Owner</td>\n",
       "    </tr>\n",
       "    <tr>\n",
       "      <th>261</th>\n",
       "      <td>Honda Jazz S</td>\n",
       "      <td>2009</td>\n",
       "      <td>300000.0</td>\n",
       "      <td>50000.0</td>\n",
       "      <td>Petrol</td>\n",
       "      <td>Individual</td>\n",
       "      <td>Manual</td>\n",
       "      <td>First Owner</td>\n",
       "    </tr>\n",
       "    <tr>\n",
       "      <th>277</th>\n",
       "      <td>Hyundai i20 Asta (o)</td>\n",
       "      <td>2009</td>\n",
       "      <td>300000.0</td>\n",
       "      <td>50000.0</td>\n",
       "      <td>Petrol</td>\n",
       "      <td>Individual</td>\n",
       "      <td>Manual</td>\n",
       "      <td>First Owner</td>\n",
       "    </tr>\n",
       "  </tbody>\n",
       "</table>\n",
       "</div>"
      ]
     },
     "metadata": {},
     "output_type": "display_data",
     "jetTransient": {
      "display_id": null
     }
    }
   ],
   "execution_count": 52
  },
  {
   "cell_type": "code",
   "metadata": {
    "ExecuteTime": {
     "end_time": "2025-09-28T18:48:49.857480Z",
     "start_time": "2025-09-28T18:48:49.843965Z"
    }
   },
   "source": [
    "def all_value_counts():\n",
    "    for i in [\"fuel\", \"seller_type\", \"transmission\", \"owner\"]:\n",
    "        print('\\n')\n",
    "        print(df[i].value_counts())\n",
    "\n",
    "all_value_counts()"
   ],
   "outputs": [
    {
     "name": "stdout",
     "output_type": "stream",
     "text": [
      "\n",
      "\n",
      "fuel\n",
      "Diesel      1801\n",
      "Petrol      1719\n",
      "CNG           37\n",
      "LPG           22\n",
      "Petroll        1\n",
      "Electric       1\n",
      "Name: count, dtype: int64\n",
      "\n",
      "\n",
      "seller_type\n",
      "Individual          2836\n",
      "Dealer               711\n",
      "Trustmark Dealer      33\n",
      "Dealeer                1\n",
      "Name: count, dtype: int64\n",
      "\n",
      "\n",
      "transmission\n",
      "Manual       3269\n",
      "Automatic     312\n",
      "Name: count, dtype: int64\n",
      "\n",
      "\n",
      "owner\n",
      "First Owner             2220\n",
      "Second Owner             980\n",
      "Third Owner              289\n",
      "Fourth & Above Owner      75\n",
      "Test Drive Car            17\n",
      "Name: count, dtype: int64\n"
     ]
    }
   ],
   "execution_count": 53
  },
  {
   "cell_type": "code",
   "metadata": {
    "ExecuteTime": {
     "end_time": "2025-09-28T18:48:50.121233Z",
     "start_time": "2025-09-28T18:48:50.102419Z"
    }
   },
   "source": [
    "df['fuel'] = df['fuel'].replace('Petroll', 'Petrol')\n",
    "df['seller_type'] = df['seller_type'].replace('Dealeer', 'Dealer')\n",
    "df['seller_type'] = df['seller_type'].replace('Trustmark Dealer', 'Dealer')\n",
    "all_value_counts()\n",
    "\n",
    "df_before = df.shape[0]\n",
    "# df = df.drop_duplicates(subset=key_columns)\n",
    "df_after = df.shape[0]\n",
    "print(f\"Удалено {df_before - df_after}, осталось {df_after}\")"
   ],
   "outputs": [
    {
     "name": "stdout",
     "output_type": "stream",
     "text": [
      "\n",
      "\n",
      "fuel\n",
      "Diesel      1801\n",
      "Petrol      1720\n",
      "CNG           37\n",
      "LPG           22\n",
      "Electric       1\n",
      "Name: count, dtype: int64\n",
      "\n",
      "\n",
      "seller_type\n",
      "Individual    2836\n",
      "Dealer         745\n",
      "Name: count, dtype: int64\n",
      "\n",
      "\n",
      "transmission\n",
      "Manual       3269\n",
      "Automatic     312\n",
      "Name: count, dtype: int64\n",
      "\n",
      "\n",
      "owner\n",
      "First Owner             2220\n",
      "Second Owner             980\n",
      "Third Owner              289\n",
      "Fourth & Above Owner      75\n",
      "Test Drive Car            17\n",
      "Name: count, dtype: int64\n",
      "Удалено 0, осталось 3581\n"
     ]
    }
   ],
   "execution_count": 54
  },
  {
   "cell_type": "markdown",
   "metadata": {},
   "source": [
    "---\n",
    "\n",
    "**Удалены все явные дубликаты.\n",
    "Найдены и исправлены неявные дубликаты в текстовых столбцах.\n",
    "Найдены строки, совпадающие по всем полям, кроме модели авто. Однако, данные строки оставлены в связи с частым значительным различием модели авто.**\n",
    "\n",
    " ---"
   ]
  },
  {
   "cell_type": "markdown",
   "metadata": {
    "id": "md9GhfYMlbi7"
   },
   "source": [
    "### 5. Провека типов данных"
   ]
  },
  {
   "cell_type": "code",
   "metadata": {
    "ExecuteTime": {
     "end_time": "2025-09-28T18:48:50.177456Z",
     "start_time": "2025-09-28T18:48:50.168950Z"
    }
   },
   "source": [
    "df.dtypes"
   ],
   "outputs": [
    {
     "data": {
      "text/plain": [
       "name             object\n",
       "year              int64\n",
       "price           float64\n",
       "km_driven       float64\n",
       "fuel             object\n",
       "seller_type      object\n",
       "transmission     object\n",
       "owner            object\n",
       "dtype: object"
      ]
     },
     "execution_count": 55,
     "metadata": {},
     "output_type": "execute_result"
    }
   ],
   "execution_count": 55
  },
  {
   "cell_type": "code",
   "metadata": {
    "ExecuteTime": {
     "end_time": "2025-09-28T18:48:50.337210Z",
     "start_time": "2025-09-28T18:48:50.319468Z"
    }
   },
   "source": [
    "categorical_columns = ['fuel', 'seller_type', 'transmission', 'owner']\n",
    "for col in categorical_columns:\n",
    "    df[col] = df[col].astype('category')\n",
    "\n",
    "df['km_driven'] = df['km_driven'].astype('int64')\n",
    "\n",
    "df.dtypes"
   ],
   "outputs": [
    {
     "data": {
      "text/plain": [
       "name              object\n",
       "year               int64\n",
       "price            float64\n",
       "km_driven          int64\n",
       "fuel            category\n",
       "seller_type     category\n",
       "transmission    category\n",
       "owner           category\n",
       "dtype: object"
      ]
     },
     "execution_count": 56,
     "metadata": {},
     "output_type": "execute_result"
    }
   ],
   "execution_count": 56
  },
  {
   "cell_type": "markdown",
   "metadata": {
    "id": "DPDBNN4dlx7W"
   },
   "source": [
    "---\n",
    "\n",
    "**Замечено, что пробег всех авто округлен до целых, поэтому тип столбца также сменен на целочисленный.\n",
    "Четыре последних столбца изменены на тип \"категория\".\n",
    "Остальные столбцы изменению не подлежат.**\n",
    "\n",
    " ---"
   ]
  },
  {
   "cell_type": "markdown",
   "metadata": {
    "id": "lzr0SgqlnmHy"
   },
   "source": [
    "### 6. Группировка данных"
   ]
  },
  {
   "cell_type": "markdown",
   "metadata": {
    "id": "QG_dbwzfmZoS"
   },
   "source": [
    "#### Задание 1"
   ]
  },
  {
   "cell_type": "markdown",
   "metadata": {
    "id": "CyCKTB4DmciW"
   },
   "source": [
    "*`Группировка - тип коробки передач (transmission) по количеству\n",
    "разных типов топлива (fuel) . Результат должен иметь примерно следующий вид`*"
   ]
  },
  {
   "cell_type": "code",
   "metadata": {
    "id": "tp8Bl1gumYlI",
    "ExecuteTime": {
     "end_time": "2025-09-28T18:48:50.742350Z",
     "start_time": "2025-09-28T18:48:50.723668Z"
    }
   },
   "source": [
    "df_1 = df.groupby(['transmission','fuel']).size()\n",
    "df_1.name = 'count'\n",
    "df_1"
   ],
   "outputs": [
    {
     "name": "stderr",
     "output_type": "stream",
     "text": [
      "C:\\Users\\max\\AppData\\Local\\Temp\\ipykernel_11412\\4246951689.py:1: FutureWarning: The default of observed=False is deprecated and will be changed to True in a future version of pandas. Pass observed=False to retain current behavior or observed=True to adopt the future default and silence this warning.\n",
      "  df_1 = df.groupby(['transmission','fuel']).size()\n"
     ]
    },
    {
     "data": {
      "text/plain": [
       "transmission  fuel    \n",
       "Automatic     CNG            0\n",
       "              Diesel       170\n",
       "              Electric       1\n",
       "              LPG            0\n",
       "              Petrol       141\n",
       "Manual        CNG           37\n",
       "              Diesel      1631\n",
       "              Electric       0\n",
       "              LPG           22\n",
       "              Petrol      1579\n",
       "Name: count, dtype: int64"
      ]
     },
     "execution_count": 57,
     "metadata": {},
     "output_type": "execute_result"
    }
   ],
   "execution_count": 57
  },
  {
   "cell_type": "markdown",
   "metadata": {
    "id": "jLmhNuq0mms3"
   },
   "source": "Из результата группировки видна популярность определенных комбинаций transmission-fuel среди автовладельцев. Например, ручные коробки передач могут быть более распространены с определенными типами двигателей/топлива - среди машин нет ни одной машины на автомате с газовым двигателем."
  },
  {
   "cell_type": "markdown",
   "metadata": {
    "id": "j0isGCzEne7a"
   },
   "source": [
    "#### Задание 2"
   ]
  },
  {
   "cell_type": "markdown",
   "metadata": {
    "id": "kE2vLBWbne7a"
   },
   "source": [
    "*`Группировка - тип владельца (owner) по количеству разных коробок\n",
    "передач (transmission). Создать датафрейм. Переименовать столбец с\n",
    "количеством в “сountˮ. Отсортировать по убыванию столбца “countˮ.`*"
   ]
  },
  {
   "cell_type": "code",
   "metadata": {
    "id": "ttn78Zaene7a",
    "ExecuteTime": {
     "end_time": "2025-09-28T18:48:51.022563Z",
     "start_time": "2025-09-28T18:48:51.003388Z"
    }
   },
   "source": [
    "df_2 = df.groupby(['owner','transmission'])['name'].count()\n",
    "df_2.name = 'count'\n",
    "df_2.sort_values(ascending=False).reset_index()\n"
   ],
   "outputs": [
    {
     "name": "stderr",
     "output_type": "stream",
     "text": [
      "C:\\Users\\max\\AppData\\Local\\Temp\\ipykernel_11412\\3879407770.py:1: FutureWarning: The default of observed=False is deprecated and will be changed to True in a future version of pandas. Pass observed=False to retain current behavior or observed=True to adopt the future default and silence this warning.\n",
      "  df_2 = df.groupby(['owner','transmission'])['name'].count()\n"
     ]
    },
    {
     "data": {
      "text/plain": [
       "                  owner transmission  count\n",
       "0           First Owner       Manual   1993\n",
       "1          Second Owner       Manual    916\n",
       "2           Third Owner       Manual    271\n",
       "3           First Owner    Automatic    227\n",
       "4  Fourth & Above Owner       Manual     73\n",
       "5          Second Owner    Automatic     64\n",
       "6           Third Owner    Automatic     18\n",
       "7        Test Drive Car       Manual     16\n",
       "8  Fourth & Above Owner    Automatic      2\n",
       "9        Test Drive Car    Automatic      1"
      ],
      "text/html": [
       "<div>\n",
       "<style scoped>\n",
       "    .dataframe tbody tr th:only-of-type {\n",
       "        vertical-align: middle;\n",
       "    }\n",
       "\n",
       "    .dataframe tbody tr th {\n",
       "        vertical-align: top;\n",
       "    }\n",
       "\n",
       "    .dataframe thead th {\n",
       "        text-align: right;\n",
       "    }\n",
       "</style>\n",
       "<table border=\"1\" class=\"dataframe\">\n",
       "  <thead>\n",
       "    <tr style=\"text-align: right;\">\n",
       "      <th></th>\n",
       "      <th>owner</th>\n",
       "      <th>transmission</th>\n",
       "      <th>count</th>\n",
       "    </tr>\n",
       "  </thead>\n",
       "  <tbody>\n",
       "    <tr>\n",
       "      <th>0</th>\n",
       "      <td>First Owner</td>\n",
       "      <td>Manual</td>\n",
       "      <td>1993</td>\n",
       "    </tr>\n",
       "    <tr>\n",
       "      <th>1</th>\n",
       "      <td>Second Owner</td>\n",
       "      <td>Manual</td>\n",
       "      <td>916</td>\n",
       "    </tr>\n",
       "    <tr>\n",
       "      <th>2</th>\n",
       "      <td>Third Owner</td>\n",
       "      <td>Manual</td>\n",
       "      <td>271</td>\n",
       "    </tr>\n",
       "    <tr>\n",
       "      <th>3</th>\n",
       "      <td>First Owner</td>\n",
       "      <td>Automatic</td>\n",
       "      <td>227</td>\n",
       "    </tr>\n",
       "    <tr>\n",
       "      <th>4</th>\n",
       "      <td>Fourth &amp; Above Owner</td>\n",
       "      <td>Manual</td>\n",
       "      <td>73</td>\n",
       "    </tr>\n",
       "    <tr>\n",
       "      <th>5</th>\n",
       "      <td>Second Owner</td>\n",
       "      <td>Automatic</td>\n",
       "      <td>64</td>\n",
       "    </tr>\n",
       "    <tr>\n",
       "      <th>6</th>\n",
       "      <td>Third Owner</td>\n",
       "      <td>Automatic</td>\n",
       "      <td>18</td>\n",
       "    </tr>\n",
       "    <tr>\n",
       "      <th>7</th>\n",
       "      <td>Test Drive Car</td>\n",
       "      <td>Manual</td>\n",
       "      <td>16</td>\n",
       "    </tr>\n",
       "    <tr>\n",
       "      <th>8</th>\n",
       "      <td>Fourth &amp; Above Owner</td>\n",
       "      <td>Automatic</td>\n",
       "      <td>2</td>\n",
       "    </tr>\n",
       "    <tr>\n",
       "      <th>9</th>\n",
       "      <td>Test Drive Car</td>\n",
       "      <td>Automatic</td>\n",
       "      <td>1</td>\n",
       "    </tr>\n",
       "  </tbody>\n",
       "</table>\n",
       "</div>"
      ]
     },
     "execution_count": 58,
     "metadata": {},
     "output_type": "execute_result"
    }
   ],
   "execution_count": 58
  },
  {
   "cell_type": "markdown",
   "metadata": {
    "id": "HCyyeAu6ne7a"
   },
   "source": "Из результата группировки видно распределение типов владельцев по разнообразию коробок передач в их автомобилях. Видно, что коробка автомат представлена в основном машинами после одного владельца, а четырех владельцев переживает минимальная доля, в то время как на рынке механики автомобили продаются и после четырех владельцев в значительной доле."
  },
  {
   "cell_type": "markdown",
   "metadata": {
    "id": "_3fHGp64nhUJ"
   },
   "source": [
    "#### Задание 3"
   ]
  },
  {
   "cell_type": "markdown",
   "metadata": {
    "id": "_Bc4ehyKnhUJ"
   },
   "source": [
    "*`Сводная таблица (pivot_table) - средняя стоимость для каждого года\n",
    "year. Отсортировать по убыванию. Округлить до трёх знаков`*"
   ]
  },
  {
   "cell_type": "code",
   "metadata": {
    "id": "siDovPvQnhUJ",
    "ExecuteTime": {
     "end_time": "2025-09-28T18:48:51.583214Z",
     "start_time": "2025-09-28T18:48:51.562797Z"
    }
   },
   "source": [
    "df.pivot_table(index='year', values='price', aggfunc='mean').round(3).sort_values(by='price', ascending=False)"
   ],
   "outputs": [
    {
     "data": {
      "text/plain": [
       "           price\n",
       "year            \n",
       "2019  865364.167\n",
       "2018  820420.305\n",
       "2020  804844.400\n",
       "2017  740501.394\n",
       "2016  638342.707\n",
       "2014  512003.059\n",
       "2015  511072.027\n",
       "2013  433046.285\n",
       "2012  379352.027\n",
       "2011  296028.291\n",
       "2010  276666.738\n",
       "2009  235467.420\n",
       "1996  225000.000\n",
       "2008  177668.171\n",
       "2007  165282.043\n",
       "1998  165111.111\n",
       "2006  154182.763\n",
       "2004  126697.342\n",
       "2005  114821.443\n",
       "2001  109562.438\n",
       "1995   95000.000\n",
       "1997   93000.000\n",
       "2003   87090.909\n",
       "2002   86111.111\n",
       "2000   81500.000\n",
       "1999   73888.889\n",
       "1992   50000.000"
      ],
      "text/html": [
       "<div>\n",
       "<style scoped>\n",
       "    .dataframe tbody tr th:only-of-type {\n",
       "        vertical-align: middle;\n",
       "    }\n",
       "\n",
       "    .dataframe tbody tr th {\n",
       "        vertical-align: top;\n",
       "    }\n",
       "\n",
       "    .dataframe thead th {\n",
       "        text-align: right;\n",
       "    }\n",
       "</style>\n",
       "<table border=\"1\" class=\"dataframe\">\n",
       "  <thead>\n",
       "    <tr style=\"text-align: right;\">\n",
       "      <th></th>\n",
       "      <th>price</th>\n",
       "    </tr>\n",
       "    <tr>\n",
       "      <th>year</th>\n",
       "      <th></th>\n",
       "    </tr>\n",
       "  </thead>\n",
       "  <tbody>\n",
       "    <tr>\n",
       "      <th>2019</th>\n",
       "      <td>865364.167</td>\n",
       "    </tr>\n",
       "    <tr>\n",
       "      <th>2018</th>\n",
       "      <td>820420.305</td>\n",
       "    </tr>\n",
       "    <tr>\n",
       "      <th>2020</th>\n",
       "      <td>804844.400</td>\n",
       "    </tr>\n",
       "    <tr>\n",
       "      <th>2017</th>\n",
       "      <td>740501.394</td>\n",
       "    </tr>\n",
       "    <tr>\n",
       "      <th>2016</th>\n",
       "      <td>638342.707</td>\n",
       "    </tr>\n",
       "    <tr>\n",
       "      <th>2014</th>\n",
       "      <td>512003.059</td>\n",
       "    </tr>\n",
       "    <tr>\n",
       "      <th>2015</th>\n",
       "      <td>511072.027</td>\n",
       "    </tr>\n",
       "    <tr>\n",
       "      <th>2013</th>\n",
       "      <td>433046.285</td>\n",
       "    </tr>\n",
       "    <tr>\n",
       "      <th>2012</th>\n",
       "      <td>379352.027</td>\n",
       "    </tr>\n",
       "    <tr>\n",
       "      <th>2011</th>\n",
       "      <td>296028.291</td>\n",
       "    </tr>\n",
       "    <tr>\n",
       "      <th>2010</th>\n",
       "      <td>276666.738</td>\n",
       "    </tr>\n",
       "    <tr>\n",
       "      <th>2009</th>\n",
       "      <td>235467.420</td>\n",
       "    </tr>\n",
       "    <tr>\n",
       "      <th>1996</th>\n",
       "      <td>225000.000</td>\n",
       "    </tr>\n",
       "    <tr>\n",
       "      <th>2008</th>\n",
       "      <td>177668.171</td>\n",
       "    </tr>\n",
       "    <tr>\n",
       "      <th>2007</th>\n",
       "      <td>165282.043</td>\n",
       "    </tr>\n",
       "    <tr>\n",
       "      <th>1998</th>\n",
       "      <td>165111.111</td>\n",
       "    </tr>\n",
       "    <tr>\n",
       "      <th>2006</th>\n",
       "      <td>154182.763</td>\n",
       "    </tr>\n",
       "    <tr>\n",
       "      <th>2004</th>\n",
       "      <td>126697.342</td>\n",
       "    </tr>\n",
       "    <tr>\n",
       "      <th>2005</th>\n",
       "      <td>114821.443</td>\n",
       "    </tr>\n",
       "    <tr>\n",
       "      <th>2001</th>\n",
       "      <td>109562.438</td>\n",
       "    </tr>\n",
       "    <tr>\n",
       "      <th>1995</th>\n",
       "      <td>95000.000</td>\n",
       "    </tr>\n",
       "    <tr>\n",
       "      <th>1997</th>\n",
       "      <td>93000.000</td>\n",
       "    </tr>\n",
       "    <tr>\n",
       "      <th>2003</th>\n",
       "      <td>87090.909</td>\n",
       "    </tr>\n",
       "    <tr>\n",
       "      <th>2002</th>\n",
       "      <td>86111.111</td>\n",
       "    </tr>\n",
       "    <tr>\n",
       "      <th>2000</th>\n",
       "      <td>81500.000</td>\n",
       "    </tr>\n",
       "    <tr>\n",
       "      <th>1999</th>\n",
       "      <td>73888.889</td>\n",
       "    </tr>\n",
       "    <tr>\n",
       "      <th>1992</th>\n",
       "      <td>50000.000</td>\n",
       "    </tr>\n",
       "  </tbody>\n",
       "</table>\n",
       "</div>"
      ]
     },
     "execution_count": 59,
     "metadata": {},
     "output_type": "execute_result"
    }
   ],
   "execution_count": 59
  },
  {
   "cell_type": "markdown",
   "metadata": {
    "id": "1-vw8iyUnhUK"
   },
   "source": "Из сводной таблицы видна зависимость средней цены продажи от года выпуска автомобиля. Более новые автомобили имеют более высокую среднюю стоимость, что является логичным, поскольку они меньше подвержены износу и обесцениванию."
  },
  {
   "cell_type": "markdown",
   "metadata": {
    "id": "FOlw74xCniNo"
   },
   "source": [
    "#### Задание 4"
   ]
  },
  {
   "cell_type": "markdown",
   "metadata": {
    "id": "4tvYwT25niNq"
   },
   "source": [
    "*`Сводная таблица (pivot_table) - среднее цена для каждого типа\n",
    "владельца - столбцы и типа продавца- строки. Отсортировать по возрастанию\n",
    "seller_type. Округлить до двух знаков.`*"
   ]
  },
  {
   "cell_type": "code",
   "metadata": {
    "id": "TfJ719g6niNq",
    "ExecuteTime": {
     "end_time": "2025-09-28T18:48:51.836145Z",
     "start_time": "2025-09-28T18:48:51.805095Z"
    }
   },
   "source": [
    "df.pivot_table(index='seller_type', columns='owner', values='price', aggfunc='mean', fill_value=0).round(2).sort_values(by='seller_type', ascending=True)"
   ],
   "outputs": [
    {
     "name": "stderr",
     "output_type": "stream",
     "text": [
      "C:\\Users\\max\\AppData\\Local\\Temp\\ipykernel_11412\\1250073420.py:1: FutureWarning: The default value of observed=False is deprecated and will change to observed=True in a future version of pandas. Specify observed=False to silence this warning and retain the current behavior\n",
      "  df.pivot_table(index='seller_type', columns='owner', values='price', aggfunc='mean', fill_value=0).round(2).sort_values(by='seller_type', ascending=True)\n"
     ]
    },
    {
     "data": {
      "text/plain": [
       "owner        First Owner  Fourth & Above Owner  Second Owner  Test Drive Car  \\\n",
       "seller_type                                                                    \n",
       "Dealer         686750.37             117499.50     475129.94       954293.94   \n",
       "Individual     518810.94             182958.88     326888.81            0.00   \n",
       "\n",
       "owner        Third Owner  \n",
       "seller_type               \n",
       "Dealer         462333.22  \n",
       "Individual     259836.07  "
      ],
      "text/html": [
       "<div>\n",
       "<style scoped>\n",
       "    .dataframe tbody tr th:only-of-type {\n",
       "        vertical-align: middle;\n",
       "    }\n",
       "\n",
       "    .dataframe tbody tr th {\n",
       "        vertical-align: top;\n",
       "    }\n",
       "\n",
       "    .dataframe thead th {\n",
       "        text-align: right;\n",
       "    }\n",
       "</style>\n",
       "<table border=\"1\" class=\"dataframe\">\n",
       "  <thead>\n",
       "    <tr style=\"text-align: right;\">\n",
       "      <th>owner</th>\n",
       "      <th>First Owner</th>\n",
       "      <th>Fourth &amp; Above Owner</th>\n",
       "      <th>Second Owner</th>\n",
       "      <th>Test Drive Car</th>\n",
       "      <th>Third Owner</th>\n",
       "    </tr>\n",
       "    <tr>\n",
       "      <th>seller_type</th>\n",
       "      <th></th>\n",
       "      <th></th>\n",
       "      <th></th>\n",
       "      <th></th>\n",
       "      <th></th>\n",
       "    </tr>\n",
       "  </thead>\n",
       "  <tbody>\n",
       "    <tr>\n",
       "      <th>Dealer</th>\n",
       "      <td>686750.37</td>\n",
       "      <td>117499.50</td>\n",
       "      <td>475129.94</td>\n",
       "      <td>954293.94</td>\n",
       "      <td>462333.22</td>\n",
       "    </tr>\n",
       "    <tr>\n",
       "      <th>Individual</th>\n",
       "      <td>518810.94</td>\n",
       "      <td>182958.88</td>\n",
       "      <td>326888.81</td>\n",
       "      <td>0.00</td>\n",
       "      <td>259836.07</td>\n",
       "    </tr>\n",
       "  </tbody>\n",
       "</table>\n",
       "</div>"
      ]
     },
     "execution_count": 60,
     "metadata": {},
     "output_type": "execute_result"
    }
   ],
   "execution_count": 60
  },
  {
   "cell_type": "markdown",
   "metadata": {
    "id": "yqJqvk5qniNr"
   },
   "source": "Сводная таблица показывает среднюю цену автомобилей в зависимости от типа продавца и типа владельца. Это позволяет выявить закономерности в ценообразовании: автомобили от дилеров в среднем дороже, чем от частных лиц  (кроме продажи после 3 владельца). Также можно увидеть, что с ростом количества владельцев падает цена на авто. Интересно, что разница в падении цены между 2 и 3 владельцем заметно меньше у дилеров, чем у частных лиц."
  },
  {
   "cell_type": "markdown",
   "metadata": {
    "id": "TpnXb6gip3S8"
   },
   "source": [
    "### Вывод"
   ]
  },
  {
   "cell_type": "markdown",
   "metadata": {},
   "source": [
    "В рамках данной лабораторной работы был проанализирован набор данных auto.csv, содержащий информацию о продаже подержанных автомобилей. Датасет включает 8 атрибутов: название автомобиля, год выпуска, цену продажи, пробег в километрах, тип топлива, тип продавца, тип коробки передач и категорию владельца.\n",
    "\n",
    "Использовано множество методов предобработки, в том числе:\n",
    "1. Загрузка и первичный анализ: Успешно загружен датасет, проведен анализ структуры данных с помощью методов head(), info() и describe().\n",
    "2. Работа с названиями столбцов: Выявлены и исправлены проблемы с названиями (SellingPrice → selling_price, kmdriven → km_driven, seller_Type → seller_type).\n",
    "3. Обработка пропущенных значений: Проведена проверка на наличие пропусков в данных.\n",
    "4. Устранение дубликатов: Реализована проверка явных и неявных дубликатов, исправлены ошибки в данных (например, \"Petroll\" в \"Petrol\").\n",
    "5. Приведение типов данных: Категориальные столбцы (fuel, seller_type, transmission, owner) преобразованы в соответствующий тип для оптимизации памяти.\n",
    "\n",
    "Сделаны следующие выводы из группировок и сводных таблиц:\n",
    "- Группировка по трансмиссии и топливу: Выявлены связи между типами коробок передач и используемыми видами топлива. Замечено, что среди авто на газу нет ни одной автоматической трансмиссии.\n",
    "- Анализ владельцев и трансмиссий: Определено влияние трансмисси на количество перепродаж. Авто на ручной коробке меняют владельцев больше раз, чем на автомате.\n",
    "- Динамика цен по годам: Подтверждена закономерность снижения стоимости с возрастом автомобиля, более новые модели имеют более высокую среднюю цену.\n",
    "- Ценообразование по продавцам: Сводная таблица показала различия в ценах между дилерами и частными продавцами (авто от дилера, в среднем, дороже).\n",
    "\n",
    "Проведенный анализ позволил выявить основные закономерности рынка подержанных автомобилей и продемонстрировал эффективность применения методов предварительной обработки данных для получения качественных аналитических выводов.\n"
   ]
  },
  {
   "cell_type": "markdown",
   "metadata": {},
   "source": [
    "### Дополнительное задание"
   ]
  },
  {
   "cell_type": "markdown",
   "metadata": {
    "id": "rR6WgHXYvlqD"
   },
   "source": [
    "**`Подробная формулировка задания`**"
   ]
  },
  {
   "cell_type": "code",
   "metadata": {
    "id": "wG5TGQpevlBq",
    "ExecuteTime": {
     "end_time": "2025-09-28T18:48:52.195802Z",
     "start_time": "2025-09-28T18:48:52.190309Z"
    }
   },
   "source": [
    "# код выполнения задания"
   ],
   "outputs": [],
   "execution_count": 61
  },
  {
   "cell_type": "markdown",
   "metadata": {
    "id": "y-qpTuhTvon3"
   },
   "source": [
    "***`Подробный вывод по заданию, описание полученных результатов`***"
   ]
  }
 ],
 "metadata": {
  "colab": {
   "provenance": []
  },
  "kernelspec": {
   "display_name": "dsfs",
   "language": "python",
   "name": "python3"
  },
  "language_info": {
   "codemirror_mode": {
    "name": "ipython",
    "version": 3
   },
   "file_extension": ".py",
   "mimetype": "text/x-python",
   "name": "python",
   "nbconvert_exporter": "python",
   "pygments_lexer": "ipython3",
   "version": "3.13.5"
  }
 },
 "nbformat": 4,
 "nbformat_minor": 0
}
